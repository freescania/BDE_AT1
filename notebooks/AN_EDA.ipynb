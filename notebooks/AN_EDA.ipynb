{
 "cells": [
  {
   "cell_type": "markdown",
   "metadata": {},
   "source": [
    "## EDA on NYC Taxi data"
   ]
  },
  {
   "cell_type": "code",
   "execution_count": 1,
   "metadata": {},
   "outputs": [],
   "source": [
    "# Import required packages\n",
    "import boto3\n",
    "from pyspark.sql import SparkSession\n",
    "from pyspark.sql.types import IntegerType, DoubleType\n",
    "import pyspark.sql.functions as F"
   ]
  },
  {
   "cell_type": "code",
   "execution_count": 2,
   "metadata": {},
   "outputs": [],
   "source": [
    "# Create a local spark session\n",
    "spark = SparkSession.builder \\\n",
    "        .appName('nyc-taxi-data') \\\n",
    "        .getOrCreate()"
   ]
  },
  {
   "cell_type": "code",
   "execution_count": 3,
   "metadata": {},
   "outputs": [],
   "source": [
    "# Set parameters \n",
    "bucket_name = \"nyc-tlc\" # s3 bucket name with required nyc tlc files"
   ]
  },
  {
   "cell_type": "code",
   "execution_count": 4,
   "metadata": {},
   "outputs": [],
   "source": [
    "# Create function to read S3 bucket\n",
    "def list_bucket_contents(bucket, match=''):\n",
    "    files = []\n",
    "    s3_resource = boto3.resource('s3')\n",
    "    bucket_resource = s3_resource.Bucket(bucket)\n",
    "    for key in bucket_resource.objects.all():\n",
    "        if match in key.key:\n",
    "            files.append(key.key)\n",
    "    return files"
   ]
  },
  {
   "cell_type": "code",
   "execution_count": 5,
   "metadata": {},
   "outputs": [],
   "source": [
    "# Read yellow and green taxi data for respective years\n",
    "colours = [\"yellow\",\"green\"]\n",
    "years = [\"2019\",\"2020\"]\n",
    "files = []\n",
    "\n",
    "for year in years:\n",
    "    for colour in colours:\n",
    "        match = colour + \"_tripdata_\" + year\n",
    "        files.extend(list_bucket_contents(bucket=bucket_name, match=match))"
   ]
  },
  {
   "cell_type": "code",
   "execution_count": 6,
   "metadata": {},
   "outputs": [
    {
     "data": {
      "text/plain": [
       "['trip data/yellow_tripdata_2019-01.csv',\n",
       " 'trip data/yellow_tripdata_2019-02.csv',\n",
       " 'trip data/yellow_tripdata_2019-03.csv',\n",
       " 'trip data/yellow_tripdata_2019-04.csv',\n",
       " 'trip data/yellow_tripdata_2019-05.csv',\n",
       " 'trip data/yellow_tripdata_2019-06.csv',\n",
       " 'trip data/yellow_tripdata_2019-07.csv',\n",
       " 'trip data/yellow_tripdata_2019-08.csv',\n",
       " 'trip data/yellow_tripdata_2019-09.csv',\n",
       " 'trip data/yellow_tripdata_2019-10.csv',\n",
       " 'trip data/yellow_tripdata_2019-11.csv',\n",
       " 'trip data/yellow_tripdata_2019-12.csv',\n",
       " 'trip data/green_tripdata_2019-01.csv',\n",
       " 'trip data/green_tripdata_2019-02.csv',\n",
       " 'trip data/green_tripdata_2019-03.csv',\n",
       " 'trip data/green_tripdata_2019-04.csv',\n",
       " 'trip data/green_tripdata_2019-05.csv',\n",
       " 'trip data/green_tripdata_2019-06.csv',\n",
       " 'trip data/green_tripdata_2019-07.csv',\n",
       " 'trip data/green_tripdata_2019-08.csv',\n",
       " 'trip data/green_tripdata_2019-09.csv',\n",
       " 'trip data/green_tripdata_2019-10.csv',\n",
       " 'trip data/green_tripdata_2019-11.csv',\n",
       " 'trip data/green_tripdata_2019-12.csv',\n",
       " 'trip data/yellow_tripdata_2020-01.csv',\n",
       " 'trip data/yellow_tripdata_2020-02.csv',\n",
       " 'trip data/yellow_tripdata_2020-03.csv',\n",
       " 'trip data/yellow_tripdata_2020-04.csv',\n",
       " 'trip data/yellow_tripdata_2020-05.csv',\n",
       " 'trip data/yellow_tripdata_2020-06.csv',\n",
       " 'trip data/yellow_tripdata_2020-07.csv',\n",
       " 'trip data/yellow_tripdata_2020-08.csv',\n",
       " 'trip data/yellow_tripdata_2020-09.csv',\n",
       " 'trip data/yellow_tripdata_2020-10.csv',\n",
       " 'trip data/yellow_tripdata_2020-11.csv',\n",
       " 'trip data/yellow_tripdata_2020-12.csv',\n",
       " 'trip data/green_tripdata_2020-01.csv',\n",
       " 'trip data/green_tripdata_2020-02.csv',\n",
       " 'trip data/green_tripdata_2020-03.csv',\n",
       " 'trip data/green_tripdata_2020-04.csv',\n",
       " 'trip data/green_tripdata_2020-05.csv',\n",
       " 'trip data/green_tripdata_2020-06.csv',\n",
       " 'trip data/green_tripdata_2020-07.csv',\n",
       " 'trip data/green_tripdata_2020-08.csv',\n",
       " 'trip data/green_tripdata_2020-09.csv',\n",
       " 'trip data/green_tripdata_2020-10.csv',\n",
       " 'trip data/green_tripdata_2020-11.csv',\n",
       " 'trip data/green_tripdata_2020-12.csv']"
      ]
     },
     "execution_count": 6,
     "metadata": {},
     "output_type": "execute_result"
    }
   ],
   "source": [
    "files"
   ]
  },
  {
   "cell_type": "code",
   "execution_count": 7,
   "metadata": {},
   "outputs": [],
   "source": [
    "# Read January 2019 yellow taxi cab data from S3 bucket\n",
    "yellow_df = spark.read.csv(f\"s3a://{bucket_name}/trip data/yellow_tripdata_2020-07.csv\", header=True)"
   ]
  },
  {
   "cell_type": "code",
   "execution_count": 8,
   "metadata": {},
   "outputs": [
    {
     "name": "stdout",
     "output_type": "stream",
     "text": [
      "+--------+--------------------+---------------------+---------------+-------------+----------+------------------+------------+------------+------------+-----------+-----+-------+----------+------------+---------------------+------------+--------------------+\n",
      "|VendorID|tpep_pickup_datetime|tpep_dropoff_datetime|passenger_count|trip_distance|RatecodeID|store_and_fwd_flag|PULocationID|DOLocationID|payment_type|fare_amount|extra|mta_tax|tip_amount|tolls_amount|improvement_surcharge|total_amount|congestion_surcharge|\n",
      "+--------+--------------------+---------------------+---------------+-------------+----------+------------------+------------+------------+------------+-----------+-----+-------+----------+------------+---------------------+------------+--------------------+\n",
      "|       1| 2020-07-01 00:25:32|  2020-07-01 00:33:39|              1|         1.50|         1|                 N|         238|          75|           2|          8|  0.5|    0.5|         0|           0|                  0.3|         9.3|                   0|\n",
      "|       1| 2020-07-01 00:03:19|  2020-07-01 00:25:43|              1|         9.50|         1|                 N|         138|         216|           1|       26.5|  0.5|    0.5|         0|           0|                  0.3|        27.8|                   0|\n",
      "|       2| 2020-07-01 00:15:11|  2020-07-01 00:29:24|              1|         5.85|         1|                 N|         230|          88|           2|       18.5|  0.5|    0.5|         0|           0|                  0.3|        22.3|                 2.5|\n",
      "|       2| 2020-07-01 00:30:49|  2020-07-01 00:38:26|              1|         1.90|         1|                 N|          88|         232|           1|          8|  0.5|    0.5|      2.36|           0|                  0.3|       14.16|                 2.5|\n",
      "|       2| 2020-07-01 00:31:26|  2020-07-01 00:38:02|              1|         1.25|         1|                 N|          37|          17|           2|        6.5|  0.5|    0.5|         0|           0|                  0.3|         7.8|                   0|\n",
      "|       1| 2020-07-01 00:09:00|  2020-07-01 00:34:39|              1|         9.70|         1|                 N|         140|          61|           1|         30|    3|    0.5|         0|           0|                  0.3|        33.8|                 2.5|\n",
      "|       2| 2020-07-01 00:44:08|  2020-07-01 00:58:12|              1|         5.27|         1|                 N|         137|         260|           1|       16.5|  0.5|    0.5|      6.09|           0|                  0.3|       26.39|                 2.5|\n",
      "|       2| 2020-07-01 00:49:20|  2020-07-01 00:56:44|              1|         1.32|         1|                 N|         166|          41|           2|        7.5|  0.5|    0.5|         0|           0|                  0.3|         8.8|                   0|\n",
      "|       2| 2020-07-01 00:21:59|  2020-07-01 00:25:12|              1|          .73|         1|                 N|         239|         142|           1|          5|  0.5|    0.5|      1.32|           0|                  0.3|       10.12|                 2.5|\n",
      "|       2| 2020-07-01 00:08:28|  2020-07-01 00:36:18|              1|        18.65|         2|                 N|         132|         249|           1|         52|    0|    0.5|     11.06|           0|                  0.3|       66.36|                 2.5|\n",
      "|       1| 2020-07-01 00:26:44|  2020-07-01 00:43:46|              2|         8.00|         1|                 N|         138|         112|           1|         24|  0.5|    0.5|         3|           0|                  0.3|        28.3|                   0|\n",
      "|       2| 2020-07-01 00:40:49|  2020-07-01 00:51:59|              3|         4.97|         1|                 N|          79|         195|           2|         16|  0.5|    0.5|         0|           0|                  0.3|        19.8|                 2.5|\n",
      "|       2| 2020-07-01 00:03:34|  2020-07-01 00:03:42|              1|          .00|         2|                 N|          45|          45|           1|         52|    0|    0.5|     11.06|           0|                  0.3|       66.36|                 2.5|\n",
      "|       2| 2020-07-01 00:08:53|  2020-07-01 00:12:42|              1|          .57|         1|                 N|         263|         263|           2|        4.5|  0.5|    0.5|         0|           0|                  0.3|         8.3|                 2.5|\n",
      "|       2| 2020-07-01 00:16:31|  2020-07-01 00:16:41|              1|          .00|         1|                 N|         263|         263|           1|        2.5|  0.5|    0.5|      1.89|           0|                  0.3|        8.19|                 2.5|\n",
      "|       2| 2020-07-01 00:36:43|  2020-07-01 01:02:48|              1|         9.41|         1|                 N|         170|         116|           1|       29.5|  0.5|    0.5|         3|           0|                  0.3|        36.3|                 2.5|\n",
      "|       1| 2020-07-01 00:16:31|  2020-07-01 00:16:43|              1|         2.80|         1|                 Y|         141|         141|           2|        2.5|  2.5|    0.5|         0|           0|                  0.3|         5.8|                 2.5|\n",
      "|       1| 2020-07-01 00:33:37|  2020-07-01 00:55:26|              2|        13.50|         1|                 Y|         137|         254|           2|       36.5|  2.5|    0.5|         0|           0|                  0.3|        39.8|                 2.5|\n",
      "|       2| 2020-07-01 00:15:15|  2020-07-01 00:17:44|              1|          .48|         1|                 N|         140|         140|           1|          4|  0.5|    0.5|      1.56|           0|                  0.3|        9.36|                 2.5|\n",
      "|       2| 2020-07-01 00:38:24|  2020-07-01 00:46:57|              1|         1.67|         1|                 N|         238|          75|           1|          8|  0.5|    0.5|      2.79|           0|                  0.3|       12.09|                   0|\n",
      "+--------+--------------------+---------------------+---------------+-------------+----------+------------------+------------+------------+------------+-----------+-----+-------+----------+------------+---------------------+------------+--------------------+\n",
      "only showing top 20 rows\n",
      "\n"
     ]
    }
   ],
   "source": [
    "# Show first twenty rows of the imported file\n",
    "yellow_df.show(20)"
   ]
  },
  {
   "cell_type": "code",
   "execution_count": 9,
   "metadata": {},
   "outputs": [
    {
     "name": "stdout",
     "output_type": "stream",
     "text": [
      "root\n",
      " |-- VendorID: string (nullable = true)\n",
      " |-- tpep_pickup_datetime: string (nullable = true)\n",
      " |-- tpep_dropoff_datetime: string (nullable = true)\n",
      " |-- passenger_count: string (nullable = true)\n",
      " |-- trip_distance: string (nullable = true)\n",
      " |-- RatecodeID: string (nullable = true)\n",
      " |-- store_and_fwd_flag: string (nullable = true)\n",
      " |-- PULocationID: string (nullable = true)\n",
      " |-- DOLocationID: string (nullable = true)\n",
      " |-- payment_type: string (nullable = true)\n",
      " |-- fare_amount: string (nullable = true)\n",
      " |-- extra: string (nullable = true)\n",
      " |-- mta_tax: string (nullable = true)\n",
      " |-- tip_amount: string (nullable = true)\n",
      " |-- tolls_amount: string (nullable = true)\n",
      " |-- improvement_surcharge: string (nullable = true)\n",
      " |-- total_amount: string (nullable = true)\n",
      " |-- congestion_surcharge: string (nullable = true)\n",
      "\n"
     ]
    }
   ],
   "source": [
    "# Print schema of data frame to show field data types and nullability\n",
    "yellow_df.printSchema()"
   ]
  },
  {
   "cell_type": "code",
   "execution_count": null,
   "metadata": {},
   "outputs": [],
   "source": [
    "# Read January 2019 green taxi cab data from S3 bucket\n",
    "green_df = spark.read.csv(f\"s3a://{bucket_name}/trip data/green_tripdata_2019-01.csv\", header=True)"
   ]
  },
  {
   "cell_type": "code",
   "execution_count": null,
   "metadata": {},
   "outputs": [],
   "source": [
    "green_df.show(10)"
   ]
  },
  {
   "cell_type": "code",
   "execution_count": null,
   "metadata": {},
   "outputs": [],
   "source": [
    "# Print schema of data frame to show field data types and nullability\n",
    "green_df.printSchema()"
   ]
  },
  {
   "cell_type": "markdown",
   "metadata": {},
   "source": [
    "## Recommended data type changes\n",
    "\n",
    "All fields imported as a string. The following data type conversions are required:\n",
    "\n",
    "* VendorID: string -> categorical (drop - needs processing intensive one hot encoding)\n",
    "* lpep_pickup_datetime: string -> timestamp\n",
    "* lpep_dropoff_datetime: string -> timestamp\n",
    "* store_and_fwd_flag: string -> integer (drop)\n",
    "* RatecodeID: string -> integer\n",
    "* PULocationID: string -> categorical (drop - needs processing intensive one hot encoding)\n",
    "* DOLocationID: string -> categorical (drop - needs processing intensive one hot encoding)\n",
    "* passenger_count: string -> integer\n",
    "* trip_distance: string -> double\n",
    "* fare_amount: string -> double\n",
    "* extra: string -> double\n",
    "* mta_tax: string -> double (drop - is always $0.50)\n",
    "* tip_amount: string -> double\n",
    "* tolls_amount: string -> double\n",
    "* ehail_fee: string -> double (drop - is set fee)\n",
    "* improvement_surcharge: string -> double (drop - is set fee)\n",
    "* total_amount: string -> double\n",
    "* payment_type: string -> integer\n",
    "* trip_type: string -> integer (drop - is not in other data set)\n",
    "* congestion_surcharge: string -> double (drop - is not in other data set and should be included in extras per dictionary)"
   ]
  },
  {
   "cell_type": "code",
   "execution_count": 14,
   "metadata": {},
   "outputs": [
    {
     "name": "stdout",
     "output_type": "stream",
     "text": [
      "+-------------------+-------------------+-------------+\n",
      "|    pickup_datetime|   dropoff_datetime|trip_duration|\n",
      "+-------------------+-------------------+-------------+\n",
      "|2019-01-06 15:15:08|2018-11-09 02:34:38|     -5056830|\n",
      "|2019-01-13 15:15:27|2018-12-25 07:37:43|     -1669064|\n",
      "|2019-01-20 15:15:30|2019-01-18 15:57:16|      -170294|\n",
      "|2019-01-22 16:34:14|2019-01-22 16:33:14|          -60|\n",
      "+-------------------+-------------------+-------------+\n",
      "\n"
     ]
    }
   ],
   "source": [
    "# Determine if there are any drop offs before pickups\n",
    "yellow_df.withColumn(\"pickup_datetime\", F.unix_timestamp(F.col(\"tpep_pickup_datetime\"), \"yyyy-MM-dd' 'HH:mm:ss\").cast(\"timestamp\")).\\\n",
    "    withColumn(\"dropoff_datetime\", F.unix_timestamp(F.col(\"tpep_dropoff_datetime\"), \"yyyy-MM-dd' 'HH:mm:ss\").cast(\"timestamp\")).\\\n",
    "    withColumn(\"trip_duration\", (F.col(\"dropoff_datetime\").cast(\"long\") - F.col(\"pickup_datetime\").cast(\"long\"))).\\\n",
    "    filter(F.col(\"trip_duration\") < 0).\\\n",
    "    select([\"pickup_datetime\",\"dropoff_datetime\",\"trip_duration\"]).\\\n",
    "    show()"
   ]
  },
  {
   "cell_type": "code",
   "execution_count": 10,
   "metadata": {},
   "outputs": [
    {
     "data": {
      "text/plain": [
       "0"
      ]
     },
     "execution_count": 10,
     "metadata": {},
     "output_type": "execute_result"
    }
   ],
   "source": [
    "# Look at payment types 6 = voided trips\n",
    "yellow_df.filter(F.col(\"payment_type\").astype(IntegerType()) == 6).\\\n",
    "    count()"
   ]
  },
  {
   "cell_type": "code",
   "execution_count": 11,
   "metadata": {},
   "outputs": [
    {
     "data": {
      "text/plain": [
       "3312"
      ]
     },
     "execution_count": 11,
     "metadata": {},
     "output_type": "execute_result"
    }
   ],
   "source": [
    "# Look at payment types 4 = dispute\n",
    "yellow_df.filter(F.col(\"payment_type\").astype(IntegerType()) == 4).\\\n",
    "    count()"
   ]
  },
  {
   "cell_type": "code",
   "execution_count": 20,
   "metadata": {},
   "outputs": [
    {
     "data": {
      "text/plain": [
       "0"
      ]
     },
     "execution_count": 20,
     "metadata": {},
     "output_type": "execute_result"
    }
   ],
   "source": [
    "# Look at payment types misclassified above 6\n",
    "yellow_df.filter(F.col(\"payment_type\").astype(IntegerType()) > 6).\\\n",
    "    count()"
   ]
  },
  {
   "cell_type": "code",
   "execution_count": 21,
   "metadata": {},
   "outputs": [
    {
     "data": {
      "text/plain": [
       "104"
      ]
     },
     "execution_count": 21,
     "metadata": {},
     "output_type": "execute_result"
    }
   ],
   "source": [
    "# Look at RatecodeID misclassified above 6\n",
    "yellow_df.filter(F.col(\"RatecodeID\").astype(IntegerType()) > 6).\\\n",
    "    count()"
   ]
  },
  {
   "cell_type": "code",
   "execution_count": 12,
   "metadata": {},
   "outputs": [
    {
     "data": {
      "text/plain": [
       "8988"
      ]
     },
     "execution_count": 12,
     "metadata": {},
     "output_type": "execute_result"
    }
   ],
   "source": [
    "# Look at mta tax consistently $0.50\n",
    "yellow_df.filter(F.col(\"mta_tax\").astype(DoubleType()) != 0.50).\\\n",
    "    count()\n"
   ]
  },
  {
   "cell_type": "code",
   "execution_count": 13,
   "metadata": {},
   "outputs": [
    {
     "data": {
      "text/plain": [
       "19506"
      ]
     },
     "execution_count": 13,
     "metadata": {},
     "output_type": "execute_result"
    }
   ],
   "source": [
    "# Look for less than one passenger\n",
    "yellow_df.filter(F.col(\"passenger_count\").astype(IntegerType()) < 1).\\\n",
    "    count()"
   ]
  },
  {
   "cell_type": "code",
   "execution_count": 14,
   "metadata": {},
   "outputs": [
    {
     "data": {
      "text/plain": [
       "85"
      ]
     },
     "execution_count": 14,
     "metadata": {},
     "output_type": "execute_result"
    }
   ],
   "source": [
    "# Look for tip amount less than zero\n",
    "yellow_df.filter(F.col(\"tip_amount\").astype(DoubleType()) < 0).\\\n",
    "    count()"
   ]
  },
  {
   "cell_type": "code",
   "execution_count": 15,
   "metadata": {},
   "outputs": [
    {
     "data": {
      "text/plain": [
       "73"
      ]
     },
     "execution_count": 15,
     "metadata": {},
     "output_type": "execute_result"
    }
   ],
   "source": [
    "# Look for tolls_amount less than zero\n",
    "yellow_df.filter(F.col(\"tolls_amount\").astype(DoubleType()) < 0).\\\n",
    "    count()"
   ]
  },
  {
   "cell_type": "code",
   "execution_count": 16,
   "metadata": {},
   "outputs": [
    {
     "data": {
      "text/plain": [
       "800412"
      ]
     },
     "execution_count": 16,
     "metadata": {},
     "output_type": "execute_result"
    }
   ],
   "source": [
    "# Look for improvement_surcharge consistently $0.30\n",
    "yellow_df.filter(F.col(\"tolls_amount\").astype(DoubleType()) != 0.30).\\\n",
    "    count()"
   ]
  },
  {
   "cell_type": "code",
   "execution_count": 17,
   "metadata": {},
   "outputs": [
    {
     "data": {
      "text/plain": [
       "3710"
      ]
     },
     "execution_count": 17,
     "metadata": {},
     "output_type": "execute_result"
    }
   ],
   "source": [
    "# Look for fare_amount less than zero\n",
    "yellow_df.filter(F.col(\"fare_amount\").astype(DoubleType()) < 0).\\\n",
    "    count()"
   ]
  },
  {
   "cell_type": "code",
   "execution_count": 18,
   "metadata": {},
   "outputs": [
    {
     "data": {
      "text/plain": [
       "235385"
      ]
     },
     "execution_count": 18,
     "metadata": {},
     "output_type": "execute_result"
    }
   ],
   "source": [
    "# Look for extra greater than $1 (congestion or night time fee)\n",
    "yellow_df.filter(F.col(\"extra\").astype(DoubleType()) > 1).\\\n",
    "    count()\n"
   ]
  },
  {
   "cell_type": "code",
   "execution_count": 19,
   "metadata": {},
   "outputs": [
    {
     "data": {
      "text/plain": [
       "0"
      ]
     },
     "execution_count": 19,
     "metadata": {},
     "output_type": "execute_result"
    }
   ],
   "source": [
    "# Look for trip_distance less than zero\n",
    "yellow_df.filter(F.col(\"trip_distance\").astype(DoubleType()) < 0).\\\n",
    "    count()\n"
   ]
  },
  {
   "cell_type": "code",
   "execution_count": null,
   "metadata": {},
   "outputs": [],
   "source": []
  }
 ],
 "metadata": {
  "kernelspec": {
   "display_name": "Python 3",
   "language": "python",
   "name": "python3"
  },
  "language_info": {
   "codemirror_mode": {
    "name": "ipython",
    "version": 3
   },
   "file_extension": ".py",
   "mimetype": "text/x-python",
   "name": "python",
   "nbconvert_exporter": "python",
   "pygments_lexer": "ipython3",
   "version": "3.7.6"
  }
 },
 "nbformat": 4,
 "nbformat_minor": 4
}
