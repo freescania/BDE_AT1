{
 "cells": [
  {
   "cell_type": "markdown",
   "metadata": {},
   "source": [
    "## EDA on NYC Taxi data"
   ]
  },
  {
   "cell_type": "code",
   "execution_count": 1,
   "metadata": {},
   "outputs": [],
   "source": [
    "# Import required packages\n",
    "import boto3\n",
    "from pyspark.sql import SparkSession\n",
    "from pyspark.sql.types import IntegerType, DoubleType\n",
    "import pyspark.sql.functions as F"
   ]
  },
  {
   "cell_type": "code",
   "execution_count": 2,
   "metadata": {},
   "outputs": [],
   "source": [
    "# Create a local spark session\n",
    "spark = SparkSession.builder \\\n",
    "        .appName('nyc-taxi-data') \\\n",
    "        .getOrCreate()"
   ]
  },
  {
   "cell_type": "code",
   "execution_count": 3,
   "metadata": {},
   "outputs": [],
   "source": [
    "# Set parameters \n",
    "bucket_name = \"nyc-tlc\" # s3 bucket name with required nyc tlc files"
   ]
  },
  {
   "cell_type": "code",
   "execution_count": 4,
   "metadata": {},
   "outputs": [],
   "source": [
    "# Create function to read S3 bucket\n",
    "def list_bucket_contents(bucket, match=''):\n",
    "    files = []\n",
    "    s3_resource = boto3.resource('s3')\n",
    "    bucket_resource = s3_resource.Bucket(bucket)\n",
    "    for key in bucket_resource.objects.all():\n",
    "        if match in key.key:\n",
    "            files.append(key.key)\n",
    "    return files"
   ]
  },
  {
   "cell_type": "code",
   "execution_count": 5,
   "metadata": {},
   "outputs": [],
   "source": [
    "# Read yellow and green taxi data for respective years\n",
    "colours = [\"yellow\",\"green\"]\n",
    "years = [\"2019\",\"2020\"]\n",
    "files = []\n",
    "\n",
    "for year in years:\n",
    "    for colour in colours:\n",
    "        match = colour + \"_tripdata_\" + year\n",
    "        files.extend(list_bucket_contents(bucket=bucket_name, match=match))"
   ]
  },
  {
   "cell_type": "code",
   "execution_count": 8,
   "metadata": {},
   "outputs": [
    {
     "data": {
      "text/plain": [
       "['trip data/yellow_tripdata_2019-01.csv',\n",
       " 'trip data/yellow_tripdata_2019-02.csv',\n",
       " 'trip data/yellow_tripdata_2019-03.csv',\n",
       " 'trip data/yellow_tripdata_2019-04.csv',\n",
       " 'trip data/yellow_tripdata_2019-05.csv',\n",
       " 'trip data/yellow_tripdata_2019-06.csv',\n",
       " 'trip data/yellow_tripdata_2019-07.csv',\n",
       " 'trip data/yellow_tripdata_2019-08.csv',\n",
       " 'trip data/yellow_tripdata_2019-09.csv',\n",
       " 'trip data/yellow_tripdata_2019-10.csv',\n",
       " 'trip data/yellow_tripdata_2019-11.csv',\n",
       " 'trip data/yellow_tripdata_2019-12.csv',\n",
       " 'trip data/green_tripdata_2019-01.csv',\n",
       " 'trip data/green_tripdata_2019-02.csv',\n",
       " 'trip data/green_tripdata_2019-03.csv',\n",
       " 'trip data/green_tripdata_2019-04.csv',\n",
       " 'trip data/green_tripdata_2019-05.csv',\n",
       " 'trip data/green_tripdata_2019-06.csv',\n",
       " 'trip data/green_tripdata_2019-07.csv',\n",
       " 'trip data/green_tripdata_2019-08.csv',\n",
       " 'trip data/green_tripdata_2019-09.csv',\n",
       " 'trip data/green_tripdata_2019-10.csv',\n",
       " 'trip data/green_tripdata_2019-11.csv',\n",
       " 'trip data/green_tripdata_2019-12.csv',\n",
       " 'trip data/yellow_tripdata_2020-01.csv',\n",
       " 'trip data/yellow_tripdata_2020-02.csv',\n",
       " 'trip data/yellow_tripdata_2020-03.csv',\n",
       " 'trip data/yellow_tripdata_2020-04.csv',\n",
       " 'trip data/yellow_tripdata_2020-05.csv',\n",
       " 'trip data/yellow_tripdata_2020-06.csv',\n",
       " 'trip data/yellow_tripdata_2020-07.csv',\n",
       " 'trip data/yellow_tripdata_2020-08.csv',\n",
       " 'trip data/yellow_tripdata_2020-09.csv',\n",
       " 'trip data/yellow_tripdata_2020-10.csv',\n",
       " 'trip data/yellow_tripdata_2020-11.csv',\n",
       " 'trip data/yellow_tripdata_2020-12.csv',\n",
       " 'trip data/green_tripdata_2020-01.csv',\n",
       " 'trip data/green_tripdata_2020-02.csv',\n",
       " 'trip data/green_tripdata_2020-03.csv',\n",
       " 'trip data/green_tripdata_2020-04.csv',\n",
       " 'trip data/green_tripdata_2020-05.csv',\n",
       " 'trip data/green_tripdata_2020-06.csv',\n",
       " 'trip data/green_tripdata_2020-07.csv',\n",
       " 'trip data/green_tripdata_2020-08.csv',\n",
       " 'trip data/green_tripdata_2020-09.csv',\n",
       " 'trip data/green_tripdata_2020-10.csv',\n",
       " 'trip data/green_tripdata_2020-11.csv',\n",
       " 'trip data/green_tripdata_2020-12.csv']"
      ]
     },
     "execution_count": 8,
     "metadata": {},
     "output_type": "execute_result"
    }
   ],
   "source": [
    "files"
   ]
  },
  {
   "cell_type": "code",
   "execution_count": 6,
   "metadata": {},
   "outputs": [],
   "source": [
    "# Read January 2019 yellow taxi cab data from S3 bucket\n",
    "yellow_df = spark.read.csv(f\"s3a://{bucket_name}/trip data/yellow_tripdata_2019-01.csv\", header=True)"
   ]
  },
  {
   "cell_type": "code",
   "execution_count": 9,
   "metadata": {},
   "outputs": [
    {
     "name": "stdout",
     "output_type": "stream",
     "text": [
      "+--------+--------------------+---------------------+---------------+-------------+----------+------------------+------------+------------+------------+-----------+-----+-------+----------+------------+---------------------+------------+--------------------+\n",
      "|VendorID|tpep_pickup_datetime|tpep_dropoff_datetime|passenger_count|trip_distance|RatecodeID|store_and_fwd_flag|PULocationID|DOLocationID|payment_type|fare_amount|extra|mta_tax|tip_amount|tolls_amount|improvement_surcharge|total_amount|congestion_surcharge|\n",
      "+--------+--------------------+---------------------+---------------+-------------+----------+------------------+------------+------------+------------+-----------+-----+-------+----------+------------+---------------------+------------+--------------------+\n",
      "|       1| 2019-01-01 00:46:40|  2019-01-01 00:53:20|              1|         1.50|         1|                 N|         151|         239|           1|          7|  0.5|    0.5|      1.65|           0|                  0.3|        9.95|                null|\n",
      "|       1| 2019-01-01 00:59:47|  2019-01-01 01:18:59|              1|         2.60|         1|                 N|         239|         246|           1|         14|  0.5|    0.5|         1|           0|                  0.3|        16.3|                null|\n",
      "|       2| 2018-12-21 13:48:30|  2018-12-21 13:52:40|              3|          .00|         1|                 N|         236|         236|           1|        4.5|  0.5|    0.5|         0|           0|                  0.3|         5.8|                null|\n",
      "|       2| 2018-11-28 15:52:25|  2018-11-28 15:55:45|              5|          .00|         1|                 N|         193|         193|           2|        3.5|  0.5|    0.5|         0|           0|                  0.3|        7.55|                null|\n",
      "|       2| 2018-11-28 15:56:57|  2018-11-28 15:58:33|              5|          .00|         2|                 N|         193|         193|           2|         52|    0|    0.5|         0|           0|                  0.3|       55.55|                null|\n",
      "|       2| 2018-11-28 16:25:49|  2018-11-28 16:28:26|              5|          .00|         1|                 N|         193|         193|           2|        3.5|  0.5|    0.5|         0|        5.76|                  0.3|       13.31|                null|\n",
      "|       2| 2018-11-28 16:29:37|  2018-11-28 16:33:43|              5|          .00|         2|                 N|         193|         193|           2|         52|    0|    0.5|         0|           0|                  0.3|       55.55|                null|\n",
      "|       1| 2019-01-01 00:21:28|  2019-01-01 00:28:37|              1|         1.30|         1|                 N|         163|         229|           1|        6.5|  0.5|    0.5|      1.25|           0|                  0.3|        9.05|                null|\n",
      "|       1| 2019-01-01 00:32:01|  2019-01-01 00:45:39|              1|         3.70|         1|                 N|         229|           7|           1|       13.5|  0.5|    0.5|       3.7|           0|                  0.3|        18.5|                null|\n",
      "|       1| 2019-01-01 00:57:32|  2019-01-01 01:09:32|              2|         2.10|         1|                 N|         141|         234|           1|         10|  0.5|    0.5|       1.7|           0|                  0.3|          13|                null|\n",
      "|       1| 2019-01-01 00:24:04|  2019-01-01 00:47:06|              2|         2.80|         1|                 N|         246|         162|           1|         15|  0.5|    0.5|      3.25|           0|                  0.3|       19.55|                null|\n",
      "|       1| 2019-01-01 00:21:59|  2019-01-01 00:28:24|              1|          .70|         1|                 N|         238|         151|           1|        5.5|  0.5|    0.5|       1.7|           0|                  0.3|         8.5|                null|\n",
      "|       1| 2019-01-01 00:45:21|  2019-01-01 01:31:05|              1|         8.70|         1|                 N|         163|          25|           1|       34.5|  0.5|    0.5|      7.15|           0|                  0.3|       42.95|                null|\n",
      "|       1| 2019-01-01 00:43:19|  2019-01-01 01:07:42|              1|         6.30|         1|                 N|         224|          25|           1|       21.5|  0.5|    0.5|       5.7|           0|                  0.3|        28.5|                null|\n",
      "|       1| 2019-01-01 00:58:24|  2019-01-01 01:15:18|              1|         2.70|         1|                 N|         141|         234|           1|         13|  0.5|    0.5|         1|           0|                  0.3|        15.3|                null|\n",
      "|       2| 2019-01-01 00:23:14|  2019-01-01 00:25:40|              1|          .38|         1|                 N|         170|         170|           2|        3.5|  0.5|    0.5|         0|           0|                  0.3|         4.8|                null|\n",
      "|       2| 2019-01-01 00:39:51|  2019-01-01 00:48:02|              1|          .55|         1|                 N|         170|         170|           1|        6.5|  0.5|    0.5|      1.95|           0|                  0.3|        9.75|                null|\n",
      "|       2| 2019-01-01 00:46:00|  2019-01-01 00:49:07|              1|          .30|         1|                 N|         107|         107|           1|          4|  0.5|    0.5|      1.06|           0|                  0.3|        6.36|                null|\n",
      "|       2| 2019-01-01 00:57:45|  2019-01-01 01:03:51|              1|         1.42|         1|                 N|         170|         141|           1|        6.5|  0.5|    0.5|      1.56|           0|                  0.3|        9.36|                null|\n",
      "|       2| 2019-01-01 00:16:16|  2019-01-01 00:25:57|              1|         1.72|         1|                 N|          41|         247|           2|          9|  0.5|    0.5|         0|           0|                  0.3|        10.3|                null|\n",
      "+--------+--------------------+---------------------+---------------+-------------+----------+------------------+------------+------------+------------+-----------+-----+-------+----------+------------+---------------------+------------+--------------------+\n",
      "only showing top 20 rows\n",
      "\n"
     ]
    }
   ],
   "source": [
    "# Show first twenty rows of the imported file\n",
    "yellow_df.show(20)"
   ]
  },
  {
   "cell_type": "code",
   "execution_count": 13,
   "metadata": {},
   "outputs": [
    {
     "name": "stdout",
     "output_type": "stream",
     "text": [
      "root\n",
      " |-- VendorID: string (nullable = true)\n",
      " |-- tpep_pickup_datetime: string (nullable = true)\n",
      " |-- tpep_dropoff_datetime: string (nullable = true)\n",
      " |-- passenger_count: string (nullable = true)\n",
      " |-- trip_distance: string (nullable = true)\n",
      " |-- RatecodeID: string (nullable = true)\n",
      " |-- store_and_fwd_flag: string (nullable = true)\n",
      " |-- PULocationID: string (nullable = true)\n",
      " |-- DOLocationID: string (nullable = true)\n",
      " |-- payment_type: string (nullable = true)\n",
      " |-- fare_amount: string (nullable = true)\n",
      " |-- extra: string (nullable = true)\n",
      " |-- mta_tax: string (nullable = true)\n",
      " |-- tip_amount: string (nullable = true)\n",
      " |-- tolls_amount: string (nullable = true)\n",
      " |-- improvement_surcharge: string (nullable = true)\n",
      " |-- total_amount: string (nullable = true)\n",
      " |-- congestion_surcharge: string (nullable = true)\n",
      "\n"
     ]
    }
   ],
   "source": [
    "# Print schema of data frame to show field data types and nullability\n",
    "yellow_df.printSchema()"
   ]
  },
  {
   "cell_type": "code",
   "execution_count": 10,
   "metadata": {},
   "outputs": [],
   "source": [
    "# Read January 2019 green taxi cab data from S3 bucket\n",
    "green_df = spark.read.csv(f\"s3a://{bucket_name}/trip data/green_tripdata_2019-01.csv\", header=True)"
   ]
  },
  {
   "cell_type": "code",
   "execution_count": 12,
   "metadata": {},
   "outputs": [
    {
     "name": "stdout",
     "output_type": "stream",
     "text": [
      "+--------+--------------------+---------------------+------------------+----------+------------+------------+---------------+-------------+-----------+-----+-------+----------+------------+---------+---------------------+------------+------------+---------+--------------------+\n",
      "|VendorID|lpep_pickup_datetime|lpep_dropoff_datetime|store_and_fwd_flag|RatecodeID|PULocationID|DOLocationID|passenger_count|trip_distance|fare_amount|extra|mta_tax|tip_amount|tolls_amount|ehail_fee|improvement_surcharge|total_amount|payment_type|trip_type|congestion_surcharge|\n",
      "+--------+--------------------+---------------------+------------------+----------+------------+------------+---------------+-------------+-----------+-----+-------+----------+------------+---------+---------------------+------------+------------+---------+--------------------+\n",
      "|       2| 2018-12-21 15:17:29|  2018-12-21 15:18:57|                 N|         1|         264|         264|              5|          .00|          3|  0.5|    0.5|         0|           0|     null|                  0.3|         4.3|           2|        1|                null|\n",
      "|       2| 2019-01-01 00:10:16|  2019-01-01 00:16:32|                 N|         1|          97|          49|              2|          .86|          6|  0.5|    0.5|         0|           0|     null|                  0.3|         7.3|           2|        1|                null|\n",
      "|       2| 2019-01-01 00:27:11|  2019-01-01 00:31:38|                 N|         1|          49|         189|              2|          .66|        4.5|  0.5|    0.5|         0|           0|     null|                  0.3|         5.8|           1|        1|                null|\n",
      "|       2| 2019-01-01 00:46:20|  2019-01-01 01:04:54|                 N|         1|         189|          17|              2|         2.68|       13.5|  0.5|    0.5|      2.96|           0|     null|                  0.3|       19.71|           1|        1|                null|\n",
      "|       2| 2019-01-01 00:19:06|  2019-01-01 00:39:43|                 N|         1|          82|         258|              1|         4.53|         18|  0.5|    0.5|         0|           0|     null|                  0.3|        19.3|           2|        1|                null|\n",
      "|       2| 2019-01-01 00:12:35|  2019-01-01 00:19:09|                 N|         1|          49|          17|              1|         1.05|        6.5|  0.5|    0.5|         0|           0|     null|                  0.3|         7.8|           1|        1|                null|\n",
      "|       2| 2019-01-01 00:47:55|  2019-01-01 01:00:01|                 N|         1|         255|          33|              1|         3.77|       13.5|  0.5|    0.5|         0|           0|     null|                  0.3|        14.8|           1|        1|                null|\n",
      "|       1| 2019-01-01 00:12:47|  2019-01-01 00:30:50|                 N|         1|          76|         225|              1|         4.10|         16|  0.5|    0.5|         0|           0|     null|                  0.3|        17.3|           1|        1|                null|\n",
      "|       2| 2019-01-01 00:16:23|  2019-01-01 00:39:46|                 N|         1|          25|          89|              1|         7.75|       25.5|  0.5|    0.5|         0|           0|     null|                  0.3|        26.8|           1|        1|                null|\n",
      "|       2| 2019-01-01 00:58:02|  2019-01-01 01:19:02|                 N|         1|          85|          39|              1|         3.68|       15.5|  0.5|    0.5|         0|           0|     null|                  0.3|        16.8|           1|        1|                null|\n",
      "+--------+--------------------+---------------------+------------------+----------+------------+------------+---------------+-------------+-----------+-----+-------+----------+------------+---------+---------------------+------------+------------+---------+--------------------+\n",
      "only showing top 10 rows\n",
      "\n"
     ]
    }
   ],
   "source": [
    "green_df.show(10)"
   ]
  },
  {
   "cell_type": "code",
   "execution_count": 14,
   "metadata": {},
   "outputs": [
    {
     "name": "stdout",
     "output_type": "stream",
     "text": [
      "root\n",
      " |-- VendorID: string (nullable = true)\n",
      " |-- lpep_pickup_datetime: string (nullable = true)\n",
      " |-- lpep_dropoff_datetime: string (nullable = true)\n",
      " |-- store_and_fwd_flag: string (nullable = true)\n",
      " |-- RatecodeID: string (nullable = true)\n",
      " |-- PULocationID: string (nullable = true)\n",
      " |-- DOLocationID: string (nullable = true)\n",
      " |-- passenger_count: string (nullable = true)\n",
      " |-- trip_distance: string (nullable = true)\n",
      " |-- fare_amount: string (nullable = true)\n",
      " |-- extra: string (nullable = true)\n",
      " |-- mta_tax: string (nullable = true)\n",
      " |-- tip_amount: string (nullable = true)\n",
      " |-- tolls_amount: string (nullable = true)\n",
      " |-- ehail_fee: string (nullable = true)\n",
      " |-- improvement_surcharge: string (nullable = true)\n",
      " |-- total_amount: string (nullable = true)\n",
      " |-- payment_type: string (nullable = true)\n",
      " |-- trip_type: string (nullable = true)\n",
      " |-- congestion_surcharge: string (nullable = true)\n",
      "\n"
     ]
    }
   ],
   "source": [
    "# Print schema of data frame to show field data types and nullability\n",
    "green_df.printSchema()"
   ]
  },
  {
   "cell_type": "markdown",
   "metadata": {},
   "source": [
    "## Recommended data type changes\n",
    "\n",
    "All fields imported as a string. The following data type conversions are required:\n",
    "\n",
    "* VendorID: string -> categorical (drop - needs processing intensive one hot encoding)\n",
    "* lpep_pickup_datetime: string -> timestamp\n",
    "* lpep_dropoff_datetime: string -> timestamp\n",
    "* store_and_fwd_flag: string -> integer (drop)\n",
    "* RatecodeID: string -> integer\n",
    "* PULocationID: string -> categorical (drop - needs processing intensive one hot encoding)\n",
    "* DOLocationID: string -> categorical (drop - needs processing intensive one hot encoding)\n",
    "* passenger_count: string -> integer\n",
    "* trip_distance: string -> double\n",
    "* fare_amount: string -> double\n",
    "* extra: string -> double\n",
    "* mta_tax: string -> double (drop - is always $0.50)\n",
    "* tip_amount: string -> double\n",
    "* tolls_amount: string -> double\n",
    "* ehail_fee: string -> double (drop - is set fee)\n",
    "* improvement_surcharge: string -> double (drop - is set fee)\n",
    "* total_amount: string -> double\n",
    "* payment_type: string -> integer\n",
    "* trip_type: string -> integer (drop - is not in other data set)\n",
    "* congestion_surcharge: string -> double (drop - is not in other data set and should be included in extras per dictionary)"
   ]
  },
  {
   "cell_type": "code",
   "execution_count": null,
   "metadata": {},
   "outputs": [],
   "source": []
  }
 ],
 "metadata": {
  "kernelspec": {
   "display_name": "Python 3",
   "language": "python",
   "name": "python3"
  },
  "language_info": {
   "codemirror_mode": {
    "name": "ipython",
    "version": 3
   },
   "file_extension": ".py",
   "mimetype": "text/x-python",
   "name": "python",
   "nbconvert_exporter": "python",
   "pygments_lexer": "ipython3",
   "version": "3.7.6"
  }
 },
 "nbformat": 4,
 "nbformat_minor": 4
}
