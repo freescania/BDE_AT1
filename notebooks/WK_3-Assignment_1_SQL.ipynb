{
 "cells": [
  {
   "cell_type": "markdown",
   "metadata": {},
   "source": [
    "# Assignment 1: NYC Taxi Data"
   ]
  },
  {
   "cell_type": "code",
   "execution_count": 2,
   "metadata": {},
   "outputs": [],
   "source": [
    "from pyspark.sql import SparkSession"
   ]
  },
  {
   "cell_type": "code",
   "execution_count": 3,
   "metadata": {},
   "outputs": [],
   "source": [
    "# Create a local spark session\n",
    "spark = SparkSession.builder \\\n",
    "        .appName('nyc-taxi-sql') \\\n",
    "        .getOrCreate()"
   ]
  },
  {
   "cell_type": "code",
   "execution_count": 4,
   "metadata": {},
   "outputs": [],
   "source": [
    "# Read parquet file\n",
    "df = spark.read.load(\"./output\")"
   ]
  },
  {
   "cell_type": "code",
   "execution_count": 5,
   "metadata": {},
   "outputs": [],
   "source": [
    "df.createOrReplaceTempView(\"nyc_taxi_data_2017_18\")"
   ]
  },
  {
   "cell_type": "markdown",
   "metadata": {},
   "source": [
    "## Business Questions"
   ]
  },
  {
   "cell_type": "markdown",
   "metadata": {},
   "source": [
    "### Q1.a. For each year and month: What was the total number of trips?"
   ]
  },
  {
   "cell_type": "code",
   "execution_count": 5,
   "metadata": {},
   "outputs": [
    {
     "name": "stdout",
     "output_type": "stream",
     "text": [
      "+----+-----+---------------+\n",
      "|year|month|number_of_trips|\n",
      "+----+-----+---------------+\n",
      "|2017|    1|       10759055|\n",
      "|2017|    2|       10170592|\n",
      "|2017|    3|       11429334|\n",
      "|2017|    4|       11104411|\n",
      "|2017|    5|       11139331|\n",
      "|2017|    6|       10612182|\n",
      "|2017|    7|        9483901|\n",
      "|2017|    8|        9271000|\n",
      "|2017|    9|        9808837|\n",
      "|2017|   10|       10673291|\n",
      "|2017|   11|       10137773|\n",
      "|2017|   12|       10393990|\n",
      "|2018|    1|        9535011|\n",
      "|2018|    2|        9244198|\n",
      "|2018|    3|       10246590|\n",
      "|2018|    4|       10086530|\n",
      "|2018|    5|       10002146|\n",
      "|2018|    6|        9433947|\n",
      "|2018|    7|        8516297|\n",
      "|2018|    8|        8497622|\n",
      "|2018|    9|        8688822|\n",
      "|2018|   10|        9508435|\n",
      "|2018|   11|        8781808|\n",
      "|2018|   12|        8837417|\n",
      "+----+-----+---------------+\n",
      "\n"
     ]
    }
   ],
   "source": [
    "spark.sql(\"\"\"\n",
    "SELECT year\n",
    ",month\n",
    ",COUNT(*) AS number_of_trips\n",
    "FROM nyc_taxi_data_2017_18\n",
    "GROUP BY year\n",
    ",month\n",
    "ORDER BY year, month\n",
    "\"\"\").show(24)"
   ]
  },
  {
   "cell_type": "markdown",
   "metadata": {},
   "source": [
    "### Q1.b. For each year and month: Which weekday had the most trips?"
   ]
  },
  {
   "cell_type": "code",
   "execution_count": 6,
   "metadata": {},
   "outputs": [
    {
     "name": "stdout",
     "output_type": "stream",
     "text": [
      "+----+-----+--------------+-----------+\n",
      "|year|month|pickup_weekday|total_trips|\n",
      "+----+-----+--------------+-----------+\n",
      "|2017|    1|       Tuesday|    1698667|\n",
      "|2017|    2|      Saturday|    1613115|\n",
      "|2017|    3|        Friday|    2030231|\n",
      "|2017|    4|      Saturday|    1965173|\n",
      "|2017|    5|     Wednesday|    1857762|\n",
      "|2017|    6|      Thursday|    1852070|\n",
      "|2017|    7|      Saturday|    1526780|\n",
      "|2017|    8|      Thursday|    1603485|\n",
      "|2017|    9|        Friday|    1721426|\n",
      "|2017|   10|       Tuesday|    1673294|\n",
      "|2017|   11|     Wednesday|    1740282|\n",
      "|2017|   12|        Friday|    1827482|\n",
      "|2018|    1|     Wednesday|    1624943|\n",
      "|2018|    2|        Friday|    1462063|\n",
      "|2018|    3|        Friday|    1808358|\n",
      "|2018|    4|        Monday|    1520937|\n",
      "|2018|    5|      Thursday|    1741622|\n",
      "|2018|    6|        Friday|    1641972|\n",
      "|2018|    7|       Tuesday|    1453861|\n",
      "|2018|    8|     Wednesday|    1485514|\n",
      "|2018|    9|      Saturday|    1469617|\n",
      "|2018|   10|     Wednesday|    1572695|\n",
      "|2018|   11|        Friday|    1520943|\n",
      "|2018|   12|      Saturday|    1505080|\n",
      "+----+-----+--------------+-----------+\n",
      "\n"
     ]
    }
   ],
   "source": [
    "spark.sql(\"\"\"\n",
    "SELECT year\n",
    "    ,month\n",
    "    ,pickup_weekday\n",
    "    ,total_trips\n",
    "FROM (SELECT year\n",
    "        ,month\n",
    "        ,DATE_FORMAT(pickup_datetime, \"EEEE\") AS pickup_weekday\n",
    "        ,COUNT(*) AS total_trips\n",
    "        ,ROW_NUMBER() OVER (PARTITION BY year,month ORDER BY COUNT(*) DESC) AS row_num\n",
    "    FROM nyc_taxi_data_2017_18\n",
    "    GROUP BY year\n",
    "        ,month\n",
    "        ,pickup_weekday\n",
    "    )\n",
    "WHERE row_num = 1\n",
    "ORDER BY year\n",
    "    ,month\n",
    "\"\"\").show(24)"
   ]
  },
  {
   "cell_type": "markdown",
   "metadata": {},
   "source": [
    "### Q1.c. For each year and month: What was the average number of passengers?"
   ]
  },
  {
   "cell_type": "code",
   "execution_count": 8,
   "metadata": {},
   "outputs": [
    {
     "name": "stdout",
     "output_type": "stream",
     "text": [
      "+----+-----+-----------------------+\n",
      "|year|month|avg_passengers_per_trip|\n",
      "+----+-----+-----------------------+\n",
      "|2017|    1|     1.6035315369240142|\n",
      "|2017|    2|     1.5991538152351408|\n",
      "|2017|    3|     1.5928098697614401|\n",
      "|2017|    4|     1.6020269782881775|\n",
      "|2017|    5|     1.5956274214313229|\n",
      "|2017|    6|     1.5996936351072757|\n",
      "|2017|    7|     1.6155018910467327|\n",
      "|2017|    8|     1.6097582785028584|\n",
      "|2017|    9|     1.6050604164387685|\n",
      "|2017|   10|     1.5993137449358403|\n",
      "|2017|   11|     1.5957080514625845|\n",
      "|2017|   12|     1.6152579519510795|\n",
      "|2018|    1|     1.5930920268471636|\n",
      "|2018|    2|     1.5828088061289902|\n",
      "|2018|    3|     1.5889266575514391|\n",
      "|2018|    4|     1.5892638003356951|\n",
      "|2018|    5|     1.5853707794307341|\n",
      "|2018|    6|      1.586684025254753|\n",
      "|2018|    7|     1.5937331683007299|\n",
      "|2018|    8|     1.5902972619869418|\n",
      "|2018|    9|     1.5784291587513244|\n",
      "|2018|   10|     1.5640660108629865|\n",
      "|2018|   11|     1.5717419465331057|\n",
      "|2018|   12|     1.5884660642357376|\n",
      "+----+-----+-----------------------+\n",
      "\n"
     ]
    }
   ],
   "source": [
    "spark.sql(\"\"\"\n",
    "SELECT year\n",
    "    ,month\n",
    "    ,AVG(passenger_count) AS avg_passengers_per_trip\n",
    "FROM nyc_taxi_data_2017_18\n",
    "GROUP BY year\n",
    "    ,month\n",
    "ORDER BY year\n",
    "    ,month\n",
    "\"\"\").show(24)"
   ]
  },
  {
   "cell_type": "markdown",
   "metadata": {},
   "source": [
    "### Q1.d. For each year and month: What was the average amount paid per trip (total_amount)?"
   ]
  },
  {
   "cell_type": "code",
   "execution_count": 10,
   "metadata": {},
   "outputs": [
    {
     "name": "stdout",
     "output_type": "stream",
     "text": [
      "+----+-----+-------------------------+\n",
      "|year|month|avg_total_amount_per_trip|\n",
      "+----+-----+-------------------------+\n",
      "|2017|    1|        15.30173950320955|\n",
      "|2017|    2|       15.470210002462021|\n",
      "|2017|    3|        16.00380195564449|\n",
      "|2017|    4|        16.10720418329613|\n",
      "|2017|    5|       16.560673703888867|\n",
      "|2017|    6|        16.47228243213232|\n",
      "|2017|    7|         16.2144495542399|\n",
      "|2017|    8|        16.30985790548921|\n",
      "|2017|    9|       16.515653416610583|\n",
      "|2017|   10|       16.576218103559412|\n",
      "|2017|   11|        16.32591823573312|\n",
      "|2017|   12|       16.032728606820424|\n",
      "|2018|    1|        15.38746873304433|\n",
      "|2018|    2|       15.387113757366647|\n",
      "|2018|    3|       15.901031332181095|\n",
      "|2018|    4|       16.261353141312924|\n",
      "|2018|    5|       16.755073060361443|\n",
      "|2018|    6|       16.653265007935776|\n",
      "|2018|    7|       16.569750328297385|\n",
      "|2018|    8|       16.601714209171014|\n",
      "|2018|    9|       16.834233158417458|\n",
      "|2018|   10|       16.933848321180925|\n",
      "|2018|   11|       16.818571270466034|\n",
      "|2018|   12|       16.470735408327634|\n",
      "+----+-----+-------------------------+\n",
      "\n"
     ]
    }
   ],
   "source": [
    "spark.sql(\"\"\"\n",
    "SELECT year\n",
    "    ,month\n",
    "    ,AVG(total_amount) AS avg_total_amount_per_trip\n",
    "FROM nyc_taxi_data_2017_18\n",
    "GROUP BY year\n",
    "    ,month\n",
    "ORDER BY year\n",
    "    ,month\n",
    "\"\"\").show(24)"
   ]
  },
  {
   "cell_type": "markdown",
   "metadata": {},
   "source": [
    "### Q1.d. For each year and month: What was the average amount paid per passenger (total_amount)?"
   ]
  },
  {
   "cell_type": "code",
   "execution_count": 11,
   "metadata": {},
   "outputs": [
    {
     "name": "stdout",
     "output_type": "stream",
     "text": [
      "+----+-----+------------------------------+\n",
      "|year|month|avg_total_amount_per_passenger|\n",
      "+----+-----+------------------------------+\n",
      "|2017|    1|            12.646149725201287|\n",
      "|2017|    2|            12.764816082660923|\n",
      "|2017|    3|            13.245625458581475|\n",
      "|2017|    4|            13.265101183416846|\n",
      "|2017|    5|            13.651144429622907|\n",
      "|2017|    6|            13.604502486696209|\n",
      "|2017|    7|            13.287119010142096|\n",
      "|2017|    8|             13.39625704158913|\n",
      "|2017|    9|            13.590143123322886|\n",
      "|2017|   10|             13.68152108161739|\n",
      "|2017|   11|            13.480742929428729|\n",
      "|2017|   12|            13.117433840563063|\n",
      "|2018|    1|            12.735796628332748|\n",
      "|2018|    2|            12.776375687262949|\n",
      "|2018|    3|            13.154252048935492|\n",
      "|2018|    4|            13.445791517382709|\n",
      "|2018|    5|             13.87456607832239|\n",
      "|2018|    6|            13.777108741419482|\n",
      "|2018|    7|            13.682049332549617|\n",
      "|2018|    8|            13.717627626053176|\n",
      "|2018|    9|            13.958107445881346|\n",
      "|2018|   10|            14.096704885521154|\n",
      "|2018|   11|            13.980369209989615|\n",
      "|2018|   12|            13.577776159503674|\n",
      "+----+-----+------------------------------+\n",
      "\n"
     ]
    }
   ],
   "source": [
    "spark.sql(\"\"\"\n",
    "SELECT year\n",
    "    ,month\n",
    "    ,AVG(total_amount / passenger_count) AS avg_total_amount_per_passenger\n",
    "FROM nyc_taxi_data_2017_18\n",
    "GROUP BY year\n",
    "    ,month\n",
    "ORDER BY year\n",
    "    ,month\n",
    "\"\"\").show(24)"
   ]
  },
  {
   "cell_type": "markdown",
   "metadata": {},
   "source": [
    "### Q2.a. For each taxi colour (yellow and green): What was the average, median, minimum and maximum trip duration in seconds?"
   ]
  },
  {
   "cell_type": "code",
   "execution_count": 16,
   "metadata": {},
   "outputs": [
    {
     "name": "stdout",
     "output_type": "stream",
     "text": [
      "+---------+-------------------------+----------------------------+-------------------------+-------------------------+\n",
      "|taxi_type|avg_trip_duration_seconds|median_trip_duration_seconds|min_trip_duration_seconds|max_trip_duration_seconds|\n",
      "+---------+-------------------------+----------------------------+-------------------------+-------------------------+\n",
      "|    green|       1266.2004888441165|                       627.0|                        1|                   202989|\n",
      "|   yellow|       1022.0828914491414|                       670.0|                        1|                 45466304|\n",
      "+---------+-------------------------+----------------------------+-------------------------+-------------------------+\n",
      "\n"
     ]
    }
   ],
   "source": [
    "spark.sql(\"\"\"\n",
    "SELECT taxi_type\n",
    "    ,AVG(trip_duration_seconds) AS avg_trip_duration_seconds\n",
    "    ,PERCENTILE(trip_duration_seconds, 0.5) AS median_trip_duration_seconds\n",
    "    ,MIN(trip_duration_seconds) AS min_trip_duration_seconds\n",
    "    ,MAX(trip_duration_seconds) AS max_trip_duration_seconds\n",
    "FROM nyc_taxi_data_2017_18\n",
    "GROUP BY taxi_type\n",
    "\"\"\").show(2)"
   ]
  },
  {
   "cell_type": "markdown",
   "metadata": {},
   "source": [
    "### Q2.b. For each taxi colour (yellow and green): What was the average, median, minimum and maximum trip distance in km?"
   ]
  },
  {
   "cell_type": "code",
   "execution_count": 5,
   "metadata": {},
   "outputs": [
    {
     "name": "stdout",
     "output_type": "stream",
     "text": [
      "+---------+--------------------+-----------------------+--------------------+--------------------+\n",
      "|taxi_type|avg_trip_distance_km|median_trip_distance_km|min_trip_distance_km|max_trip_distance_km|\n",
      "+---------+--------------------+-----------------------+--------------------+--------------------+\n",
      "|   yellow|   4.728245869247112|     2.6232241999999997|                 0.0|         4059.157815|\n",
      "+---------+--------------------+-----------------------+--------------------+--------------------+\n",
      "\n"
     ]
    }
   ],
   "source": [
    "spark.sql(\"\"\"\n",
    "SELECT taxi_type\n",
    "    ,AVG(trip_distance_km) AS avg_trip_distance_km\n",
    "    ,PERCENTILE(trip_distance_km, 0.5) AS median_trip_distance_km\n",
    "    ,MIN(trip_distance_km) AS min_trip_distance_km\n",
    "    ,MAX(trip_distance_km) AS max_trip_distance_km\n",
    "FROM nyc_taxi_data_2017_18\n",
    "GROUP BY taxi_type\n",
    "\"\"\").show(2)"
   ]
  },
  {
   "cell_type": "markdown",
   "metadata": {},
   "source": [
    "### Q2.c. For each taxi colour (yellow and green): What was the average, median, minimum and maximum speed in km per hour?"
   ]
  },
  {
   "cell_type": "code",
   "execution_count": 6,
   "metadata": {},
   "outputs": [
    {
     "name": "stdout",
     "output_type": "stream",
     "text": [
      "+---------+-----------------+------------------+---------------+---------------+\n",
      "|taxi_type|  avg_km_per_hour|median_km_per_hour|min_km_per_hour|max_km_per_hour|\n",
      "+---------+-----------------+------------------+---------------+---------------+\n",
      "|    green|22.64211146324986| 17.79052218181818|            0.0|    194955.4476|\n",
      "+---------+-----------------+------------------+---------------+---------------+\n",
      "\n"
     ]
    }
   ],
   "source": [
    "spark.sql(\"\"\"\n",
    "SELECT taxi_type\n",
    "    ,AVG(trip_distance_km/(trip_duration_seconds / 3600)) AS avg_km_per_hour\n",
    "    ,PERCENTILE(trip_distance_km/(trip_duration_seconds / 3600), 0.5) AS median_km_per_hour\n",
    "    ,MIN(trip_distance_km/(trip_duration_seconds / 3600)) AS min_km_per_hour\n",
    "    ,MAX(trip_distance_km/(trip_duration_seconds / 3600)) AS max_km_per_hour\n",
    "FROM nyc_taxi_data_2017_18\n",
    "GROUP BY taxi_type\n",
    "\"\"\").show(2)"
   ]
  },
  {
   "cell_type": "markdown",
   "metadata": {},
   "source": [
    "### Q2.d. For each taxi colour (yellow and green): What was the percentage of trips where the driver received tips?"
   ]
  },
  {
   "cell_type": "code",
   "execution_count": 13,
   "metadata": {},
   "outputs": [
    {
     "name": "stdout",
     "output_type": "stream",
     "text": [
      "+------------------+\n",
      "|pct_trips_with_tip|\n",
      "+------------------+\n",
      "| 63.05336311357655|\n",
      "+------------------+\n",
      "\n"
     ]
    }
   ],
   "source": [
    "spark.sql(\"\"\"\n",
    "SELECT ((SELECT COUNT(*) FROM nyc_taxi_data_2017_18 WHERE tip_amount > 0) / COUNT(*)) * 100 AS pct_trips_with_tip\n",
    "FROM nyc_taxi_data_2017_18\n",
    "\"\"\").show(1)"
   ]
  },
  {
   "cell_type": "markdown",
   "metadata": {},
   "source": [
    "### Q3. For trips where the driver received tips, What was the percentage where the driver received tips of at least $10."
   ]
  },
  {
   "cell_type": "code",
   "execution_count": 14,
   "metadata": {},
   "outputs": [
    {
     "name": "stdout",
     "output_type": "stream",
     "text": [
      "+-------------------+\n",
      "|pct_trips_top_gt_10|\n",
      "+-------------------+\n",
      "| 2.1053562129901136|\n",
      "+-------------------+\n",
      "\n"
     ]
    }
   ],
   "source": [
    "spark.sql(\"\"\"\n",
    "SELECT ((SELECT COUNT(*) FROM nyc_taxi_data_2017_18 WHERE tip_amount >= 10) / COUNT(*)) * 100 AS pct_trips_top_gt_10\n",
    "FROM nyc_taxi_data_2017_18\n",
    "\"\"\").show(1)"
   ]
  },
  {
   "cell_type": "markdown",
   "metadata": {},
   "source": [
    "### Q4.a. For each duration bin calculate: Average speed (km per hour)\n",
    "Bins are Under 5 Mins, From 5 mins to 10 mins, From 10 mins to 20 mins, From 20 mins to 30 mins, At least 30 mins:"
   ]
  },
  {
   "cell_type": "code",
   "execution_count": 7,
   "metadata": {},
   "outputs": [
    {
     "name": "stdout",
     "output_type": "stream",
     "text": [
      "+----------------------+------------------+\n",
      "|trip_duration_category|   avg_km_per_hour|\n",
      "+----------------------+------------------+\n",
      "|         Above 30 mins|21.521682982544082|\n",
      "|            10-20 mins| 20.07051347804941|\n",
      "|             5-10 mins|17.981705341505787|\n",
      "|            20-30 mins| 21.78188930509953|\n",
      "|          Under 5 mins| 37.06728243111635|\n",
      "+----------------------+------------------+\n",
      "\n"
     ]
    }
   ],
   "source": [
    "spark.sql(\"\"\"\n",
    "SELECT trip_duration_category\n",
    "    ,AVG(trip_distance_km / (trip_duration_seconds / 3600)) AS avg_km_per_hour\n",
    "FROM nyc_taxi_data_2017_18\n",
    "GROUP BY trip_duration_category\n",
    "\"\"\").show(5)"
   ]
  },
  {
   "cell_type": "markdown",
   "metadata": {},
   "source": [
    "### Q4.b. For each duration bin calculate: Average distance per dollar (km per $)\n",
    "Bins are Under 5 Mins, From 5 mins to 10 mins, From 10 mins to 20 mins, From 20 mins to 30 mins, At least 30 mins.\n",
    "\n",
    "Assuming total US dollars received for journey, which includes tips, special fees and taxes"
   ]
  },
  {
   "cell_type": "code",
   "execution_count": 11,
   "metadata": {},
   "outputs": [
    {
     "name": "stdout",
     "output_type": "stream",
     "text": [
      "+----------------------+-----------------------+\n",
      "|trip_duration_category|avg_distance_per_dollar|\n",
      "+----------------------+-----------------------+\n",
      "|         Above 30 mins|    0.40398652813664593|\n",
      "|            10-20 mins|     0.3094178375755084|\n",
      "|             5-10 mins|    0.24283247313513143|\n",
      "|            20-30 mins|     0.3585894731795521|\n",
      "|          Under 5 mins|    0.17535589774042296|\n",
      "+----------------------+-----------------------+\n",
      "\n"
     ]
    }
   ],
   "source": [
    "spark.sql(\"\"\"\n",
    "SELECT trip_duration_category\n",
    "    ,AVG(trip_distance_km / total_amount) AS avg_distance_per_dollar\n",
    "FROM nyc_taxi_data_2017_18\n",
    "GROUP BY trip_duration_category\n",
    "\"\"\").show(5)"
   ]
  },
  {
   "cell_type": "markdown",
   "metadata": {},
   "source": [
    "### Q5. Which duration bin will you advise a taxi driver to target to maximise his income?"
   ]
  },
  {
   "cell_type": "markdown",
   "metadata": {},
   "source": []
  }
 ],
 "metadata": {
  "kernelspec": {
   "display_name": "Python 3",
   "language": "python",
   "name": "python3"
  },
  "language_info": {
   "codemirror_mode": {
    "name": "ipython",
    "version": 3
   },
   "file_extension": ".py",
   "mimetype": "text/x-python",
   "name": "python",
   "nbconvert_exporter": "python",
   "pygments_lexer": "ipython3",
   "version": "3.7.6"
  }
 },
 "nbformat": 4,
 "nbformat_minor": 4
}
