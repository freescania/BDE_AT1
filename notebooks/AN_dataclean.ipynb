{
 "cells": [
  {
   "cell_type": "code",
   "execution_count": 12,
   "metadata": {},
   "outputs": [],
   "source": [
    "# Import required packages\n",
    "import boto3\n",
    "import datetime as dt\n",
    "import multiprocessing as mp\n",
    "from pyspark.sql import SparkSession\n",
    "from pyspark.sql.types import BooleanType, DoubleType, IntegerType, StringType, StructType, StructField, TimestampType\n",
    "import pyspark.sql.functions as F"
   ]
  },
  {
   "cell_type": "code",
   "execution_count": 13,
   "metadata": {},
   "outputs": [],
   "source": [
    "# Set parameters \n",
    "bucket_name = \"nyc-tlc\" # s3 bucket name \n",
    "years = [\"2019\", \"2020\"]\n",
    "tlc_colours = [\"yellow\", \"green\"]\n",
    "months = ['01','02','03','04','05','06','07','08','09','10','11','12']\n",
    "dt_columns = [\"pickup_datetime\",\"dropoff_datetime\"]\n",
    "int_columns = [\"payment_type\",\"RatecodeID\",\"passenger_count\",\"year\"]\n",
    "num_columns = [\"trip_distance\",\"fare_amount\",\"extra\",\"mta_tax\",\"improvement_surcharge\",\n",
    "               \"tip_amount\",\"tolls_amount\",\"total_amount\"]\n",
    "initial_columns = [\"pickup_datetime\",\"dropoff_datetime\",\"RatecodeID\",\"passenger_count\",\"trip_distance\",\n",
    "                   \"payment_type\",\"fare_amount\",\"extra\",\"mta_tax\",\n",
    "                 \"improvement_surcharge\",\"tip_amount\",\"tolls_amount\",\"total_amount\",\"taxi_type\",\n",
    "                 \"year\",\"month\",]"
   ]
  },
  {
   "cell_type": "code",
   "execution_count": 14,
   "metadata": {},
   "outputs": [],
   "source": [
    "# Create a local spark session\n",
    "spark = SparkSession.builder \\\n",
    "        .appName('nyc-taxi-etl') \\\n",
    "        .getOrCreate()"
   ]
  },
  {
   "cell_type": "markdown",
   "metadata": {},
   "source": [
    "## Extraction Function"
   ]
  },
  {
   "cell_type": "code",
   "execution_count": 15,
   "metadata": {},
   "outputs": [],
   "source": [
    "# Function to extract data from S3 bucket\n",
    "def extract_data_from_bucket(bucket, year, colour, month):\n",
    "    df = spark.read.csv(f\"s3a://{bucket}/trip data/{colour}_tripdata_{year}-{month}.csv\", header=True)\n",
    "    return df"
   ]
  },
  {
   "cell_type": "markdown",
   "metadata": {},
   "source": [
    "## Transform Data\n",
    "\n",
    "### Drop columns\n",
    "* **VendorID** - needs processing intensive one hot encoding\n",
    "* **store_and_fwd_flag** - not informative for model training\n",
    "* **PULocationID** - needs processing intensive one hot encoding\n",
    "* **DOLocationID** - needs processing intensive one hot encoding\n",
    "* **trip_type** - is not in other data set\n",
    "* **congestion_surcharge** - is not in other data set and should be included in extras per dictionary\n",
    "* **ehail_fee** - is not in other data set\n",
    "\n",
    "### Modify data types\n",
    "\n",
    "* pickup_datetime_string: string -> timestamp\n",
    "* dropoff_datetime_string: string -> timestamp\n",
    "* trip_type: string -> integer\n",
    "* payment_type: string -> integer\n",
    "* passenger_count: string -> integer\n",
    "* trip_distance: string -> double\n",
    "* fare_amount: string -> double\n",
    "* extra: string -> double\n",
    "* mta_tax: string -> double\n",
    "* tip_amount: string -> double\n",
    "* tolls_amount: string -> double\n",
    "* improvement_surcharge: string -> double\n",
    "* total_amount: string -> double\n",
    "\n",
    "### Rename Columns\n",
    "\n",
    "* **lpep_pickup_datetime** -> pickup_datetime\n",
    "* **lpep_dropoff_datetime** -> dropoff_datetime\n",
    "* **tpep_dropoff_datetime** -> dropoff_datetime\n",
    "* **tpep_dropoff_datetime** -> dropoff_datetime\n",
    "\n",
    "### Create new features\n",
    "\n",
    "* **taxi_type**: whether is a green or yellow cab - created in extract\n",
    "* **trip_duration**: time, in seconds, between trip start and trip end\n",
    "* **trip_duration_cat**: bins of trip durations; lt 5 Mins, 5-10 mins, 10-20 mins, 20-30 mins, gt 30 mins\n",
    "* **year**: the year the trip took place in - created in extract\n",
    "* **month**: the month the trip took place in\n",
    "* **hour**: the hour the trip took place in"
   ]
  },
  {
   "cell_type": "code",
   "execution_count": 16,
   "metadata": {},
   "outputs": [],
   "source": [
    "# Function to calulate trip duration category\n",
    "def get_trip_duration_category(time):\n",
    "    minutes = time / 60\n",
    "    if minutes < 5:\n",
    "        return \"Under 5 mins\"\n",
    "    elif 5 <= minutes < 10:\n",
    "        return \"5-10 mins\"\n",
    "    elif 10 <= minutes < 20:\n",
    "        return \"10-20 mins\"\n",
    "    elif 20 <= minutes < 30:\n",
    "        return \"20-30 mins\"\n",
    "    else:\n",
    "        return \"Above 30 mins\"\n",
    "\n",
    "# Register function as a Spark user defined function \n",
    "udf_get_trip_duration_category = F.udf(lambda x: get_trip_duration_category(x), StringType())"
   ]
  },
  {
   "cell_type": "code",
   "execution_count": 17,
   "metadata": {},
   "outputs": [],
   "source": [
    "# Function to calaculate kilometres from a value in miles - may not be required\n",
    "def get_kilometres_from_miles(miles):\n",
    "    km = miles * 1.60934\n",
    "    return km\n",
    "\n",
    "#Register function as a Spark user defined function\n",
    "udf_kilometres_from_miles = F.udf(lambda x: get_kilometres_from_miles(x), DoubleType())"
   ]
  },
  {
   "cell_type": "code",
   "execution_count": 18,
   "metadata": {},
   "outputs": [],
   "source": [
    "# Transforms specific to yellow taxi files\n",
    "def transform_yellow_taxi_data(df):\n",
    "    df = df.withColumnRenamed(\"tpep_pickup_datetime\", \"pickup_datetime\").\\\n",
    "            withColumnRenamed(\"tpep_dropoff_datetime\", \"dropoff_datetime\")\n",
    "    return df"
   ]
  },
  {
   "cell_type": "code",
   "execution_count": 19,
   "metadata": {},
   "outputs": [],
   "source": [
    "# Transforms specific to green taxi files\n",
    "def transform_green_taxi_data(df):\n",
    "    df = df.withColumnRenamed(\"lpep_pickup_datetime\", \"pickup_datetime\").\\\n",
    "            withColumnRenamed(\"lpep_dropoff_datetime\", \"dropoff_datetime\")\n",
    "    return(df)"
   ]
  },
  {
   "cell_type": "code",
   "execution_count": 20,
   "metadata": {},
   "outputs": [],
   "source": [
    "def transform_integer_columns(df, column):\n",
    "    if column in df.columns:\n",
    "        df = df.withColumn(column, F.col(column).astype(IntegerType()))\n",
    "    return df"
   ]
  },
  {
   "cell_type": "code",
   "execution_count": 21,
   "metadata": {},
   "outputs": [],
   "source": [
    "def transform_double_columns(df, column):\n",
    "    if column in df.columns:\n",
    "        df = df.withColumn(column, F.col(column).astype(DoubleType()))\n",
    "    return df"
   ]
  },
  {
   "cell_type": "code",
   "execution_count": 22,
   "metadata": {},
   "outputs": [],
   "source": [
    "# Transform field to timestamp data type\n",
    "def transform_timestamp_columns(df, column):\n",
    "    if column in df.columns:\n",
    "        df = df.withColumn(column, F.col(column).astype(TimestampType()))\n",
    "    return df"
   ]
  },
  {
   "cell_type": "code",
   "execution_count": 25,
   "metadata": {},
   "outputs": [],
   "source": [
    "# Transforms for all NYC TLC files\n",
    "def transform_generic_taxi_data(df, dt_columns, int_columns, num_columns, select_columns):\n",
    "    # Modify data type for timestamp columns\n",
    "    for column in dt_columns:\n",
    "        df = transform_timestamp_columns(df, column)\n",
    "    \n",
    "    # Modify data type for integers columns\n",
    "    for column in int_columns:\n",
    "        df = transform_integer_columns(df, column)\n",
    "        \n",
    "    # Modify data type for numbers/decimals\n",
    "    for column in num_columns:\n",
    "        df = transform_double_columns(df, column)\n",
    "    \n",
    "    # Add features\n",
    "    df = df.select(select_columns).\\\n",
    "            withColumn(\"trip_duration_seconds\", F.col(\"dropoff_datetime\").cast(\"long\") - F.col(\"pickup_datetime\").cast(\"long\")).\\\n",
    "            withColumn(\"trip_duration_category\", udf_get_trip_duration_category(F.col(\"trip_duration_seconds\"))).\\\n",
    "            withColumn(\"pickup_hour\", F.hour(F.col(\"pickup_datetime\"))).\\\n",
    "            withColumn(\"trip_distance_km\", udf_kilometres_from_miles(F.col(\"trip_distance\")))\n",
    "            #withColumn(\"trip_distance_km\", F.col(\"trip_distance\") * 1.60934)\n",
    "    \n",
    "    return df"
   ]
  },
  {
   "cell_type": "code",
   "execution_count": 26,
   "metadata": {},
   "outputs": [],
   "source": [
    "# Function to bring all transforms together\n",
    "def data_processing_transform(df, year, colour, month, dt_columns, int_columns, num_columns, select_columns):\n",
    "    df = df.withColumn(\"taxi_type\", F.lit(colour)).\\\n",
    "        withColumn(\"year\", F.lit(year)).\\\n",
    "        withColumn(\"month\", F.lit(month))\n",
    "    if colour == \"yellow\":\n",
    "        # Process transform tasks specific to yellow taxis\n",
    "        df = transform_yellow_taxi_data(df)\n",
    "    elif colour == \"green\":\n",
    "        # Process transform tasks specific to green taxis\n",
    "        df = transform_green_taxi_data(df)\n",
    "    else:\n",
    "        print(\"Taxi colour not defined\")\n",
    "\n",
    "    # Process generic transformations\n",
    "    df = transform_generic_taxi_data(df, dt_columns, int_columns, num_columns, select_columns)\n",
    "    return df"
   ]
  },
  {
   "cell_type": "markdown",
   "metadata": {},
   "source": [
    "## Data Clean\n",
    "### Remove records\n",
    "\n",
    "* **payment_type**: remove trips with a voided payment type and out of bounds\n",
    "* **RatecodeID**: remove trips out of bounds\n",
    "* **mta_tax**: remove incorrect non 0.50 mta_tax\n",
    "* **passenger_count**: remove less than one\n",
    "* **tip_amount**: remove negatives\n",
    "* **improvement_surcharge**: remove incorrect non 0.30 improvement_surcharge   \n",
    "* **fare_amount**: remove trips with a fare amount of zero or below\n",
    "* **extra**: remove trips negative or excessively high extras\n",
    "* **tolls_amount**: remove trips negative\n",
    "* **total_amount**: remove trips negative    \n",
    "* **trip_duration_seconds**: remove trips with a duration of zero, or less, seconds\n",
    "* **pickup_datetime**: remove trips outside month of stated period in file name\n"
   ]
  },
  {
   "cell_type": "code",
   "execution_count": 28,
   "metadata": {},
   "outputs": [],
   "source": [
    "### Filter on valid payment types and also remove voided trips ie those labelled 6\n",
    "def clean_payment_type(df):\n",
    "    df.filter((F.col(\"payment_type\") < 6) & (F.col(\"payment_type\") < 1))\n",
    "    return df"
   ]
  },
  {
   "cell_type": "code",
   "execution_count": 29,
   "metadata": {},
   "outputs": [],
   "source": [
    "### Filter on valid rate code ids\n",
    "def clean_rate_code_id(df):\n",
    "    df.filter((F.col(\"RatecodeID\") < 7) & (F.col(\"RatecodeID\") < 1))\n",
    "    return df"
   ]
  },
  {
   "cell_type": "code",
   "execution_count": 30,
   "metadata": {},
   "outputs": [],
   "source": [
    "### Filter for correct mta_tax\n",
    "def clean_mta_tax(df):\n",
    "    df.filter(F.col(\"mta_tax\") == 0.50)\n",
    "    return df"
   ]
  },
  {
   "cell_type": "code",
   "execution_count": 32,
   "metadata": {},
   "outputs": [],
   "source": [
    "### Filter for realistic passenger_count\n",
    "def clean_passenger_count(df):\n",
    "    df.filter((F.col(\"passenger_count\") >= 1)) \n",
    "    return df"
   ]
  },
  {
   "cell_type": "code",
   "execution_count": 33,
   "metadata": {},
   "outputs": [],
   "source": [
    "### Filter for realistic tip_amount\n",
    "def clean_tip_amount(df):\n",
    "    df.filter((F.col(\"tip_amount\") >= 0)) \n",
    "    return df"
   ]
  },
  {
   "cell_type": "code",
   "execution_count": 34,
   "metadata": {},
   "outputs": [],
   "source": [
    "### Filter for correct improvement_surcharge\n",
    "def clean_improvement_surcharge(df):\n",
    "    df.filter((F.col(\"improvement_surcharge\") == 0.30)) \n",
    "    return df"
   ]
  },
  {
   "cell_type": "code",
   "execution_count": 35,
   "metadata": {},
   "outputs": [],
   "source": [
    "### Filter for realistic fare_amount\n",
    "def clean_fare_amount(df):\n",
    "    df.filter((F.col(\"fare_amount\") > 0)) \n",
    "    return df"
   ]
  },
  {
   "cell_type": "code",
   "execution_count": 37,
   "metadata": {},
   "outputs": [],
   "source": [
    "### Filter for realistic extras and remove significantly higher extras, data dict says shouldn't be more than \n",
    "# night time and congestion fees normally but a bit inconsistent with the data\n",
    "def clean_extra(df):\n",
    "    df.filter((F.col(\"extra\") >= 0) & (F.col(\"extra\") < 3.5))\n",
    "    return df"
   ]
  },
  {
   "cell_type": "code",
   "execution_count": 38,
   "metadata": {},
   "outputs": [],
   "source": [
    "### Filter for realistic tolls_amount\n",
    "def clean_tolls_amount(df):\n",
    "    df.filter((F.col(\"tolls_amount\") >= 0)) \n",
    "    return df"
   ]
  },
  {
   "cell_type": "code",
   "execution_count": 39,
   "metadata": {},
   "outputs": [],
   "source": [
    "### Filter for realistic tolls_amount\n",
    "def clean_total_amount(df):\n",
    "    df.filter((F.col(\"total_amount\") > 0)) \n",
    "    return df"
   ]
  },
  {
   "cell_type": "code",
   "execution_count": 40,
   "metadata": {},
   "outputs": [],
   "source": [
    "# Remove records with a trip duration of 0 seconds, or less, or greater than 10 hours\n",
    "def clean_trip_duration_seconds(df):\n",
    "    df = df.filter((F.col(\"trip_duration_seconds\") > 0) & (F.col(\"trip_duration_seconds\") < 36000))\n",
    "    return df"
   ]
  },
  {
   "cell_type": "code",
   "execution_count": 41,
   "metadata": {},
   "outputs": [],
   "source": [
    "# Remove trips that are outside original files stated dates\n",
    "def clean_trips_outside_file_period(df, dt_field):  \n",
    "    df = df.filter((F.col(\"year\") == F.year(F.col(dt_field))) & (F.col(\"month\") == F.month(F.col(dt_field))))\n",
    "    return df"
   ]
  },
  {
   "cell_type": "code",
   "execution_count": 42,
   "metadata": {},
   "outputs": [],
   "source": [
    "# Function to bring all clean processes into one\n",
    "def data_processing_clean(df):\n",
    "    if \"payment_type\" in df.columns:\n",
    "        df = clean_payment_type(df)    \n",
    "    \n",
    "    if \"RatecodeID\" in df.columns:\n",
    "        df = clean_rate_code_id(df)\n",
    "        \n",
    "    if \"mta_tax\" in df.columns:\n",
    "        df = clean_mta_tax(df)\n",
    "        \n",
    "    if \"passenger_count\" in df.columns:\n",
    "        df = clean_passenger_count(df)\n",
    "        \n",
    "    if \"tip_amount\" in df.columns:\n",
    "        df = clean_tip_amount(df)\n",
    "    \n",
    "    if \"fare_amount\" in df.columns:\n",
    "        df = clean_fare_amount(df)\n",
    "        \n",
    "    if \"extra\" in df.columns:\n",
    "        df = clean_extra(df)        \n",
    "        \n",
    "    if \"tolls_amount\" in df.columns(df):\n",
    "        df = clean_tolls_amount(df)\n",
    "        \n",
    "    if \"total_amount\" in df.columns(df):\n",
    "        df = clean_total_amount(df)\n",
    "        \n",
    "    if \"trip_duration_seconds\" in df.columns:\n",
    "        df = clean_trip_duration_seconds(df)\n",
    "\n",
    "    # Remove records outside file month year\n",
    "    df = clean_trips_outside_file_period(df, \"pickup_datetime\")\n",
    "    \n",
    "    return df"
   ]
  },
  {
   "cell_type": "markdown",
   "metadata": {},
   "source": [
    "## Clean and Write Data into a parquet file"
   ]
  },
  {
   "cell_type": "code",
   "execution_count": 43,
   "metadata": {},
   "outputs": [],
   "source": [
    "# Function to write data to parquet files\n",
    "def write_data_to_parquet(df, mode):\n",
    "    #df = df.repartition(F.col(\"year\"), F.col(\"month\"))\n",
    "    df.write.partitionBy(\"year\",\"month\").parquet(\"./output\", mode=mode)"
   ]
  },
  {
   "cell_type": "code",
   "execution_count": null,
   "metadata": {},
   "outputs": [],
   "source": [
    "loop_num = 1\n",
    "\n",
    "# For each applicable year, month and taxi colour process files and load into parquet \n",
    "for year in years:\n",
    "    for tlc_colour in tlc_colours:\n",
    "        for month in months:\n",
    "            start = dt.datetime.now()\n",
    "            df_extract = extract_data_from_bucket(bucket_name, year, tlc_colour, month)\n",
    "            df_transform = data_processing_transform(df_extract,\n",
    "                                                     year,\n",
    "                                                     tlc_colour,\n",
    "                                                     month,\n",
    "                                                     dt_columns,\n",
    "                                                     int_columns,\n",
    "                                                     num_columns,\n",
    "                                                     initial_columns)\n",
    "            df_clean = data_processing_clean(df_transform)\n",
    "            \n",
    "            # Now write data to parquet\n",
    "            if loop_num == 1:\n",
    "                mode = \"overwrite\"\n",
    "            else:\n",
    "                mode = \"append\"\n",
    "            \n",
    "            write_data_to_parquet(df_clean, mode)\n",
    "            \n",
    "            loop_num += 1\n",
    "            end = dt.datetime.now()\n",
    "            process_time = abs((end - start).seconds)\n",
    "            string = \"Data file for month: {}, year: {} and taxi colour: {} successfully loaded in {} seconds\".format(month, year, tlc_colour, process_time)\n",
    "            print(string)"
   ]
  }
 ],
 "metadata": {
  "kernelspec": {
   "display_name": "Python 3",
   "language": "python",
   "name": "python3"
  },
  "language_info": {
   "codemirror_mode": {
    "name": "ipython",
    "version": 3
   },
   "file_extension": ".py",
   "mimetype": "text/x-python",
   "name": "python",
   "nbconvert_exporter": "python",
   "pygments_lexer": "ipython3",
   "version": "3.7.6"
  }
 },
 "nbformat": 4,
 "nbformat_minor": 4
}
