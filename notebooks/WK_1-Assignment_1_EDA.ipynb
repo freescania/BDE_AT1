{
 "cells": [
  {
   "cell_type": "markdown",
   "metadata": {},
   "source": [
    "# Assignment 1: NYC Taxi Data"
   ]
  },
  {
   "cell_type": "markdown",
   "metadata": {},
   "source": [
    "## Exploratory Data Analysis of NYC taxi data\n",
    "NYC taxi trip data can be found [here](https://www1.nyc.gov/site/tlc/about/tlc-trip-record-data.page). The data includes both yellow and green taxi trips capturing pick-up and drop-off date and times as well as other attributes of the trip including fare."
   ]
  },
  {
   "cell_type": "code",
   "execution_count": 1,
   "metadata": {},
   "outputs": [],
   "source": [
    "# Import required packages\n",
    "import boto3\n",
    "from pyspark.sql import SparkSession\n",
    "from pyspark.sql.types import IntegerType, DoubleType\n",
    "import pyspark.sql.functions as F"
   ]
  },
  {
   "cell_type": "code",
   "execution_count": 2,
   "metadata": {},
   "outputs": [],
   "source": [
    "# Create a local spark session\n",
    "spark = SparkSession.builder \\\n",
    "        .appName('nyc-taxi-eda') \\\n",
    "        .getOrCreate()"
   ]
  },
  {
   "cell_type": "code",
   "execution_count": 3,
   "metadata": {},
   "outputs": [],
   "source": [
    "# Set parameters \n",
    "bucket_name = \"nyc-tlc\" # s3 bucket name with required nyc tlc files"
   ]
  },
  {
   "cell_type": "code",
   "execution_count": 4,
   "metadata": {},
   "outputs": [],
   "source": [
    "# Create function to read S3 bucket\n",
    "def list_bucket_contents(bucket, match=''):\n",
    "    files = []\n",
    "    s3_resource = boto3.resource('s3')\n",
    "    bucket_resource = s3_resource.Bucket(bucket)\n",
    "    for key in bucket_resource.objects.all():\n",
    "        if match in key.key:\n",
    "            files.append(key.key)\n",
    "    return files"
   ]
  },
  {
   "cell_type": "code",
   "execution_count": 5,
   "metadata": {},
   "outputs": [],
   "source": [
    "colours = [\"yellow\",\"green\"]\n",
    "years = [\"2017\",\"2018\"]\n",
    "files = []\n",
    "\n",
    "for year in years:\n",
    "    for colour in colours:\n",
    "        match = colour + \"_tripdata_\" + year\n",
    "        files.extend(list_bucket_contents(bucket=bucket_name, match=match))"
   ]
  },
  {
   "cell_type": "markdown",
   "metadata": {},
   "source": [
    "### EDA of Yellow Taxi Trip Data\n",
    "\n",
    "Yellow taxis are iconic in NYC. They are traditionally found in lower Manhattan making trips around the congested CBD. They rarely service the subrubs of New York. Yellow cabs are only allowed to pick up \"hailed\" passengers and use a standard metered rate ([reference](https://www1.nyc.gov/site/tlc/passengers/your-ride.page)). "
   ]
  },
  {
   "cell_type": "code",
   "execution_count": 6,
   "metadata": {},
   "outputs": [],
   "source": [
    "# Read January 2018 yellow taxi cab data from S3 bucket\n",
    "yellow_df = spark.read.csv(f\"s3a://{bucket_name}/trip data/yellow_tripdata_2018-01.csv\", header=True)"
   ]
  },
  {
   "cell_type": "code",
   "execution_count": 6,
   "metadata": {},
   "outputs": [
    {
     "name": "stdout",
     "output_type": "stream",
     "text": [
      "+--------+--------------------+---------------------+---------------+-------------+----------+------------------+------------+------------+------------+-----------+-----+-------+----------+------------+---------------------+------------+\n",
      "|VendorID|tpep_pickup_datetime|tpep_dropoff_datetime|passenger_count|trip_distance|RatecodeID|store_and_fwd_flag|PULocationID|DOLocationID|payment_type|fare_amount|extra|mta_tax|tip_amount|tolls_amount|improvement_surcharge|total_amount|\n",
      "+--------+--------------------+---------------------+---------------+-------------+----------+------------------+------------+------------+------------+-----------+-----+-------+----------+------------+---------------------+------------+\n",
      "|       1| 2018-01-01 00:21:05|  2018-01-01 00:24:23|              1|          .50|         1|                 N|          41|          24|           2|        4.5|  0.5|    0.5|         0|           0|                  0.3|         5.8|\n",
      "|       1| 2018-01-01 00:44:55|  2018-01-01 01:03:05|              1|         2.70|         1|                 N|         239|         140|           2|         14|  0.5|    0.5|         0|           0|                  0.3|        15.3|\n",
      "|       1| 2018-01-01 00:08:26|  2018-01-01 00:14:21|              2|          .80|         1|                 N|         262|         141|           1|          6|  0.5|    0.5|         1|           0|                  0.3|         8.3|\n",
      "|       1| 2018-01-01 00:20:22|  2018-01-01 00:52:51|              1|        10.20|         1|                 N|         140|         257|           2|       33.5|  0.5|    0.5|         0|           0|                  0.3|        34.8|\n",
      "|       1| 2018-01-01 00:09:18|  2018-01-01 00:27:06|              2|         2.50|         1|                 N|         246|         239|           1|       12.5|  0.5|    0.5|      2.75|           0|                  0.3|       16.55|\n",
      "|       1| 2018-01-01 00:29:29|  2018-01-01 00:32:48|              3|          .50|         1|                 N|         143|         143|           2|        4.5|  0.5|    0.5|         0|           0|                  0.3|         5.8|\n",
      "|       1| 2018-01-01 00:38:08|  2018-01-01 00:48:24|              2|         1.70|         1|                 N|          50|         239|           1|          9|  0.5|    0.5|      2.05|           0|                  0.3|       12.35|\n",
      "|       1| 2018-01-01 00:49:29|  2018-01-01 00:51:53|              1|          .70|         1|                 N|         239|         238|           1|          4|  0.5|    0.5|         1|           0|                  0.3|         6.3|\n",
      "|       1| 2018-01-01 00:56:38|  2018-01-01 01:01:05|              1|         1.00|         1|                 N|         238|          24|           1|        5.5|  0.5|    0.5|       1.7|           0|                  0.3|         8.5|\n",
      "|       1| 2018-01-01 00:17:04|  2018-01-01 00:22:24|              1|          .70|         1|                 N|         170|         170|           2|        5.5|  0.5|    0.5|         0|           0|                  0.3|         6.8|\n",
      "|       1| 2018-01-01 00:41:03|  2018-01-01 00:46:49|              1|          .60|         1|                 N|         162|         229|           1|        5.5|  0.5|    0.5|      1.35|           0|                  0.3|        8.15|\n",
      "|       1| 2018-01-01 00:52:54|  2018-01-01 01:17:33|              1|         3.50|         1|                 N|         141|         113|           2|       16.5|  0.5|    0.5|         0|           0|                  0.3|        17.8|\n",
      "|       2| 2018-01-01 00:17:54|  2018-01-01 00:22:05|              1|         1.04|         1|                 N|         137|         224|           2|        5.5|  0.5|    0.5|         0|           0|                  0.3|         6.8|\n",
      "|       2| 2018-01-01 00:24:47|  2018-01-01 00:34:20|              1|         1.22|         1|                 N|         224|          79|           2|        7.5|  0.5|    0.5|         0|           0|                  0.3|         8.8|\n",
      "|       2| 2018-01-01 00:37:57|  2018-01-01 00:53:43|              1|         1.92|         1|                 N|         234|         100|           2|         10|  0.5|    0.5|         0|           0|                  0.3|        11.3|\n",
      "|       1| 2018-01-01 00:35:53|  2018-01-01 00:52:59|              1|         5.70|         1|                 N|          13|         189|           1|         19|  0.5|    0.5|      4.05|           0|                  0.3|       24.35|\n",
      "|       2| 2018-01-01 00:30:47|  2018-01-01 01:13:20|              1|         3.74|         1|                 N|          48|         236|           1|       25.5|  0.5|    0.5|       6.7|           0|                  0.3|        33.5|\n",
      "|       1| 2018-01-01 00:21:45|  2018-01-01 00:25:58|              2|          .60|         1|                 N|         163|         162|           1|        4.5|  0.5|    0.5|       1.7|           0|                  0.3|         7.5|\n",
      "|       1| 2018-01-01 00:31:11|  2018-01-01 01:07:56|              1|        10.90|         1|                 N|         229|          61|           2|         35|  0.5|    0.5|         0|           0|                  0.3|        36.3|\n",
      "|       2| 2018-01-01 00:15:42|  2018-01-01 00:21:38|              5|         1.22|         1|                 N|         236|          75|           2|          6|  0.5|    0.5|         0|           0|                  0.3|         7.3|\n",
      "+--------+--------------------+---------------------+---------------+-------------+----------+------------------+------------+------------+------------+-----------+-----+-------+----------+------------+---------------------+------------+\n",
      "only showing top 20 rows\n",
      "\n"
     ]
    }
   ],
   "source": [
    "# Show first twenty rows of the imported file\n",
    "yellow_df.show(20)"
   ]
  },
  {
   "cell_type": "code",
   "execution_count": 7,
   "metadata": {},
   "outputs": [
    {
     "name": "stdout",
     "output_type": "stream",
     "text": [
      "root\n",
      " |-- VendorID: string (nullable = true)\n",
      " |-- tpep_pickup_datetime: string (nullable = true)\n",
      " |-- tpep_dropoff_datetime: string (nullable = true)\n",
      " |-- passenger_count: string (nullable = true)\n",
      " |-- trip_distance: string (nullable = true)\n",
      " |-- RatecodeID: string (nullable = true)\n",
      " |-- store_and_fwd_flag: string (nullable = true)\n",
      " |-- PULocationID: string (nullable = true)\n",
      " |-- DOLocationID: string (nullable = true)\n",
      " |-- payment_type: string (nullable = true)\n",
      " |-- fare_amount: string (nullable = true)\n",
      " |-- extra: string (nullable = true)\n",
      " |-- mta_tax: string (nullable = true)\n",
      " |-- tip_amount: string (nullable = true)\n",
      " |-- tolls_amount: string (nullable = true)\n",
      " |-- improvement_surcharge: string (nullable = true)\n",
      " |-- total_amount: string (nullable = true)\n",
      "\n"
     ]
    }
   ],
   "source": [
    "# Print schema of data frame to show field data types and nullability\n",
    "yellow_df.printSchema()"
   ]
  },
  {
   "cell_type": "markdown",
   "metadata": {},
   "source": [
    "#### Data Type Changes\n",
    "All fields imported as a string. The following data type conversions are required:\n",
    "\n",
    "* tpep_pickup_datetime: string -> timestamp\n",
    "* tpep_dropoff_datetime: string -> timestamp\n",
    "* passenger_count: string -> integer\n",
    "* trip_distance: string -> double\n",
    "* store_and_fwd: string -> boolean ?\n",
    "* fare_amount: string -> double\n",
    "* extra: string -> double\n",
    "* mta_tax: string -> double\n",
    "* tip_amount: string -> double\n",
    "* tolls_amount: string -> double\n",
    "* improvement_surcharge: string -> double\n",
    "* total_amount: string -> double"
   ]
  },
  {
   "cell_type": "code",
   "execution_count": 8,
   "metadata": {},
   "outputs": [
    {
     "name": "stdout",
     "output_type": "stream",
     "text": [
      "+-------+------------------+--------------------+---------------------+------------------+------------------+-------------------+------------------+------------------+------------------+------------------+------------------+-------------------+--------------------+-----------------+-------------------+---------------------+------------------+\n",
      "|summary|          VendorID|tpep_pickup_datetime|tpep_dropoff_datetime|   passenger_count|     trip_distance|         RatecodeID|store_and_fwd_flag|      PULocationID|      DOLocationID|      payment_type|       fare_amount|              extra|             mta_tax|       tip_amount|       tolls_amount|improvement_surcharge|      total_amount|\n",
      "+-------+------------------+--------------------+---------------------+------------------+------------------+-------------------+------------------+------------------+------------------+------------------+------------------+-------------------+--------------------+-----------------+-------------------+---------------------+------------------+\n",
      "|  count|           8759874|             8759874|              8759874|           8759874|           8759874|            8759874|           8759874|           8759874|           8759874|           8759874|           8759874|            8759874|             8759874|          8759874|            8759874|              8759874|           8759874|\n",
      "|   mean| 1.560940488413418|                null|                 null|1.6068553040831408|2.8040011340344546| 1.0395448610333893|              null|164.45848330695168|162.72690703085456|1.3106107462276284|12.244343055619364|0.32468224999583284| 0.49750666505020497|1.818745089256141|0.30261334010082325|   0.2996306453647683|15.490981804276524|\n",
      "| stddev|0.4962723899102258|                null|                 null|1.2584640789962354| 64.12346207520153|0.44506996280132866|              null|  66.3602106456218| 70.31163913883266|0.4817818291071878|11.683211288576446| 0.4502524099265603|0.043333185106227905|2.486340657879977| 1.7381847915243638| 0.014428145814749976| 14.19540241255908|\n",
      "|    min|                 1| 2001-01-05 11:45:23|  2001-01-05 11:52:05|                 0|               .00|                  1|                 N|                 1|                 1|                 1|             -0.01|              -0.35|                -0.5|            -0.26|              -10.5|                 -0.3|             -0.31|\n",
      "|    25%|               1.0|                null|                 null|               1.0|              0.91|                1.0|              null|             116.0|             113.0|               1.0|               6.0|                0.0|                 0.5|              0.0|                0.0|                  0.3|               8.3|\n",
      "|    50%|               2.0|                null|                 null|               1.0|              1.55|                1.0|              null|             162.0|             162.0|               1.0|               9.0|                0.0|                 0.5|             1.36|                0.0|                  0.3|              11.3|\n",
      "|    75%|               2.0|                null|                 null|               2.0|              2.85|                1.0|              null|             234.0|             234.0|               2.0|              13.5|                0.5|                 0.5|             2.35|                0.0|                  0.3|             16.62|\n",
      "|    max|                 2| 2018-07-27 04:06:37|  2018-07-27 04:46:57|                 9|             99.00|                 99|                 Y|                98|                98|                 4|             99.99|                 60|                6.33|             97.7|                 99|                    1|             99.98|\n",
      "+-------+------------------+--------------------+---------------------+------------------+------------------+-------------------+------------------+------------------+------------------+------------------+------------------+-------------------+--------------------+-----------------+-------------------+---------------------+------------------+\n",
      "\n"
     ]
    }
   ],
   "source": [
    "# Show summary statistics of the dataframe\n",
    "yellow_df.summary().show()"
   ]
  },
  {
   "cell_type": "markdown",
   "metadata": {},
   "source": [
    "#### Data Issues\n",
    "\n",
    "* tpep_pickup_datetime: min date 2001-01-05 for 2018-01 file; max date 2018-07-27 for 2018-01 file\n",
    "* tpep_dropoff_datetime: min date 2001-01-05 for 2018-01 file; max date 2018-07-27 for 2018-01 file\n",
    "* passenger_count: min = zero\n",
    "* trip_distance: min = zero\n",
    "* ratecodeid: max = 99; documentation only expects values of 1 to 6\n",
    "* fare_amount: min amount is negative\n",
    "* other amounts: min amounts are negative\n",
    "* mta_tax: should be $\\$$1.00 or $\\$$0.50 but has values up to $\\$$6.33"
   ]
  },
  {
   "cell_type": "code",
   "execution_count": 7,
   "metadata": {},
   "outputs": [
    {
     "data": {
      "text/plain": [
       "8759874"
      ]
     },
     "execution_count": 7,
     "metadata": {},
     "output_type": "execute_result"
    }
   ],
   "source": [
    "# Count total records in the data frame\n",
    "yellow_df.count()"
   ]
  },
  {
   "cell_type": "code",
   "execution_count": null,
   "metadata": {},
   "outputs": [],
   "source": [
    "# Check for nulls\n",
    "yellow_df.select([count(when(isnan(c), c)).alias(c) for c in yellow_df.columns]).show()"
   ]
  },
  {
   "cell_type": "code",
   "execution_count": 9,
   "metadata": {},
   "outputs": [
    {
     "name": "stdout",
     "output_type": "stream",
     "text": [
      "+--------------------+-------------------+---------------------+-------------------+-------------+\n",
      "|tpep_pickup_datetime|    pickup_datetime|tpep_dropoff_datetime|   dropoff_datetime|trip_duration|\n",
      "+--------------------+-------------------+---------------------+-------------------+-------------+\n",
      "| 2018-01-01 15:15:13|2018-01-01 15:15:13|  2017-12-28 16:03:38|2017-12-28 16:03:38|      -342695|\n",
      "| 2018-01-23 13:12:19|2018-01-23 13:12:19|  2018-01-23 00:28:25|2018-01-23 00:28:25|       -45834|\n",
      "+--------------------+-------------------+---------------------+-------------------+-------------+\n",
      "\n"
     ]
    }
   ],
   "source": [
    "# Determine if there are any drop offs before pickups\n",
    "yellow_df.withColumn(\"pickup_datetime\", F.unix_timestamp(F.col(\"tpep_pickup_datetime\"), \"yyyy-MM-dd' 'HH:mm:ss\").cast(\"timestamp\")).\\\n",
    "    withColumn(\"dropoff_datetime\", F.unix_timestamp(F.col(\"tpep_dropoff_datetime\"), \"yyyy-MM-dd' 'HH:mm:ss\").cast(\"timestamp\")).\\\n",
    "    withColumn(\"trip_duration\", (F.col(\"dropoff_datetime\").cast(\"long\") - F.col(\"pickup_datetime\").cast(\"long\"))).\\\n",
    "    filter(F.col(\"trip_duration\") < 0).\\\n",
    "    select([\"tpep_pickup_datetime\",\"pickup_datetime\",\"tpep_dropoff_datetime\",\"dropoff_datetime\",\"trip_duration\"]).\\\n",
    "    show()"
   ]
  },
  {
   "cell_type": "code",
   "execution_count": 102,
   "metadata": {},
   "outputs": [
    {
     "name": "stdout",
     "output_type": "stream",
     "text": [
      "+--------------------+-------------------+---------------------+-------------------+-------------+-----------+\n",
      "|tpep_pickup_datetime|    pickup_datetime|tpep_dropoff_datetime|   dropoff_datetime|trip_duration|fare_amount|\n",
      "+--------------------+-------------------+---------------------+-------------------+-------------+-----------+\n",
      "| 2018-01-01 00:38:57|2018-01-01 00:38:57|  2018-01-01 00:39:00|2018-01-01 00:39:00|            3|        2.5|\n",
      "| 2018-01-01 00:48:59|2018-01-01 00:48:59|  2018-01-01 00:49:00|2018-01-01 00:49:00|            1|        2.5|\n",
      "| 2018-01-01 00:20:53|2018-01-01 00:20:53|  2018-01-01 00:20:53|2018-01-01 00:20:53|            0|       14.5|\n",
      "| 2018-01-01 00:43:40|2018-01-01 00:43:40|  2018-01-01 00:43:44|2018-01-01 00:43:44|            4|        2.5|\n",
      "| 2018-01-01 00:12:01|2018-01-01 00:12:01|  2018-01-01 00:12:04|2018-01-01 00:12:04|            3|         75|\n",
      "| 2018-01-01 00:02:31|2018-01-01 00:02:31|  2018-01-01 00:02:42|2018-01-01 00:02:42|           11|        2.5|\n",
      "| 2018-01-01 00:32:34|2018-01-01 00:32:34|  2018-01-01 00:32:38|2018-01-01 00:32:38|            4|         15|\n",
      "| 2018-01-01 00:16:58|2018-01-01 00:16:58|  2018-01-01 00:17:07|2018-01-01 00:17:07|            9|        2.5|\n",
      "| 2018-01-01 00:40:25|2018-01-01 00:40:25|  2018-01-01 00:40:47|2018-01-01 00:40:47|           22|        2.5|\n",
      "| 2018-01-01 00:51:57|2018-01-01 00:51:57|  2018-01-01 00:52:06|2018-01-01 00:52:06|            9|        2.5|\n",
      "| 2018-01-01 00:04:21|2018-01-01 00:04:21|  2018-01-01 00:04:25|2018-01-01 00:04:25|            4|         15|\n",
      "| 2018-01-01 00:33:30|2018-01-01 00:33:30|  2018-01-01 00:33:32|2018-01-01 00:33:32|            2|         11|\n",
      "| 2018-01-01 00:46:13|2018-01-01 00:46:13|  2018-01-01 00:46:13|2018-01-01 00:46:13|            0|       24.5|\n",
      "| 2018-01-01 00:15:05|2018-01-01 00:15:05|  2018-01-01 00:15:07|2018-01-01 00:15:07|            2|        2.5|\n",
      "| 2018-01-01 00:12:57|2018-01-01 00:12:57|  2018-01-01 00:13:16|2018-01-01 00:13:16|           19|        2.5|\n",
      "| 2018-01-01 00:47:14|2018-01-01 00:47:14|  2018-01-01 00:47:14|2018-01-01 00:47:14|            0|         29|\n",
      "| 2018-01-01 00:29:51|2018-01-01 00:29:51|  2018-01-01 00:30:11|2018-01-01 00:30:11|           20|        2.5|\n",
      "| 2018-01-01 00:19:53|2018-01-01 00:19:53|  2018-01-01 00:19:58|2018-01-01 00:19:58|            5|        8.5|\n",
      "| 2018-01-01 00:19:33|2018-01-01 00:19:33|  2018-01-01 00:19:38|2018-01-01 00:19:38|            5|         64|\n",
      "| 2018-01-01 00:46:31|2018-01-01 00:46:31|  2018-01-01 00:46:34|2018-01-01 00:46:34|            3|      -13.8|\n",
      "+--------------------+-------------------+---------------------+-------------------+-------------+-----------+\n",
      "only showing top 20 rows\n",
      "\n"
     ]
    }
   ],
   "source": [
    "yellow_df.withColumn(\"pickup_datetime\", F.unix_timestamp(F.col(\"tpep_pickup_datetime\"), \"yyyy-MM-dd' 'HH:mm:ss\").cast(\"timestamp\")).\\\n",
    "    withColumn(\"dropoff_datetime\", F.unix_timestamp(F.col(\"tpep_dropoff_datetime\"), \"yyyy-MM-dd' 'HH:mm:ss\").cast(\"timestamp\")).\\\n",
    "    withColumn(\"trip_duration\", (F.col(\"dropoff_datetime\").cast(\"long\") - F.col(\"pickup_datetime\").cast(\"long\"))).\\\n",
    "    filter(F.col(\"trip_duration\") < 30).\\\n",
    "    select([\"tpep_pickup_datetime\",\"pickup_datetime\",\"tpep_dropoff_datetime\",\"dropoff_datetime\",\"trip_duration\",\"fare_amount\"]).\\\n",
    "    show()"
   ]
  },
  {
   "cell_type": "code",
   "execution_count": 16,
   "metadata": {},
   "outputs": [
    {
     "name": "stdout",
     "output_type": "stream",
     "text": [
      "+--------------------+-------------------+---------------------+-------------------+-------------+-----------+\n",
      "|tpep_pickup_datetime|    pickup_datetime|tpep_dropoff_datetime|   dropoff_datetime|trip_duration|fare_amount|\n",
      "+--------------------+-------------------+---------------------+-------------------+-------------+-----------+\n",
      "| 2018-01-01 00:57:31|2018-01-01 00:57:31|  2018-01-02 00:53:25|2018-01-02 00:53:25|        86154|        2.5|\n",
      "| 2017-12-31 12:52:15|2017-12-31 12:52:15|  2018-01-01 12:13:05|2018-01-01 12:13:05|        84050|       13.5|\n",
      "| 2018-01-01 00:23:33|2018-01-01 00:23:33|  2018-01-02 00:14:47|2018-01-02 00:14:47|        85874|       13.5|\n",
      "| 2018-01-01 00:20:28|2018-01-01 00:20:28|  2018-01-01 23:05:08|2018-01-01 23:05:08|        81880|        9.5|\n",
      "| 2017-12-31 22:15:21|2017-12-31 22:15:21|  2018-01-01 21:45:23|2018-01-01 21:45:23|        84602|       18.5|\n",
      "| 2018-01-01 00:57:40|2018-01-01 00:57:40|  2018-01-02 00:52:37|2018-01-02 00:52:37|        86097|         12|\n",
      "| 2018-01-01 00:16:24|2018-01-01 00:16:24|  2018-01-01 22:34:35|2018-01-01 22:34:35|        80291|         17|\n",
      "| 2018-01-01 00:42:04|2018-01-01 00:42:04|  2018-01-02 00:40:06|2018-01-02 00:40:06|        86282|          4|\n",
      "| 2017-12-31 18:53:22|2017-12-31 18:53:22|  2018-01-01 17:57:59|2018-01-01 17:57:59|        83077|        5.5|\n",
      "| 2018-01-01 00:54:35|2018-01-01 00:54:35|  2018-01-02 00:51:09|2018-01-02 00:51:09|        86194|         23|\n",
      "| 2017-12-31 12:00:45|2017-12-31 12:00:45|  2018-01-01 11:40:06|2018-01-01 11:40:06|        85161|       22.5|\n",
      "| 2018-01-01 00:30:36|2018-01-01 00:30:36|  2018-01-01 23:46:46|2018-01-01 23:46:46|        83770|        7.5|\n",
      "| 2018-01-01 00:14:06|2018-01-01 00:14:06|  2018-01-01 23:37:32|2018-01-01 23:37:32|        84206|        9.5|\n",
      "| 2018-01-01 00:26:25|2018-01-01 00:26:25|  2018-01-02 00:20:07|2018-01-02 00:20:07|        86022|          5|\n",
      "| 2018-01-01 00:47:28|2018-01-01 00:47:28|  2018-01-02 00:44:24|2018-01-02 00:44:24|        86216|         11|\n",
      "| 2017-12-31 22:57:14|2017-12-31 22:57:14|  2018-01-01 22:09:57|2018-01-01 22:09:57|        83563|        9.5|\n",
      "| 2018-01-01 00:30:37|2018-01-01 00:30:37|  2018-01-02 00:29:50|2018-01-02 00:29:50|        86353|         34|\n",
      "| 2017-12-31 21:59:38|2017-12-31 21:59:38|  2018-01-01 21:07:14|2018-01-01 21:07:14|        83256|        8.5|\n",
      "| 2018-01-01 00:26:09|2018-01-01 00:26:09|  2018-01-02 00:13:21|2018-01-02 00:13:21|        85632|         11|\n",
      "| 2018-01-01 00:46:27|2018-01-01 00:46:27|  2018-01-02 00:44:21|2018-01-02 00:44:21|        86274|        9.5|\n",
      "+--------------------+-------------------+---------------------+-------------------+-------------+-----------+\n",
      "only showing top 20 rows\n",
      "\n"
     ]
    }
   ],
   "source": [
    "# Look to see how many trips are greater than 10 hours\n",
    "yellow_df.withColumn(\"pickup_datetime\", F.unix_timestamp(F.col(\"tpep_pickup_datetime\"), \"yyyy-MM-dd' 'HH:mm:ss\").cast(\"timestamp\")).\\\n",
    "    withColumn(\"dropoff_datetime\", F.unix_timestamp(F.col(\"tpep_dropoff_datetime\"), \"yyyy-MM-dd' 'HH:mm:ss\").cast(\"timestamp\")).\\\n",
    "    withColumn(\"trip_duration\", (F.col(\"dropoff_datetime\").cast(\"long\") - F.col(\"pickup_datetime\").cast(\"long\"))).\\\n",
    "    filter(F.col(\"trip_duration\") > 36000).\\\n",
    "    select([\"tpep_pickup_datetime\",\"pickup_datetime\",\"tpep_dropoff_datetime\",\"dropoff_datetime\",\"trip_duration\",\"fare_amount\"]).\\\n",
    "    show()"
   ]
  },
  {
   "cell_type": "code",
   "execution_count": 80,
   "metadata": {},
   "outputs": [
    {
     "name": "stdout",
     "output_type": "stream",
     "text": [
      "+----------+-----+\n",
      "|RateCodeID|count|\n",
      "+----------+-----+\n",
      "|        99|  106|\n",
      "+----------+-----+\n",
      "\n"
     ]
    }
   ],
   "source": [
    "# Investigate size of 99 RateCodeID issue\n",
    "yellow_df.filter(F.col(\"RateCodeID\") > 6).\\\n",
    "    groupBy(\"RateCodeID\").\\\n",
    "    count().\\\n",
    "    show()"
   ]
  },
  {
   "cell_type": "code",
   "execution_count": 86,
   "metadata": {},
   "outputs": [
    {
     "data": {
      "text/plain": [
       "59269"
      ]
     },
     "execution_count": 86,
     "metadata": {},
     "output_type": "execute_result"
    }
   ],
   "source": [
    "yellow_df.filter(F.col(\"passenger_count\").astype(IntegerType()) < 1).\\\n",
    "    count()"
   ]
  },
  {
   "cell_type": "code",
   "execution_count": 11,
   "metadata": {},
   "outputs": [
    {
     "data": {
      "text/plain": [
       "'1'"
      ]
     },
     "execution_count": 11,
     "metadata": {},
     "output_type": "execute_result"
    }
   ],
   "source": [
    "yellow_df.filter(F.col(\"passenger_count\").astype(IntegerType()) > 0).\\\n",
    "    groupBy(\"passenger_count\").\\\n",
    "    count().\\\n",
    "    orderBy(\"count\", ascending=False).\\\n",
    "    first()[0]"
   ]
  },
  {
   "cell_type": "code",
   "execution_count": 91,
   "metadata": {},
   "outputs": [
    {
     "data": {
      "text/plain": [
       "1986"
      ]
     },
     "execution_count": 91,
     "metadata": {},
     "output_type": "execute_result"
    }
   ],
   "source": [
    "yellow_df.filter(F.col(\"trip_distance\") <= 0.0).\\\n",
    "    filter(F.col(\"fare_amount\").astype(DoubleType()) <= 0.0).\\\n",
    "    count()"
   ]
  },
  {
   "cell_type": "code",
   "execution_count": 92,
   "metadata": {},
   "outputs": [
    {
     "data": {
      "text/plain": [
       "4512"
      ]
     },
     "execution_count": 92,
     "metadata": {},
     "output_type": "execute_result"
    }
   ],
   "source": [
    "yellow_df.filter(F.col(\"trip_distance\") > 0.0).\\\n",
    "    filter(F.col(\"fare_amount\").astype(DoubleType()) <= 0.0).\\\n",
    "    count()"
   ]
  },
  {
   "cell_type": "code",
   "execution_count": 13,
   "metadata": {},
   "outputs": [
    {
     "name": "stdout",
     "output_type": "stream",
     "text": [
      "+--------+--------------------+---------------------+---------------+-------------+----------+------------------+------------+------------+------------+-----------+-----+-------+----------+------------+---------------------+------------+\n",
      "|VendorID|tpep_pickup_datetime|tpep_dropoff_datetime|passenger_count|trip_distance|RatecodeID|store_and_fwd_flag|PULocationID|DOLocationID|payment_type|fare_amount|extra|mta_tax|tip_amount|tolls_amount|improvement_surcharge|total_amount|\n",
      "+--------+--------------------+---------------------+---------------+-------------+----------+------------------+------------+------------+------------+-----------+-----+-------+----------+------------+---------------------+------------+\n",
      "|       1| 2018-01-01 00:20:53|  2018-01-01 00:20:53|              1|          .00|         1|                 N|         161|         264|           2|       14.5|  0.5|    0.5|         0|           0|                  0.3|        15.8|\n",
      "|       2| 2018-01-01 00:57:31|  2018-01-02 00:53:25|              1|          .00|         1|                 N|         107|         107|           1|        2.5|  0.5|    0.5|      0.76|           0|                  0.3|        4.56|\n",
      "|       2| 2018-01-01 00:43:40|  2018-01-01 00:43:44|              1|          .00|         1|                 N|         193|         193|           2|        2.5|  0.5|    0.5|         0|           0|                  0.3|         3.8|\n",
      "|       2| 2018-01-01 00:12:01|  2018-01-01 00:12:04|              1|          .00|         5|                 N|         265|         265|           1|         75|    0|      0|         0|           0|                  0.3|        75.3|\n",
      "|       2| 2018-01-01 00:02:31|  2018-01-01 00:02:42|              5|          .00|         1|                 N|         166|         166|           1|        2.5|  0.5|    0.5|        13|           0|                  0.3|        16.8|\n",
      "|       1| 2018-01-01 00:16:58|  2018-01-01 00:17:07|              1|          .00|         1|                 N|         107|         107|           3|        2.5|  0.5|    0.5|         0|           0|                  0.3|         3.8|\n",
      "|       1| 2018-01-01 00:40:25|  2018-01-01 00:40:47|              1|          .00|         4|                 N|          79|          79|           3|        2.5|  0.5|    0.5|         0|           0|                  0.3|         3.8|\n",
      "|       1| 2018-01-01 00:51:57|  2018-01-01 00:52:06|              1|          .00|         1|                 N|         151|         151|           2|        2.5|  0.5|    0.5|         0|           0|                  0.3|         3.8|\n",
      "|       2| 2018-01-01 00:04:21|  2018-01-01 00:04:25|              1|          .00|         5|                 N|          88|          88|           1|         15|    0|    0.5|         0|           0|                  0.3|        15.8|\n",
      "|       2| 2018-01-01 00:33:30|  2018-01-01 00:33:32|              1|          .00|         5|                 N|         264|         142|           1|         11|    0|    0.5|      2.36|           0|                  0.3|       14.16|\n",
      "|       2| 2018-01-01 00:15:58|  2018-01-01 00:20:51|              1|          .00|         1|                 N|          43|          75|           2|        4.5|  0.5|    0.5|         0|           0|                  0.3|         5.8|\n",
      "|       2| 2018-01-01 00:29:00|  2018-01-01 00:34:44|              2|          .00|         1|                 N|          43|         142|           2|          5|  0.5|    0.5|         0|           0|                  0.3|         6.3|\n",
      "|       2| 2018-01-01 00:35:42|  2018-01-01 00:49:22|              1|          .00|         1|                 N|         142|         170|           2|          9|  0.5|    0.5|         0|           0|                  0.3|        10.3|\n",
      "|       2| 2018-01-01 00:52:47|  2018-01-01 00:57:14|              1|          .00|         1|                 N|         170|         137|           2|        4.5|  0.5|    0.5|         0|           0|                  0.3|         5.8|\n",
      "|       1| 2018-01-01 00:46:13|  2018-01-01 00:46:13|              1|          .00|         1|                 N|          48|         264|           2|       24.5|  0.5|    0.5|         0|           0|                  0.3|        25.8|\n",
      "|       1| 2018-01-01 00:15:05|  2018-01-01 00:15:07|              2|          .00|         6|                 N|         161|         161|           3|        2.5|    0|    0.5|         0|           0|                  0.3|         3.3|\n",
      "|       1| 2018-01-01 00:47:14|  2018-01-01 00:47:14|              1|          .00|         1|                 N|          87|         264|           2|         29|  0.5|    0.5|         0|           0|                  0.3|        30.3|\n",
      "|       1| 2018-01-01 00:41:20|  2018-01-01 00:42:04|              1|          .00|         1|                 N|         186|          68|           4|        2.5|  0.5|    0.5|         0|           0|                  0.3|         3.8|\n",
      "|       1| 2018-01-01 00:29:51|  2018-01-01 00:30:11|              1|          .00|         1|                 N|         211|         211|           2|        2.5|  0.5|    0.5|         0|           0|                  0.3|         3.8|\n",
      "|       2| 2018-01-01 00:19:53|  2018-01-01 00:19:58|              1|          .00|         5|                 N|         264|         170|           1|        8.5|    0|      0|       2.2|           0|                  0.3|          11|\n",
      "+--------+--------------------+---------------------+---------------+-------------+----------+------------------+------------+------------+------------+-----------+-----+-------+----------+------------+---------------------+------------+\n",
      "only showing top 20 rows\n",
      "\n"
     ]
    }
   ],
   "source": [
    "yellow_df.filter(F.col(\"trip_distance\") <= 0.0).\\\n",
    "    show()"
   ]
  },
  {
   "cell_type": "code",
   "execution_count": 97,
   "metadata": {},
   "outputs": [
    {
     "data": {
      "text/plain": [
       "18678"
      ]
     },
     "execution_count": 97,
     "metadata": {},
     "output_type": "execute_result"
    }
   ],
   "source": [
    "yellow_df.filter(F.col(\"fare_amount\").astype(DoubleType()) > 50.0).\\\n",
    "    filter(F.col(\"trip_distance\") < 1.0).\\\n",
    "    count()"
   ]
  },
  {
   "cell_type": "markdown",
   "metadata": {},
   "source": [
    "#### Further Data Issues\n",
    "\n",
    "* **Datetimes**: There are a small number of cases where the drop off time is before the pickup time (2 in the January 2018 file).\n",
    "* **Rate code id**: There are a small number of rides with a 99 rate code (106 in the January 2018 file)\n",
    "* **Passenger Counts**: There are quite a few trips where passenger count = 0; this is a driver entered field\n",
    "* **Trip Distance**: Smallish number of trips with a zero distance, an even smaller amount with 0 (or lower) fare amount.\n",
    "* **Fare Amount**: There are a small number of trips with a fare amount below zero; most have a trip distance gt zero, some don't\n",
    "* **Fare Amount**: There are a small number of trips with a high fare amount and a low trip distance\n",
    "* **Trip Duration**: There are some trips over 10 hours - seems improbable, some last for days - really improbable"
   ]
  },
  {
   "cell_type": "markdown",
   "metadata": {},
   "source": [
    "### EDA of Green Taxi Trip Data\n",
    "\n",
    "Green taxis were introduced to NYC in 2013 to serve areas outside of Manhattan where yellow taxis traditionally don't go. Green taxis can pick up passengers in northern Manhattan and anywhere in the Bronx, Brooklyn, Staten Island and Queens (excluding the airports). Green taxis can accept street hail passengers in the areas mentioned as well as accepting pre-arranged trips where the price is set by the base or app used to book the service ([reference](https://www1.nyc.gov/site/tlc/passengers/your-ride.page))"
   ]
  },
  {
   "cell_type": "code",
   "execution_count": 18,
   "metadata": {},
   "outputs": [],
   "source": [
    "# Read January 2018 green taxi cab data from S3 bucket\n",
    "green_df = spark.read.csv(f\"s3a://{bucket_name}/trip data/green_tripdata_2018-01.csv\", header=True)"
   ]
  },
  {
   "cell_type": "code",
   "execution_count": 71,
   "metadata": {},
   "outputs": [
    {
     "name": "stdout",
     "output_type": "stream",
     "text": [
      "+--------+--------------------+---------------------+------------------+----------+------------+------------+---------------+-------------+-----------+-----+-------+----------+------------+---------+---------------------+------------+------------+---------+\n",
      "|VendorID|lpep_pickup_datetime|lpep_dropoff_datetime|store_and_fwd_flag|RatecodeID|PULocationID|DOLocationID|passenger_count|trip_distance|fare_amount|extra|mta_tax|tip_amount|tolls_amount|ehail_fee|improvement_surcharge|total_amount|payment_type|trip_type|\n",
      "+--------+--------------------+---------------------+------------------+----------+------------+------------+---------------+-------------+-----------+-----+-------+----------+------------+---------+---------------------+------------+------------+---------+\n",
      "|       2| 2018-01-01 00:18:50|  2018-01-01 00:24:39|                 N|         1|         236|         236|              5|          .70|          6|  0.5|    0.5|         0|           0|     null|                  0.3|         7.3|           2|        1|\n",
      "|       2| 2018-01-01 00:30:26|  2018-01-01 00:46:42|                 N|         1|          43|          42|              5|         3.50|       14.5|  0.5|    0.5|         0|           0|     null|                  0.3|        15.8|           2|        1|\n",
      "|       2| 2018-01-01 00:07:25|  2018-01-01 00:19:45|                 N|         1|          74|         152|              1|         2.14|         10|  0.5|    0.5|         0|           0|     null|                  0.3|        11.3|           2|        1|\n",
      "|       2| 2018-01-01 00:32:40|  2018-01-01 00:33:41|                 N|         1|         255|         255|              1|          .03|         -3| -0.5|   -0.5|         0|           0|     null|                 -0.3|        -4.3|           3|        1|\n",
      "|       2| 2018-01-01 00:32:40|  2018-01-01 00:33:41|                 N|         1|         255|         255|              1|          .03|          3|  0.5|    0.5|         0|           0|     null|                  0.3|         4.3|           2|        1|\n",
      "|       2| 2018-01-01 00:38:35|  2018-01-01 01:08:50|                 N|         1|         255|         161|              1|         5.63|         21|  0.5|    0.5|         0|           0|     null|                  0.3|        22.3|           2|        1|\n",
      "|       2| 2018-01-01 00:18:41|  2018-01-01 00:28:22|                 N|         1|         189|          65|              5|         1.71|        8.5|  0.5|    0.5|         0|           0|     null|                  0.3|         9.8|           2|        1|\n",
      "|       2| 2018-01-01 00:38:02|  2018-01-01 00:55:02|                 N|         1|         189|         225|              5|         3.45|       14.5|  0.5|    0.5|      3.16|           0|     null|                  0.3|       18.96|           1|        1|\n",
      "|       2| 2018-01-01 00:05:02|  2018-01-01 00:18:35|                 N|         1|         129|          82|              1|         1.61|         10|  0.5|    0.5|         0|           0|     null|                  0.3|        11.3|           2|        1|\n",
      "|       2| 2018-01-01 00:35:23|  2018-01-01 00:42:07|                 N|         1|         226|           7|              1|         1.87|        7.5|  0.5|    0.5|         0|           0|     null|                  0.3|         8.8|           2|        1|\n",
      "|       2| 2018-01-01 00:21:00|  2018-01-01 00:39:04|                 N|         1|         145|         129|              2|         4.12|       16.5|  0.5|    0.5|         0|           0|     null|                  0.3|        17.8|           2|        1|\n",
      "|       2| 2018-01-01 00:56:29|  2018-01-01 01:04:44|                 N|         1|           7|         223|              2|         1.22|          7|  0.5|    0.5|         0|           0|     null|                  0.3|         8.3|           2|        1|\n",
      "|       2| 2018-01-01 00:11:48|  2018-01-01 00:30:13|                 N|         1|         255|         189|              1|         4.67|         17|  0.5|    0.5|         0|           0|     null|                  0.3|        18.3|           2|        1|\n",
      "|       2| 2018-01-01 00:57:59|  2018-01-01 01:12:26|                 N|         1|          97|         188|              1|         2.71|       11.5|  0.5|    0.5|      3.84|           0|     null|                  0.3|       16.64|           1|        1|\n",
      "|       2| 2018-01-01 00:36:58|  2018-01-01 00:51:08|                 N|         1|         244|          75|              2|         6.01|         19|  0.5|    0.5|         4|           0|     null|                  0.3|        24.3|           1|        1|\n",
      "|       1| 2018-01-01 00:07:40|  2018-01-01 00:15:20|                 N|         1|         225|          37|              1|         1.90|          8|  0.5|    0.5|         3|           0|     null|                  0.3|        12.3|           1|        1|\n",
      "|       1| 2018-01-01 00:25:09|  2018-01-01 00:42:04|                 N|         1|          36|         145|              2|         4.30|       15.5|  0.5|    0.5|      3.35|           0|     null|                  0.3|       20.15|           1|        1|\n",
      "|       1| 2018-01-01 00:42:52|  2018-01-01 01:00:53|                 N|         1|         145|         173|              1|         6.90|         22|  0.5|    0.5|         0|           0|     null|                  0.3|        23.3|           1|        1|\n",
      "|       2| 2018-01-01 00:06:22|  2018-01-01 00:08:17|                 N|         1|          49|          49|              1|          .30|        3.5|  0.5|    0.5|         0|           0|     null|                  0.3|         4.8|           2|        1|\n",
      "|       2| 2018-01-01 00:34:53|  2018-01-01 00:52:55|                 N|         1|          40|         113|              1|         4.47|       16.5|  0.5|    0.5|      3.56|           0|     null|                  0.3|       23.31|           1|        1|\n",
      "+--------+--------------------+---------------------+------------------+----------+------------+------------+---------------+-------------+-----------+-----+-------+----------+------------+---------+---------------------+------------+------------+---------+\n",
      "only showing top 20 rows\n",
      "\n"
     ]
    }
   ],
   "source": [
    "# Show first twenty rows of the imported file\n",
    "green_df.show(20)"
   ]
  },
  {
   "cell_type": "markdown",
   "metadata": {},
   "source": [
    "#### Schema differences\n",
    "\n",
    "The green cab csv file has an additional column named _trip_type_. Because green cabs can accept street hails or pre-booked (aka dispatch) fares the type is detailed here. Yellow cabs will always be \"1\" for this field."
   ]
  },
  {
   "cell_type": "code",
   "execution_count": 73,
   "metadata": {},
   "outputs": [
    {
     "name": "stdout",
     "output_type": "stream",
     "text": [
      "root\n",
      " |-- VendorID: string (nullable = true)\n",
      " |-- lpep_pickup_datetime: string (nullable = true)\n",
      " |-- lpep_dropoff_datetime: string (nullable = true)\n",
      " |-- store_and_fwd_flag: string (nullable = true)\n",
      " |-- RatecodeID: string (nullable = true)\n",
      " |-- PULocationID: string (nullable = true)\n",
      " |-- DOLocationID: string (nullable = true)\n",
      " |-- passenger_count: string (nullable = true)\n",
      " |-- trip_distance: string (nullable = true)\n",
      " |-- fare_amount: string (nullable = true)\n",
      " |-- extra: string (nullable = true)\n",
      " |-- mta_tax: string (nullable = true)\n",
      " |-- tip_amount: string (nullable = true)\n",
      " |-- tolls_amount: string (nullable = true)\n",
      " |-- ehail_fee: string (nullable = true)\n",
      " |-- improvement_surcharge: string (nullable = true)\n",
      " |-- total_amount: string (nullable = true)\n",
      " |-- payment_type: string (nullable = true)\n",
      " |-- trip_type: string (nullable = true)\n",
      "\n"
     ]
    }
   ],
   "source": [
    "# Show the columns, data types and nullability\n",
    "green_df.printSchema()"
   ]
  },
  {
   "cell_type": "markdown",
   "metadata": {},
   "source": [
    "#### Data Type Changes\n",
    "\n",
    "Same as yellow taxi cab file."
   ]
  },
  {
   "cell_type": "code",
   "execution_count": 74,
   "metadata": {},
   "outputs": [
    {
     "name": "stdout",
     "output_type": "stream",
     "text": [
      "+-------+------------------+--------------------+---------------------+------------------+------------------+------------------+-----------------+------------------+------------------+------------------+-------------------+-------------------+------------------+-------------------+---------+---------------------+------------------+------------------+------------------+\n",
      "|summary|          VendorID|lpep_pickup_datetime|lpep_dropoff_datetime|store_and_fwd_flag|        RatecodeID|      PULocationID|     DOLocationID|   passenger_count|     trip_distance|       fare_amount|              extra|            mta_tax|        tip_amount|       tolls_amount|ehail_fee|improvement_surcharge|      total_amount|      payment_type|         trip_type|\n",
      "+-------+------------------+--------------------+---------------------+------------------+------------------+------------------+-----------------+------------------+------------------+------------------+-------------------+-------------------+------------------+-------------------+---------+---------------------+------------------+------------------+------------------+\n",
      "|  count|            793529|              793529|               793529|            793529|            793529|            793529|           793529|            793529|            793529|            793529|             793529|             793529|            793529|             793529|        0|               793529|            793529|            793529|            793526|\n",
      "|   mean|1.8264789314568213|                null|                 null|              null|1.0745202758815369|110.04224294260197|128.6404920299069|1.3625677196422563| 2.665766922191896|  11.7356373869134| 0.3395612510695892| 0.4879922472902692| 1.036159585850073|0.08521147935362247|     null|   0.2930339029837093|14.004576997172887| 1.475494909448804|1.0181985215355263|\n",
      "| stddev|0.3786973567920366|                null|                 null|              null|0.5650884768330703| 74.42725194984183|77.16589701130906|  1.04673386352749|2.8453299649122985|10.165304846278982|0.39505539276408363|0.08386637726465149|1.8948657794323858| 1.0213892358823393|     null|  0.04965138431348955|11.090961087555467|0.5218455341069612|0.1336688365545938|\n",
      "|    min|                 1| 2009-01-01 10:21:25|  2009-01-01 11:16:25|                 N|                 1|                 1|                1|                 0|               .00|             -0.01|               -0.5|               -0.5|             -0.01|                  0|     null|                 -0.3|             -0.01|                 1|                 1|\n",
      "|    25%|               2.0|                null|                 null|              null|               1.0|              49.0|             61.0|               1.0|              0.99|               6.0|                0.0|                0.5|               0.0|                0.0|     null|                  0.3|               7.8|               1.0|               1.0|\n",
      "|    50%|               2.0|                null|                 null|              null|               1.0|              82.0|            129.0|               1.0|               1.7|               9.0|                0.0|                0.5|               0.0|                0.0|     null|                  0.3|              10.8|               1.0|               1.0|\n",
      "|    75%|               2.0|                null|                 null|              null|               1.0|             166.0|            193.0|               1.0|              3.27|              14.0|                0.5|                0.5|              1.76|                0.0|     null|                  0.3|              16.8|               2.0|               1.0|\n",
      "|    max|                 2| 2018-04-05 04:11:26|  2018-04-05 04:25:18|                 Y|                99|                99|               98|                 9|              9.99|            999.99|                4.5|                0.5|              95.7|              99.99|     null|                  0.3|            999.99|                 5|                 2|\n",
      "+-------+------------------+--------------------+---------------------+------------------+------------------+------------------+-----------------+------------------+------------------+------------------+-------------------+-------------------+------------------+-------------------+---------+---------------------+------------------+------------------+------------------+\n",
      "\n"
     ]
    }
   ],
   "source": [
    "# Show summary statistics of the dataframe\n",
    "green_df.summary().show()"
   ]
  },
  {
   "cell_type": "markdown",
   "metadata": {},
   "source": [
    "#### Data Issues\n",
    "\n",
    "* lpep_pickup_datetime: min date 2009-01-01 for 2018-01 file; max date 2018-04-05 for 2018-01 file\n",
    "* lpep_dropoff_datetime: min date 2009-01-01 for 2018-01 file; max date 2018-04-05 for 2018-01 file\n",
    "* passenger_count: min = zero\n",
    "* trip_distance: min = zero\n",
    "* trip_duration: less than a minute, greater than 10 hours\n",
    "* ratecodeid: max = 99; documentation only expects values of 1 to 6\n",
    "* fare_amount: min amount is negative; max $\\$$999.99, is this fair?\n",
    "* other amounts: min amounts are negative\n",
    "* mta_tax: should be $\\$$1.00 or $\\$$0.50 but has a negative minimum amount"
   ]
  },
  {
   "cell_type": "code",
   "execution_count": 101,
   "metadata": {},
   "outputs": [
    {
     "data": {
      "text/plain": [
       "793529"
      ]
     },
     "execution_count": 101,
     "metadata": {},
     "output_type": "execute_result"
    }
   ],
   "source": [
    "# Count the number of rows in the data frame\n",
    "green_df.count()"
   ]
  },
  {
   "cell_type": "code",
   "execution_count": null,
   "metadata": {},
   "outputs": [],
   "source": [
    "# Check for nulls\n",
    "green_df.select([count(when(isnan(c), c)).alias(c) for c in green_df.columns]).show()"
   ]
  },
  {
   "cell_type": "code",
   "execution_count": 104,
   "metadata": {},
   "outputs": [
    {
     "name": "stdout",
     "output_type": "stream",
     "text": [
      "+--------------------+---------------+---------------------+----------------+-------------+\n",
      "|lpep_pickup_datetime|pickup_datetime|lpep_dropoff_datetime|dropoff_datetime|trip_duration|\n",
      "+--------------------+---------------+---------------------+----------------+-------------+\n",
      "+--------------------+---------------+---------------------+----------------+-------------+\n",
      "\n"
     ]
    }
   ],
   "source": [
    "# Determine if there are any drop offs before pickups\n",
    "green_df.withColumn(\"pickup_datetime\", F.unix_timestamp(F.col(\"lpep_pickup_datetime\"), \"yyyy-MM-dd' 'HH:mm:ss\").cast(\"timestamp\")).\\\n",
    "    withColumn(\"dropoff_datetime\", F.unix_timestamp(F.col(\"lpep_dropoff_datetime\"), \"yyyy-MM-dd' 'HH:mm:ss\").cast(\"timestamp\")).\\\n",
    "    withColumn(\"trip_duration\", (F.col(\"dropoff_datetime\").cast(\"long\") - F.col(\"pickup_datetime\").cast(\"long\"))).\\\n",
    "    filter(F.col(\"trip_duration\") < 0).\\\n",
    "    select([\"lpep_pickup_datetime\",\"pickup_datetime\",\"lpep_dropoff_datetime\",\"dropoff_datetime\",\"trip_duration\"]).\\\n",
    "    show()"
   ]
  },
  {
   "cell_type": "code",
   "execution_count": 107,
   "metadata": {},
   "outputs": [
    {
     "name": "stdout",
     "output_type": "stream",
     "text": [
      "+--------------------+-------------------+---------------------+-------------------+-------------+-----------+\n",
      "|lpep_pickup_datetime|    pickup_datetime|lpep_dropoff_datetime|   dropoff_datetime|trip_duration|fare_amount|\n",
      "+--------------------+-------------------+---------------------+-------------------+-------------+-----------+\n",
      "| 2018-01-01 00:13:46|2018-01-01 00:13:46|  2018-01-01 00:13:49|2018-01-01 00:13:49|            3|        2.5|\n",
      "| 2018-01-01 00:23:45|2018-01-01 00:23:45|  2018-01-01 00:23:45|2018-01-01 00:23:45|            0|        4.5|\n",
      "| 2018-01-01 00:42:50|2018-01-01 00:42:50|  2018-01-01 00:43:06|2018-01-01 00:43:06|           16|        2.5|\n",
      "| 2018-01-01 00:16:36|2018-01-01 00:16:36|  2018-01-01 00:16:45|2018-01-01 00:16:45|            9|          6|\n",
      "| 2018-01-01 00:03:08|2018-01-01 00:03:08|  2018-01-01 00:03:19|2018-01-01 00:03:19|           11|         52|\n",
      "| 2018-01-01 00:07:57|2018-01-01 00:07:57|  2018-01-01 00:08:01|2018-01-01 00:08:01|            4|         18|\n",
      "| 2018-01-01 00:30:43|2018-01-01 00:30:43|  2018-01-01 00:30:47|2018-01-01 00:30:47|            4|         20|\n",
      "| 2018-01-01 00:21:48|2018-01-01 00:21:48|  2018-01-01 00:22:17|2018-01-01 00:22:17|           29|          5|\n",
      "| 2018-01-01 00:35:43|2018-01-01 00:35:43|  2018-01-01 00:35:52|2018-01-01 00:35:52|            9|        2.5|\n",
      "| 2018-01-01 00:56:21|2018-01-01 00:56:21|  2018-01-01 00:56:28|2018-01-01 00:56:28|            7|       -2.5|\n",
      "| 2018-01-01 00:56:21|2018-01-01 00:56:21|  2018-01-01 00:56:28|2018-01-01 00:56:28|            7|        2.5|\n",
      "| 2018-01-01 00:43:09|2018-01-01 00:43:09|  2018-01-01 00:43:35|2018-01-01 00:43:35|           26|         52|\n",
      "| 2018-01-01 00:26:06|2018-01-01 00:26:06|  2018-01-01 00:26:09|2018-01-01 00:26:09|            3|          7|\n",
      "| 2018-01-01 00:29:06|2018-01-01 00:29:06|  2018-01-01 00:29:06|2018-01-01 00:29:06|            0|         21|\n",
      "| 2018-01-01 00:11:37|2018-01-01 00:11:37|  2018-01-01 00:11:52|2018-01-01 00:11:52|           15|          6|\n",
      "| 2018-01-01 00:22:28|2018-01-01 00:22:28|  2018-01-01 00:22:50|2018-01-01 00:22:50|           22|         12|\n",
      "| 2018-01-01 00:50:17|2018-01-01 00:50:17|  2018-01-01 00:50:34|2018-01-01 00:50:34|           17|         25|\n",
      "| 2018-01-01 00:16:31|2018-01-01 00:16:31|  2018-01-01 00:16:47|2018-01-01 00:16:47|           16|          8|\n",
      "| 2018-01-01 00:57:15|2018-01-01 00:57:15|  2018-01-01 00:57:18|2018-01-01 00:57:18|            3|         17|\n",
      "| 2018-01-01 00:41:53|2018-01-01 00:41:53|  2018-01-01 00:42:01|2018-01-01 00:42:01|            8|         10|\n",
      "+--------------------+-------------------+---------------------+-------------------+-------------+-----------+\n",
      "only showing top 20 rows\n",
      "\n"
     ]
    }
   ],
   "source": [
    "green_df.withColumn(\"pickup_datetime\", F.unix_timestamp(F.col(\"lpep_pickup_datetime\"), \"yyyy-MM-dd' 'HH:mm:ss\").cast(\"timestamp\")).\\\n",
    "    withColumn(\"dropoff_datetime\", F.unix_timestamp(F.col(\"lpep_dropoff_datetime\"), \"yyyy-MM-dd' 'HH:mm:ss\").cast(\"timestamp\")).\\\n",
    "    withColumn(\"trip_duration\", (F.col(\"dropoff_datetime\").cast(\"long\") - F.col(\"pickup_datetime\").cast(\"long\"))).\\\n",
    "    filter(F.col(\"trip_duration\") < 30).\\\n",
    "    select([\"lpep_pickup_datetime\",\"pickup_datetime\",\"lpep_dropoff_datetime\",\"dropoff_datetime\",\"trip_duration\",\"fare_amount\"]).\\\n",
    "    show()"
   ]
  },
  {
   "cell_type": "code",
   "execution_count": 21,
   "metadata": {},
   "outputs": [
    {
     "name": "stdout",
     "output_type": "stream",
     "text": [
      "+--------------------+-------------------+---------------------+-------------------+-------------+-----------+\n",
      "|lpep_pickup_datetime|    pickup_datetime|lpep_dropoff_datetime|   dropoff_datetime|trip_duration|fare_amount|\n",
      "+--------------------+-------------------+---------------------+-------------------+-------------+-----------+\n",
      "| 2018-01-01 00:40:10|2018-01-01 00:40:10|  2018-01-02 00:34:41|2018-01-02 00:34:41|        86071|       19.5|\n",
      "| 2018-01-01 00:14:23|2018-01-01 00:14:23|  2018-01-01 23:44:27|2018-01-01 23:44:27|        84604|        7.5|\n",
      "| 2018-01-01 00:48:42|2018-01-01 00:48:42|  2018-01-02 00:16:59|2018-01-02 00:16:59|        84497|         24|\n",
      "| 2018-01-01 00:43:33|2018-01-01 00:43:33|  2018-01-02 00:34:08|2018-01-02 00:34:08|        85835|         16|\n",
      "| 2018-01-01 00:22:14|2018-01-01 00:22:14|  2018-01-01 23:19:55|2018-01-01 23:19:55|        82661|       12.5|\n",
      "| 2018-01-01 00:58:22|2018-01-01 00:58:22|  2018-01-02 00:48:27|2018-01-02 00:48:27|        85805|         33|\n",
      "| 2018-01-01 00:50:34|2018-01-01 00:50:34|  2018-01-02 00:45:51|2018-01-02 00:45:51|        86117|        5.5|\n",
      "| 2018-01-01 00:31:55|2018-01-01 00:31:55|  2018-01-02 00:20:24|2018-01-02 00:20:24|        85709|        5.5|\n",
      "| 2018-01-01 00:51:14|2018-01-01 00:51:14|  2018-01-01 23:13:30|2018-01-01 23:13:30|        80536|          6|\n",
      "| 2018-01-01 00:00:43|2018-01-01 00:00:43|  2018-01-01 23:55:26|2018-01-01 23:55:26|        86083|          8|\n",
      "| 2018-01-01 00:37:17|2018-01-01 00:37:17|  2018-01-02 00:00:00|2018-01-02 00:00:00|        84163|         27|\n",
      "| 2018-01-01 00:55:53|2018-01-01 00:55:53|  2018-01-02 00:43:52|2018-01-02 00:43:52|        85679|        8.5|\n",
      "| 2018-01-01 00:44:33|2018-01-01 00:44:33|  2018-01-02 00:34:40|2018-01-02 00:34:40|        85807|        3.5|\n",
      "| 2018-01-01 00:28:38|2018-01-01 00:28:38|  2018-01-02 00:22:49|2018-01-02 00:22:49|        86051|          5|\n",
      "| 2018-01-01 00:53:09|2018-01-01 00:53:09|  2018-01-02 00:49:43|2018-01-02 00:49:43|        86194|         20|\n",
      "| 2018-01-01 00:18:29|2018-01-01 00:18:29|  2018-01-01 23:08:38|2018-01-01 23:08:38|        82209|         30|\n",
      "| 2018-01-01 00:47:54|2018-01-01 00:47:54|  2018-01-02 00:33:21|2018-01-02 00:33:21|        85527|          6|\n",
      "| 2018-01-01 00:08:40|2018-01-01 00:08:40|  2018-01-02 00:07:25|2018-01-02 00:07:25|        86325|        7.5|\n",
      "| 2018-01-01 01:14:39|2018-01-01 01:14:39|  2018-01-02 01:11:24|2018-01-02 01:11:24|        86205|        9.5|\n",
      "| 2018-01-01 01:31:00|2018-01-01 01:31:00|  2018-01-02 01:30:03|2018-01-02 01:30:03|        86343|          7|\n",
      "+--------------------+-------------------+---------------------+-------------------+-------------+-----------+\n",
      "only showing top 20 rows\n",
      "\n"
     ]
    }
   ],
   "source": [
    "# Look to see how many trips are greater than 10 hours\n",
    "green_df.withColumn(\"pickup_datetime\", F.unix_timestamp(F.col(\"lpep_pickup_datetime\"), \"yyyy-MM-dd' 'HH:mm:ss\").cast(\"timestamp\")).\\\n",
    "    withColumn(\"dropoff_datetime\", F.unix_timestamp(F.col(\"lpep_dropoff_datetime\"), \"yyyy-MM-dd' 'HH:mm:ss\").cast(\"timestamp\")).\\\n",
    "    withColumn(\"trip_duration\", (F.col(\"dropoff_datetime\").cast(\"long\") - F.col(\"pickup_datetime\").cast(\"long\"))).\\\n",
    "    filter(F.col(\"trip_duration\") > 36000).\\\n",
    "    select([\"lpep_pickup_datetime\",\"pickup_datetime\",\"lpep_dropoff_datetime\",\"dropoff_datetime\",\"trip_duration\",\"fare_amount\"]).\\\n",
    "    show()"
   ]
  },
  {
   "cell_type": "code",
   "execution_count": 111,
   "metadata": {},
   "outputs": [
    {
     "name": "stdout",
     "output_type": "stream",
     "text": [
      "+----------+-----+\n",
      "|RateCodeID|count|\n",
      "+----------+-----+\n",
      "|        99|    3|\n",
      "+----------+-----+\n",
      "\n"
     ]
    }
   ],
   "source": [
    "# Investigate size of 99 RateCodeID issue\n",
    "green_df.filter(F.col(\"RateCodeID\") > 6).\\\n",
    "    groupBy(\"RateCodeID\").\\\n",
    "    count().\\\n",
    "    show()"
   ]
  },
  {
   "cell_type": "code",
   "execution_count": 110,
   "metadata": {},
   "outputs": [
    {
     "data": {
      "text/plain": [
       "173"
      ]
     },
     "execution_count": 110,
     "metadata": {},
     "output_type": "execute_result"
    }
   ],
   "source": [
    "# Check how many trips have a passenger count of less than 1 (i.e zero)\n",
    "green_df.filter(F.col(\"passenger_count\").astype(IntegerType()) < 1).\\\n",
    "    count()"
   ]
  },
  {
   "cell_type": "code",
   "execution_count": 112,
   "metadata": {},
   "outputs": [
    {
     "data": {
      "text/plain": [
       "635"
      ]
     },
     "execution_count": 112,
     "metadata": {},
     "output_type": "execute_result"
    }
   ],
   "source": [
    "# Check how many trips have a distance less than 0 and a fare amount less than zero\n",
    "green_df.filter(F.col(\"trip_distance\") <= 0.0).\\\n",
    "    filter(F.col(\"fare_amount\").astype(DoubleType()) <= 0.0).\\\n",
    "    count()"
   ]
  },
  {
   "cell_type": "code",
   "execution_count": 113,
   "metadata": {},
   "outputs": [
    {
     "data": {
      "text/plain": [
       "3049"
      ]
     },
     "execution_count": 113,
     "metadata": {},
     "output_type": "execute_result"
    }
   ],
   "source": [
    "# Check how many trips have a distance greater than zero but a fare less than or equal to zero\n",
    "green_df.filter(F.col(\"trip_distance\") > 0.0).\\\n",
    "    filter(F.col(\"fare_amount\").astype(DoubleType()) <= 0.0).\\\n",
    "    count()"
   ]
  },
  {
   "cell_type": "code",
   "execution_count": 114,
   "metadata": {},
   "outputs": [
    {
     "data": {
      "text/plain": [
       "774"
      ]
     },
     "execution_count": 114,
     "metadata": {},
     "output_type": "execute_result"
    }
   ],
   "source": [
    "#Check how many trips have a high fare amount and a low trip distance\n",
    "green_df.filter(F.col(\"fare_amount\").astype(DoubleType()) > 50.0).\\\n",
    "    filter(F.col(\"trip_distance\") < 1.0).\\\n",
    "    count()"
   ]
  },
  {
   "cell_type": "markdown",
   "metadata": {},
   "source": [
    "#### Further Data Issues\n",
    "\n",
    "* **Rate code id**: There are a small number of rides with a 99 rate code (3 in the January 2018 file)\n",
    "* **Passenger Counts**: There is a small number of trips where passenger count = 0; this is a driver entered field\n",
    "* **Trip Distance**: Smallish number of trips with a zero distance, an even smaller amount with 0 (or lower) fare amount.\n",
    "* **Fare Amount**: There are a small number of trips with a fare amount below zero; most have a trip distance gt zero, some don't\n",
    "* **Fare Amount**: There are a small number of trips with a high fare amount and a low trip distance\n",
    "* **Trip Duration**: There are trips that last over 10 hours - these are probably unlikely"
   ]
  },
  {
   "cell_type": "code",
   "execution_count": null,
   "metadata": {},
   "outputs": [],
   "source": []
  }
 ],
 "metadata": {
  "kernelspec": {
   "display_name": "Python 3",
   "language": "python",
   "name": "python3"
  },
  "language_info": {
   "codemirror_mode": {
    "name": "ipython",
    "version": 3
   },
   "file_extension": ".py",
   "mimetype": "text/x-python",
   "name": "python",
   "nbconvert_exporter": "python",
   "pygments_lexer": "ipython3",
   "version": "3.7.6"
  }
 },
 "nbformat": 4,
 "nbformat_minor": 4
}
