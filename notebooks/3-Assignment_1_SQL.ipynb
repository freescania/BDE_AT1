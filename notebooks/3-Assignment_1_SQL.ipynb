{
 "cells": [
  {
   "cell_type": "markdown",
   "metadata": {},
   "source": [
    "# Assignment 1: NYC Taxi Data"
   ]
  },
  {
   "cell_type": "code",
   "execution_count": 1,
   "metadata": {},
   "outputs": [],
   "source": [
    "from pyspark.sql import SparkSession"
   ]
  },
  {
   "cell_type": "code",
   "execution_count": 2,
   "metadata": {},
   "outputs": [],
   "source": [
    "# Create a local spark session\n",
    "spark = SparkSession.builder \\\n",
    "        .appName('nyc-taxi-sql') \\\n",
    "        .getOrCreate()"
   ]
  },
  {
   "cell_type": "code",
   "execution_count": 3,
   "metadata": {},
   "outputs": [],
   "source": [
    "# Read parquet file\n",
    "df = spark.read.load(\"./output\")"
   ]
  },
  {
   "cell_type": "code",
   "execution_count": 5,
   "metadata": {},
   "outputs": [],
   "source": [
    "df.createOrReplaceTempView(\"nyc_taxi_data_2017_18\")"
   ]
  },
  {
   "cell_type": "markdown",
   "metadata": {},
   "source": [
    "## Business Questions"
   ]
  },
  {
   "cell_type": "markdown",
   "metadata": {},
   "source": [
    "### Q1.a. For each year and month: What was the total number of trips?"
   ]
  },
  {
   "cell_type": "code",
   "execution_count": 6,
   "metadata": {},
   "outputs": [
    {
     "name": "stdout",
     "output_type": "stream",
     "text": [
      "+----+-----+---------------+\n",
      "|year|month|number_of_trips|\n",
      "+----+-----+---------------+\n",
      "|2017|    1|        1064589|\n",
      "|2017|    2|        1017474|\n",
      "|2017|    3|        1152610|\n",
      "|2017|    4|        1076626|\n",
      "|2017|    5|        1054177|\n",
      "|2017|    6|         971566|\n",
      "|2017|    7|         910004|\n",
      "|2017|    8|         862947|\n",
      "|2017|    9|         878115|\n",
      "|2017|   10|         921352|\n",
      "|2017|   11|         869909|\n",
      "|2017|   12|         901582|\n",
      "|2018|    1|         789266|\n",
      "|2018|    2|         766246|\n",
      "|2018|    3|         832798|\n",
      "|2018|    4|         796114|\n",
      "|2018|    5|         793394|\n",
      "|2018|    6|         735642|\n",
      "|2018|    7|         681211|\n",
      "|2018|    8|         663117|\n",
      "|2018|    9|         663566|\n",
      "|2018|   10|         707061|\n",
      "|2018|   11|         653351|\n",
      "|2018|   12|         681425|\n",
      "+----+-----+---------------+\n",
      "\n"
     ]
    }
   ],
   "source": [
    "spark.sql(\"\"\"\n",
    "SELECT year\n",
    ",month\n",
    ",COUNT(*) AS number_of_trips\n",
    "FROM nyc_taxi_data_2017_18\n",
    "GROUP BY year\n",
    ",month\n",
    "ORDER BY year, month\n",
    "\"\"\").show(24)"
   ]
  },
  {
   "cell_type": "markdown",
   "metadata": {},
   "source": [
    "### Q1.b. For each year and month: Which weekday had the most trips?"
   ]
  },
  {
   "cell_type": "code",
   "execution_count": 13,
   "metadata": {},
   "outputs": [
    {
     "name": "stdout",
     "output_type": "stream",
     "text": [
      "+----+-----+--------------+-----------+\n",
      "|year|month|pickup_weekday|total_trips|\n",
      "+----+-----+--------------+-----------+\n",
      "|2017|    3|        Friday|     218310|\n",
      "|2017|    8|      Thursday|     137980|\n",
      "|2017|   10|        Sunday|     149288|\n",
      "|2018|   10|     Wednesday|     114659|\n",
      "|2018|    1|     Wednesday|     130280|\n",
      "|2018|    3|      Saturday|     156004|\n",
      "|2018|    8|        Friday|     118794|\n",
      "|2017|    7|      Saturday|     176039|\n",
      "|2018|    5|      Thursday|     132998|\n",
      "|2017|   12|        Friday|     164254|\n",
      "|2017|    9|      Saturday|     173461|\n",
      "|2017|    4|      Saturday|     218381|\n",
      "|2018|    9|      Saturday|     121766|\n",
      "|2018|    7|       Tuesday|     107744|\n",
      "|2018|   12|      Saturday|     118918|\n",
      "|2018|   11|        Friday|     116664|\n",
      "|2018|    6|      Saturday|     133693|\n",
      "|2017|    2|      Saturday|     183968|\n",
      "|2017|   11|      Thursday|     144139|\n",
      "|2017|    5|      Saturday|     171600|\n",
      "+----+-----+--------------+-----------+\n",
      "only showing top 20 rows\n",
      "\n"
     ]
    }
   ],
   "source": [
    "spark.sql(\"\"\"\n",
    "SELECT year\n",
    "    ,month\n",
    "    ,pickup_weekday\n",
    "    ,total_trips\n",
    "FROM (SELECT year\n",
    "        ,month\n",
    "        ,DATE_FORMAT(pickup_datetime, \"EEEE\") AS pickup_weekday\n",
    "        ,COUNT(*) AS total_trips\n",
    "        ,ROW_NUMBER() OVER (PARTITION BY year,month ORDER BY COUNT(*) DESC) AS row_num\n",
    "    FROM nyc_taxi_data_2017_18\n",
    "    GROUP BY year\n",
    "        ,month\n",
    "        ,pickup_weekday\n",
    "    )\n",
    "WHERE row_num = 1\n",
    "\"\"\").show()"
   ]
  },
  {
   "cell_type": "markdown",
   "metadata": {},
   "source": [
    "### Q1.c. For each year and month: What was the average number of passengers?"
   ]
  },
  {
   "cell_type": "code",
   "execution_count": null,
   "metadata": {},
   "outputs": [],
   "source": []
  },
  {
   "cell_type": "markdown",
   "metadata": {},
   "source": [
    "### Q1.d. For each year and month: What was the average amount paid per trip (total_amount)?"
   ]
  },
  {
   "cell_type": "code",
   "execution_count": null,
   "metadata": {},
   "outputs": [],
   "source": []
  },
  {
   "cell_type": "markdown",
   "metadata": {},
   "source": [
    "### Q1.d. For each year and month: What was the average amount paid per passenger (total_amount)?"
   ]
  },
  {
   "cell_type": "code",
   "execution_count": null,
   "metadata": {},
   "outputs": [],
   "source": []
  },
  {
   "cell_type": "markdown",
   "metadata": {},
   "source": [
    "### Q2.a. For each taxi colour (yellow and green): What was the average, median, minimum and maximum trip duration in seconds?"
   ]
  },
  {
   "cell_type": "code",
   "execution_count": null,
   "metadata": {},
   "outputs": [],
   "source": []
  },
  {
   "cell_type": "markdown",
   "metadata": {},
   "source": [
    "### Q2.b. For each taxi colour (yellow and green): What was the average, median, minimum and maximum trip distance in km?"
   ]
  },
  {
   "cell_type": "code",
   "execution_count": null,
   "metadata": {},
   "outputs": [],
   "source": []
  },
  {
   "cell_type": "markdown",
   "metadata": {},
   "source": [
    "### Q2.c. For each taxi colour (yellow and green): What was the average, median, minimum and maximum speed in km per hour?"
   ]
  },
  {
   "cell_type": "code",
   "execution_count": null,
   "metadata": {},
   "outputs": [],
   "source": []
  },
  {
   "cell_type": "markdown",
   "metadata": {},
   "source": [
    "### Q2.d. For each taxi colour (yellow and green): What was the percentage of trips where the driver received tips?"
   ]
  },
  {
   "cell_type": "code",
   "execution_count": null,
   "metadata": {},
   "outputs": [],
   "source": []
  },
  {
   "cell_type": "markdown",
   "metadata": {},
   "source": [
    "### Q3. For trips where the driver received tips, What was the percentage where the driver received tips of at least $10."
   ]
  },
  {
   "cell_type": "code",
   "execution_count": null,
   "metadata": {},
   "outputs": [],
   "source": []
  },
  {
   "cell_type": "markdown",
   "metadata": {},
   "source": [
    "### Q4.a. For each duration bin calculate: Average speed (km per hour)\n",
    "Bins are Under 5 Mins, From 5 mins to 10 mins, From 10 mins to 20 mins, From 20 mins to 30 mins, At least 30 mins:"
   ]
  },
  {
   "cell_type": "code",
   "execution_count": null,
   "metadata": {},
   "outputs": [],
   "source": []
  },
  {
   "cell_type": "markdown",
   "metadata": {},
   "source": [
    "### Q4.b. For each duration bin calculate: Average distance per dollar (km per $)\n",
    "Bins are Under 5 Mins, From 5 mins to 10 mins, From 10 mins to 20 mins, From 20 mins to 30 mins, At least 30 mins.\n",
    "\n",
    "Assuming US Dollars"
   ]
  },
  {
   "cell_type": "code",
   "execution_count": null,
   "metadata": {},
   "outputs": [],
   "source": []
  },
  {
   "cell_type": "markdown",
   "metadata": {},
   "source": [
    "### Q5. Which duration bin will you advise a taxi driver to target to maximise his income?"
   ]
  },
  {
   "cell_type": "code",
   "execution_count": null,
   "metadata": {},
   "outputs": [],
   "source": []
  }
 ],
 "metadata": {
  "kernelspec": {
   "display_name": "Python 3",
   "language": "python",
   "name": "python3"
  },
  "language_info": {
   "codemirror_mode": {
    "name": "ipython",
    "version": 3
   },
   "file_extension": ".py",
   "mimetype": "text/x-python",
   "name": "python",
   "nbconvert_exporter": "python",
   "pygments_lexer": "ipython3",
   "version": "3.7.6"
  }
 },
 "nbformat": 4,
 "nbformat_minor": 4
}
