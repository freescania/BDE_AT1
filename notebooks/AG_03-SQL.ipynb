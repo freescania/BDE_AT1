{
 "cells": [
  {
   "cell_type": "markdown",
   "metadata": {},
   "source": [
    "## SQL Questions"
   ]
  },
  {
   "cell_type": "code",
   "execution_count": 1,
   "metadata": {},
   "outputs": [],
   "source": [
    "from pyspark.sql import SparkSession"
   ]
  },
  {
   "cell_type": "code",
   "execution_count": 2,
   "metadata": {},
   "outputs": [],
   "source": [
    "# Create a local spark session\n",
    "spark = SparkSession.builder \\\n",
    "        .appName('nyc-taxi-sql') \\\n",
    "        .getOrCreate()"
   ]
  },
  {
   "cell_type": "code",
   "execution_count": 3,
   "metadata": {},
   "outputs": [],
   "source": [
    "# Read parquet file\n",
    "df = spark.read.load(\"./output\")"
   ]
  },
  {
   "cell_type": "code",
   "execution_count": 4,
   "metadata": {},
   "outputs": [],
   "source": [
    "df.createOrReplaceTempView(\"nyc_taxi_data_2015_16\")"
   ]
  },
  {
   "cell_type": "markdown",
   "metadata": {},
   "source": [
    "## Business Questions"
   ]
  },
  {
   "cell_type": "markdown",
   "metadata": {},
   "source": [
    "## Q1. For each year and month"
   ]
  },
  {
   "cell_type": "markdown",
   "metadata": {},
   "source": [
    "### i. What was the total number of trips?"
   ]
  },
  {
   "cell_type": "code",
   "execution_count": 5,
   "metadata": {},
   "outputs": [
    {
     "name": "stdout",
     "output_type": "stream",
     "text": [
      "+----+-----+---------------+\n",
      "|year|month|number_of_trips|\n",
      "+----+-----+---------------+\n",
      "|2015|    1|       14098035|\n",
      "|2015|    2|       14646205|\n",
      "|2015|    3|       14887955|\n",
      "|2015|    4|       14559584|\n",
      "|2015|    5|       14763113|\n",
      "|2015|    6|       13792085|\n",
      "|2015|    7|       12944024|\n",
      "|2015|    8|       12514354|\n",
      "|2015|    9|       12543804|\n",
      "|2015|   10|       13754308|\n",
      "|2015|   11|       12655840|\n",
      "|2015|   12|       12874955|\n",
      "|2016|    1|       12197925|\n",
      "|2016|    2|       12737514|\n",
      "|2016|    3|       13618756|\n",
      "|2016|    4|       13299754|\n",
      "|2016|    5|       13193482|\n",
      "|2016|    6|       12363673|\n",
      "|2016|    7|       11469481|\n",
      "|2016|    8|       11040565|\n",
      "|2016|    9|       11114687|\n",
      "|2016|   10|       11945718|\n",
      "|2016|   11|       11087608|\n",
      "|2016|   12|       11508320|\n",
      "+----+-----+---------------+\n",
      "\n"
     ]
    }
   ],
   "source": [
    "spark.sql(\"\"\"\n",
    "SELECT year\n",
    ",month\n",
    ",COUNT(*) AS number_of_trips\n",
    "FROM nyc_taxi_data_2015_16\n",
    "GROUP BY year\n",
    ",month\n",
    "ORDER BY year, month\n",
    "\"\"\").show(24)"
   ]
  },
  {
   "cell_type": "markdown",
   "metadata": {},
   "source": [
    "### ii. Which day of week had the most trips?"
   ]
  },
  {
   "cell_type": "code",
   "execution_count": 6,
   "metadata": {},
   "outputs": [
    {
     "name": "stdout",
     "output_type": "stream",
     "text": [
      "+----+-----+--------------+-----------+\n",
      "|year|month|pickup_weekday|total_trips|\n",
      "+----+-----+--------------+-----------+\n",
      "|2015|    1|      Saturday|    2663157|\n",
      "|2015|    2|      Saturday|    2338396|\n",
      "|2015|    3|        Sunday|    2334587|\n",
      "|2015|    4|      Thursday|    2505889|\n",
      "|2015|    5|      Saturday|    2627990|\n",
      "|2015|    6|       Tuesday|    2215136|\n",
      "|2015|    7|     Wednesday|    2188274|\n",
      "|2015|    8|      Saturday|    2137535|\n",
      "|2015|    9|     Wednesday|    2101406|\n",
      "|2015|   10|      Saturday|    2481416|\n",
      "|2015|   11|        Sunday|    2115682|\n",
      "|2015|   12|      Thursday|    2127194|\n",
      "|2016|    1|        Friday|    2227847|\n",
      "|2016|    2|      Saturday|    1987101|\n",
      "|2016|    3|      Thursday|    2258660|\n",
      "|2016|    4|      Saturday|    2461977|\n",
      "|2016|    5|        Sunday|    2074789|\n",
      "|2016|    6|      Thursday|    2127773|\n",
      "|2016|    7|        Friday|    1992464|\n",
      "|2016|    8|     Wednesday|    1820406|\n",
      "|2016|    9|        Friday|    1981416|\n",
      "|2016|   10|      Saturday|    2149453|\n",
      "|2016|   11|     Wednesday|    1867412|\n",
      "|2016|   12|        Friday|    2032546|\n",
      "+----+-----+--------------+-----------+\n",
      "\n"
     ]
    }
   ],
   "source": [
    "spark.sql(\"\"\"\n",
    "WITH WEEKDAY_TRIP_COUNT AS (SELECT year\n",
    "        ,month\n",
    "        ,DATE_FORMAT(pickup_datetime, \"EEEE\") AS pickup_weekday\n",
    "        ,COUNT(*) AS total_trips\n",
    "        ,ROW_NUMBER() OVER (PARTITION BY year,month ORDER BY COUNT(*) DESC) AS row_num\n",
    "    FROM nyc_taxi_data_2015_16\n",
    "    GROUP BY year\n",
    "        ,month\n",
    "        ,pickup_weekday\n",
    "    )\n",
    "    SELECT year\n",
    "        ,month\n",
    "        ,pickup_weekday\n",
    "        ,total_trips\n",
    "    FROM WEEKDAY_TRIP_COUNT\n",
    "    WHERE row_num = 1\n",
    "    ORDER BY year, month\n",
    "\"\"\").show(24)"
   ]
  },
  {
   "cell_type": "markdown",
   "metadata": {},
   "source": [
    "### iii. Which hour of the day had the most trips?"
   ]
  },
  {
   "cell_type": "code",
   "execution_count": 7,
   "metadata": {},
   "outputs": [
    {
     "name": "stdout",
     "output_type": "stream",
     "text": [
      "+----+-----+-----------+-----------+\n",
      "|year|month|pickup_hour|total_trips|\n",
      "+----+-----+-----------+-----------+\n",
      "|2015|    1|         19|     897821|\n",
      "|2015|    2|         19|     932658|\n",
      "|2015|    3|         19|     937173|\n",
      "|2015|    4|         19|     905186|\n",
      "|2015|    5|         19|     911404|\n",
      "|2015|    6|         19|     850788|\n",
      "|2015|    7|         19|     802134|\n",
      "|2015|    8|         19|     771125|\n",
      "|2015|    9|         19|     783066|\n",
      "|2015|   10|         19|     867123|\n",
      "|2015|   11|         19|     778753|\n",
      "|2015|   12|         19|     791892|\n",
      "|2016|    1|         18|     780650|\n",
      "|2016|    2|         18|     821625|\n",
      "|2016|    3|         19|     868920|\n",
      "|2016|    4|         19|     829231|\n",
      "|2016|    5|         18|     808252|\n",
      "|2016|    6|         19|     755675|\n",
      "|2016|    7|         18|     686629|\n",
      "|2016|    8|         19|     685331|\n",
      "|2016|    9|         19|     693120|\n",
      "|2016|   10|         19|     738889|\n",
      "|2016|   11|         19|     680430|\n",
      "|2016|   12|         19|     700668|\n",
      "+----+-----+-----------+-----------+\n",
      "\n"
     ]
    }
   ],
   "source": [
    "spark.sql(\"\"\"\n",
    "WITH HOUR_TRIP_COUNT AS (SELECT year\n",
    "        ,month\n",
    "        ,pickup_hour\n",
    "        ,COUNT(*) AS total_trips\n",
    "        ,ROW_NUMBER() OVER (PARTITION BY year,month ORDER BY COUNT(*) DESC) AS row_num\n",
    "    FROM nyc_taxi_data_2015_16\n",
    "    GROUP BY year\n",
    "        ,month\n",
    "        ,pickup_hour\n",
    "    )\n",
    "    SELECT year\n",
    "        ,month\n",
    "        ,pickup_hour\n",
    "        ,total_trips\n",
    "    FROM HOUR_TRIP_COUNT\n",
    "    WHERE row_num = 1\n",
    "    ORDER BY year, month\n",
    "\"\"\").show(24)"
   ]
  },
  {
   "cell_type": "markdown",
   "metadata": {},
   "source": [
    "### iv. What was the average number of passengers?"
   ]
  },
  {
   "cell_type": "code",
   "execution_count": 8,
   "metadata": {},
   "outputs": [
    {
     "name": "stdout",
     "output_type": "stream",
     "text": [
      "+----+-----+-----------------------+\n",
      "|year|month|avg_passengers_per_trip|\n",
      "+----+-----+-----------------------+\n",
      "|2015|    1|               1.653391|\n",
      "|2015|    2|               1.626309|\n",
      "|2015|    3|               1.640603|\n",
      "|2015|    4|                1.64593|\n",
      "|2015|    5|               1.652701|\n",
      "|2015|    6|               1.648807|\n",
      "|2015|    7|               1.660572|\n",
      "|2015|    8|                1.66225|\n",
      "|2015|    9|               1.647119|\n",
      "|2015|   10|               1.640405|\n",
      "|2015|   11|                1.63751|\n",
      "|2015|   12|               1.645442|\n",
      "|2016|    1|               1.636588|\n",
      "|2016|    2|               1.621866|\n",
      "|2016|    3|               1.626152|\n",
      "|2016|    4|               1.628314|\n",
      "|2016|    5|               1.629545|\n",
      "|2016|    6|               1.626042|\n",
      "|2016|    7|               1.636588|\n",
      "|2016|    8|               1.633314|\n",
      "|2016|    9|               1.617384|\n",
      "|2016|   10|               1.618455|\n",
      "|2016|   11|               1.612241|\n",
      "|2016|   12|               1.623203|\n",
      "+----+-----+-----------------------+\n",
      "\n"
     ]
    }
   ],
   "source": [
    "spark.sql(\"\"\"\n",
    "SELECT year\n",
    "    ,month\n",
    "    ,ROUND(AVG(passenger_count), 6) AS avg_passengers_per_trip\n",
    "    FROM nyc_taxi_data_2015_16\n",
    "    GROUP BY year\n",
    "    ,month\n",
    "ORDER BY year, month\n",
    "\"\"\").show(24)"
   ]
  },
  {
   "cell_type": "markdown",
   "metadata": {},
   "source": [
    "### v. What was the average amount paid per trip (total_amount)?"
   ]
  },
  {
   "cell_type": "code",
   "execution_count": 11,
   "metadata": {},
   "outputs": [
    {
     "name": "stdout",
     "output_type": "stream",
     "text": [
      "+----+-----+----------------+\n",
      "|year|month|avg_total_amount|\n",
      "+----+-----+----------------+\n",
      "|2015|    1|       14.664886|\n",
      "|2015|    2|       15.148309|\n",
      "|2015|    3|       15.551944|\n",
      "|2015|    4|       15.777206|\n",
      "|2015|    5|       16.214256|\n",
      "|2015|    6|       16.101898|\n",
      "|2015|    7|        15.89492|\n",
      "|2015|    8|       15.919458|\n",
      "|2015|    9|       16.207254|\n",
      "|2015|   10|       16.259301|\n",
      "|2015|   11|       16.090388|\n",
      "|2015|   12|       16.016362|\n",
      "|2016|    1|       15.410171|\n",
      "|2016|    2|        15.34471|\n",
      "|2016|    3|       15.756457|\n",
      "|2016|    4|       15.969409|\n",
      "|2016|    5|       16.397597|\n",
      "|2016|    6|       16.430469|\n",
      "|2016|    7|       16.171933|\n",
      "|2016|    8|       16.116113|\n",
      "|2016|    9|       16.630837|\n",
      "|2016|   10|        16.30687|\n",
      "|2016|   11|       16.264509|\n",
      "|2016|   12|       15.908741|\n",
      "+----+-----+----------------+\n",
      "\n"
     ]
    }
   ],
   "source": [
    "spark.sql(\"\"\"\n",
    "SELECT year\n",
    "    ,month\n",
    "    ,ROUND(AVG(total_amount), 6) AS avg_total_amount\n",
    "    FROM nyc_taxi_data_2015_16\n",
    "    GROUP BY year\n",
    "    ,month\n",
    "ORDER BY year, month\n",
    "\"\"\").show(24)"
   ]
  },
  {
   "cell_type": "markdown",
   "metadata": {},
   "source": [
    "### vi. What was the average amount paid per passenger (total_amount)?"
   ]
  },
  {
   "cell_type": "code",
   "execution_count": 13,
   "metadata": {},
   "outputs": [
    {
     "name": "stdout",
     "output_type": "stream",
     "text": [
      "+----+-----+----------------+\n",
      "|year|month|avg_total_amount|\n",
      "+----+-----+----------------+\n",
      "|2015|    1|        11.98855|\n",
      "|2015|    2|       12.500788|\n",
      "|2015|    3|       12.757072|\n",
      "|2015|    4|       12.898395|\n",
      "|2015|    5|       13.208794|\n",
      "|2015|    6|       13.140276|\n",
      "|2015|    7|       12.918228|\n",
      "|2015|    8|       12.914272|\n",
      "|2015|    9|       13.218438|\n",
      "|2015|   10|       13.284638|\n",
      "|2015|   11|       13.161323|\n",
      "|2015|   12|       13.034274|\n",
      "|2016|    1|       12.638365|\n",
      "|2016|    2|       12.643378|\n",
      "|2016|    3|       12.942539|\n",
      "|2016|    4|       13.089892|\n",
      "|2016|    5|       13.414256|\n",
      "|2016|    6|       13.463351|\n",
      "|2016|    7|       13.195319|\n",
      "|2016|    8|       13.167938|\n",
      "|2016|    9|       13.658277|\n",
      "|2016|   10|        13.37838|\n",
      "|2016|   11|       13.386819|\n",
      "|2016|   12|       13.013608|\n",
      "+----+-----+----------------+\n",
      "\n"
     ]
    }
   ],
   "source": [
    "spark.sql(\"\"\"\n",
    "SELECT year\n",
    "    ,month\n",
    "    ,ROUND(AVG(total_amount/passenger_count), 6) AS avg_total_amount\n",
    "    FROM nyc_taxi_data_2015_16\n",
    "    GROUP BY year\n",
    "    ,month\n",
    "ORDER BY year, month\n",
    "\"\"\").show(24)"
   ]
  },
  {
   "cell_type": "markdown",
   "metadata": {},
   "source": [
    "##  Q2. For each taxi colour (yellow and green)"
   ]
  },
  {
   "cell_type": "markdown",
   "metadata": {},
   "source": [
    "### What was the average, median, minimum and maximum trip duration in seconds?"
   ]
  },
  {
   "cell_type": "code",
   "execution_count": 15,
   "metadata": {},
   "outputs": [
    {
     "name": "stdout",
     "output_type": "stream",
     "text": [
      "+-----------+-----------------+--------------------+-----------------+-----------------+\n",
      "|taxi_colour|avg_duration_mins|median_duration_mins|min_duration_mins|max_duration_mins|\n",
      "+-----------+-----------------+--------------------+-----------------+-----------------+\n",
      "|      green|         13.12797|           10.283333|         0.016667|       179.983333|\n",
      "|     yellow|        14.191113|                11.2|         0.016667|       179.966667|\n",
      "+-----------+-----------------+--------------------+-----------------+-----------------+\n",
      "\n"
     ]
    }
   ],
   "source": [
    "spark.sql('''\n",
    "select taxi_colour\n",
    "    ,ROUND(AVG(duration_mins), 6) as avg_duration_mins\n",
    "    ,ROUND(percentile_approx(duration_mins, 0.5), 6) as median_duration_mins\n",
    "    ,ROUND(min(duration_mins), 6) as min_duration_mins\n",
    "    ,ROUND(max(duration_mins), 6) as max_duration_mins\n",
    "    FROM nyc_taxi_data_2015_16\n",
    "    group by taxi_colour\n",
    "''').show()"
   ]
  },
  {
   "cell_type": "markdown",
   "metadata": {},
   "source": [
    "In the above result, the duration minutes was capped at 180 minutes in ETL and that ws the maximum duration, and same goes with minimum duration being >0."
   ]
  },
  {
   "cell_type": "markdown",
   "metadata": {},
   "source": [
    "### What was the average, median, minimum and maximum trip distance in km?"
   ]
  },
  {
   "cell_type": "code",
   "execution_count": 16,
   "metadata": {},
   "outputs": [
    {
     "name": "stdout",
     "output_type": "stream",
     "text": [
      "+-----------+----------------+-------------------+----------------+----------------+\n",
      "|taxi_colour|avg_distance_kms|median_distance_kms|min_distance_kms|max_distance_kms|\n",
      "+-----------+----------------+-------------------+----------------+----------------+\n",
      "|      green|        4.640294|            3.07319|         0.01609|           80.45|\n",
      "|     yellow|        4.814259|            2.75139|         0.01609|           80.45|\n",
      "+-----------+----------------+-------------------+----------------+----------------+\n",
      "\n"
     ]
    }
   ],
   "source": [
    "spark.sql('''\n",
    "select taxi_colour\n",
    "    ,ROUND(AVG(trip_distance * 1.609), 6) as avg_distance_kms\n",
    "    ,ROUND(percentile_approx(trip_distance * 1.609, 0.5), 6) as median_distance_kms\n",
    "    ,ROUND(min(trip_distance  * 1.609), 6) as min_distance_kms\n",
    "    ,ROUND(max(trip_distance * 1.609), 6) as max_distance_kms\n",
    "    FROM nyc_taxi_data_2015_16\n",
    "    group by taxi_colour\n",
    "''').show()"
   ]
  },
  {
   "cell_type": "markdown",
   "metadata": {},
   "source": [
    "In the above result, the duration minutes was capped at 70 miles in ETL and that was the maximum distance, and same goes with minimum distance being >0 miles."
   ]
  },
  {
   "cell_type": "markdown",
   "metadata": {},
   "source": [
    "### What was the average, median, minimum and maximum speed in km per hour?"
   ]
  },
  {
   "cell_type": "code",
   "execution_count": 17,
   "metadata": {},
   "outputs": [
    {
     "name": "stdout",
     "output_type": "stream",
     "text": [
      "+-----------+--------------+-----------------+--------------+--------------+\n",
      "|taxi_colour|avg_speed_kmhr|median_speed_kmhr|min_speed_kmhr|max_speed_kmhr|\n",
      "+-----------+--------------+-----------------+--------------+--------------+\n",
      "|      green|     20.589008|        18.756343|         3.218|        112.63|\n",
      "|     yellow|     19.026017|        16.824398|         3.218|    112.629998|\n",
      "+-----------+--------------+-----------------+--------------+--------------+\n",
      "\n"
     ]
    }
   ],
   "source": [
    "spark.sql('''\n",
    "select taxi_colour\n",
    "    ,ROUND(AVG(trip_distance * 1.609 /(duration_mins/60)), 6) as avg_speed_kmhr\n",
    "    ,ROUND(percentile_approx(trip_distance * 1.609 /(duration_mins/60), 0.5), 6) as median_speed_kmhr\n",
    "    ,ROUND(min(trip_distance * 1.609 /(duration_mins/60)), 6) as min_speed_kmhr\n",
    "    ,ROUND(max(trip_distance * 1.609 /(duration_mins/60)), 6) as max_speed_kmhr\n",
    "    FROM nyc_taxi_data_2015_16\n",
    "    group by taxi_colour\n",
    "''').show()"
   ]
  },
  {
   "cell_type": "markdown",
   "metadata": {},
   "source": [
    "In the above result, the speed was taken between 2mph and 70mph in ETL and that is the minimum and maximum speed in kmhr."
   ]
  },
  {
   "cell_type": "markdown",
   "metadata": {},
   "source": [
    "## Q3. What was the percentage of trips where the driver received tips?"
   ]
  },
  {
   "cell_type": "code",
   "execution_count": 18,
   "metadata": {},
   "outputs": [
    {
     "name": "stdout",
     "output_type": "stream",
     "text": [
      "+-----------+-----------------------+\n",
      "|taxi_colour|tipped_trips_percentage|\n",
      "+-----------+-----------------------+\n",
      "|      green|      41.14766720704491|\n",
      "|     yellow|      62.00446030413704|\n",
      "+-----------+-----------------------+\n",
      "\n"
     ]
    }
   ],
   "source": [
    "spark.sql('''\n",
    "    select taxi_colour, sum(case when tip_amount > 0 then 1 else 0 end)/count(1) * 100 as tipped_trips_percentage\n",
    "    from nyc_taxi_data_2015_16\n",
    "    group by taxi_colour\n",
    "''').show()"
   ]
  },
  {
   "cell_type": "markdown",
   "metadata": {},
   "source": [
    "## Q4. For trips where the driver received tips, What was the percentage where the driver received tips of at least $10."
   ]
  },
  {
   "cell_type": "code",
   "execution_count": 24,
   "metadata": {},
   "outputs": [
    {
     "name": "stdout",
     "output_type": "stream",
     "text": [
      "+-----------+-----------------------------+\n",
      "|taxi_colour|tipped_trips_percentage_gt_10|\n",
      "+-----------+-----------------------------+\n",
      "|      green|           1.7097524699694122|\n",
      "|     yellow|           3.0469699535287367|\n",
      "+-----------+-----------------------------+\n",
      "\n"
     ]
    }
   ],
   "source": [
    "spark.sql('''\n",
    "    select taxi_colour, sum(case when tip_amount >= 10 then 1 else 0 end)/sum(case when tip_amount > 0 then 1 else 0 end) * 100 as tipped_trips_percentage_gt_10\n",
    "    from nyc_taxi_data_2015_16\n",
    "    group by taxi_colour\n",
    "''').show()"
   ]
  },
  {
   "cell_type": "markdown",
   "metadata": {},
   "source": [
    "## Q5. For each bins, calculate:"
   ]
  },
  {
   "cell_type": "markdown",
   "metadata": {},
   "source": [
    "### Average speed (km per hour)"
   ]
  },
  {
   "cell_type": "code",
   "execution_count": 20,
   "metadata": {},
   "outputs": [
    {
     "name": "stdout",
     "output_type": "stream",
     "text": [
      "+-------------+---------------+\n",
      "| cat_duration|avg_speed_km_hr|\n",
      "+-------------+---------------+\n",
      "|Above 30 mins|       24.76117|\n",
      "|   10-20 mins|      18.279589|\n",
      "|    5-10 mins|      17.473161|\n",
      "|   20-30 mins|      21.468919|\n",
      "| Under 5 mins|      20.018777|\n",
      "+-------------+---------------+\n",
      "\n"
     ]
    }
   ],
   "source": [
    "spark.sql('''\n",
    "    select cat_duration, ROUND(AVG(trip_distance * 1.609 /(duration_mins/60)), 6) as avg_speed_km_hr\n",
    "    from nyc_taxi_data_2015_16\n",
    "    group by cat_duration\n",
    "''').show()"
   ]
  },
  {
   "cell_type": "markdown",
   "metadata": {},
   "source": [
    "### Average distance per dollar (km per $)"
   ]
  },
  {
   "cell_type": "code",
   "execution_count": 21,
   "metadata": {},
   "outputs": [
    {
     "name": "stdout",
     "output_type": "stream",
     "text": [
      "+-------------+-------------+\n",
      "| cat_duration|avg_km_dollar|\n",
      "+-------------+-------------+\n",
      "|Above 30 mins|     0.407061|\n",
      "|   10-20 mins|     0.274964|\n",
      "|    5-10 mins|     0.226161|\n",
      "|   20-30 mins|      0.32054|\n",
      "| Under 5 mins|     0.172607|\n",
      "+-------------+-------------+\n",
      "\n"
     ]
    }
   ],
   "source": [
    "spark.sql('''\n",
    "    select cat_duration, ROUND(AVG(trip_distance * 1.609 /total_amount), 6) as avg_km_dollar\n",
    "    from nyc_taxi_data_2015_16\n",
    "    group by cat_duration\n",
    "''').show()"
   ]
  },
  {
   "cell_type": "markdown",
   "metadata": {},
   "source": [
    "## Q6. Which duration bin will you advise a taxi driver to target to maximise his income?"
   ]
  },
  {
   "cell_type": "markdown",
   "metadata": {},
   "source": [
    "I would advise a taxi driver to target the long trips which are over 30 minutes for maximum income. Also, I would say to not miss the trips on Saturdays, and 6-7pm on the weekdays as those times are the times where there are most number of trips."
   ]
  }
 ],
 "metadata": {
  "kernelspec": {
   "display_name": "Python 3",
   "language": "python",
   "name": "python3"
  },
  "language_info": {
   "codemirror_mode": {
    "name": "ipython",
    "version": 3
   },
   "file_extension": ".py",
   "mimetype": "text/x-python",
   "name": "python",
   "nbconvert_exporter": "python",
   "pygments_lexer": "ipython3",
   "version": "3.7.6"
  }
 },
 "nbformat": 4,
 "nbformat_minor": 4
}
