{
 "cells": [
  {
   "cell_type": "markdown",
   "metadata": {},
   "source": [
    "# EDA for modelling"
   ]
  },
  {
   "cell_type": "markdown",
   "metadata": {},
   "source": [
    "## EDA Part 1- After initial filtering"
   ]
  },
  {
   "cell_type": "markdown",
   "metadata": {},
   "source": [
    "This is a file that is used to check for different data in the cleaned dataset. This was built solely to do an EDA on the entire dataset, so that the transformations done during ETL can be made better, and a better quality of data can be obtained."
   ]
  },
  {
   "cell_type": "code",
   "execution_count": 6,
   "metadata": {},
   "outputs": [],
   "source": [
    "import pandas as pd\n",
    "from pyspark.sql import SparkSession\n",
    "import pyspark.sql.functions as F\n",
    "from pyspark.mllib.stat import Statistics\n",
    "import matplotlib.pyplot as plt\n",
    "import numpy as np"
   ]
  },
  {
   "cell_type": "code",
   "execution_count": 7,
   "metadata": {},
   "outputs": [],
   "source": [
    "# Create a local spark session\n",
    "spark = SparkSession.builder \\\n",
    "        .appName('nyc-taxi-sql') \\\n",
    "        .getOrCreate()"
   ]
  },
  {
   "cell_type": "code",
   "execution_count": 8,
   "metadata": {},
   "outputs": [],
   "source": [
    "# load the file - Read parquet file\n",
    "df = spark.read.load(\"./output\")"
   ]
  },
  {
   "cell_type": "code",
   "execution_count": 9,
   "metadata": {},
   "outputs": [
    {
     "name": "stdout",
     "output_type": "stream",
     "text": [
      "root\n",
      " |-- taxi_colour: string (nullable = true)\n",
      " |-- day: string (nullable = true)\n",
      " |-- week: string (nullable = true)\n",
      " |-- pickup_hour: string (nullable = true)\n",
      " |-- pickup_datetime: timestamp (nullable = true)\n",
      " |-- dropoff_datetime: timestamp (nullable = true)\n",
      " |-- duration_mins: double (nullable = true)\n",
      " |-- cat_duration: string (nullable = true)\n",
      " |-- passenger_count: integer (nullable = true)\n",
      " |-- trip_distance: float (nullable = true)\n",
      " |-- RatecodeID: integer (nullable = true)\n",
      " |-- payment_type: string (nullable = true)\n",
      " |-- fare_amount: float (nullable = true)\n",
      " |-- extra: float (nullable = true)\n",
      " |-- mta_tax: float (nullable = true)\n",
      " |-- tip_amount: float (nullable = true)\n",
      " |-- tolls_amount: float (nullable = true)\n",
      " |-- improvement_surcharge: float (nullable = true)\n",
      " |-- total_amount: float (nullable = true)\n",
      " |-- speed_mph: double (nullable = true)\n",
      " |-- trip_type: string (nullable = true)\n",
      " |-- year: integer (nullable = true)\n",
      " |-- month: integer (nullable = true)\n",
      "\n"
     ]
    }
   ],
   "source": [
    "df.printSchema()"
   ]
  },
  {
   "cell_type": "code",
   "execution_count": 52,
   "metadata": {},
   "outputs": [],
   "source": [
    "df.createOrReplaceTempView(\"v_df\")"
   ]
  },
  {
   "cell_type": "code",
   "execution_count": 7,
   "metadata": {},
   "outputs": [
    {
     "name": "stdout",
     "output_type": "stream",
     "text": [
      "+--------+\n",
      "|count(1)|\n",
      "+--------+\n",
      "|       6|\n",
      "+--------+\n",
      "\n"
     ]
    }
   ],
   "source": [
    "# Check whether total_amount > 1000 can be deleted or not- first get the count and then look at the data\n",
    "spark.sql('''select count(*)\n",
    "          from v_df where total_amount > 1000''').show()"
   ]
  },
  {
   "cell_type": "code",
   "execution_count": 7,
   "metadata": {},
   "outputs": [
    {
     "name": "stdout",
     "output_type": "stream",
     "text": [
      "+--------+---------------+-------------+----------+------------+-----------+------+----------+------------+\n",
      "|     dur|passenger_count|trip_distance|ratecodeID|payment_type|fare_amount| extra|tip_amount|total_amount|\n",
      "+--------+---------------+-------------+----------+------------+-----------+------+----------+------------+\n",
      "|  0.9167|              1|          5.7|         5|           3|     999.98|   0.0|       0.0|     1000.28|\n",
      "|  0.2333|              1|          7.7|         5|           1|        0.0|   0.0|    999.99|     1000.29|\n",
      "|    0.45|              1|          7.7|         5|           1|        0.0|   0.0|    999.99|     1000.29|\n",
      "|  0.5667|              1|          1.9|         5|           1|        0.0|   0.0|    999.99|     1000.29|\n",
      "|  0.4833|              1|          1.2|         5|           1|      900.0|   0.0|     100.0|      1000.3|\n",
      "|637.2333|              3|        360.5|         1|           3|      989.0|   0.5|       0.0|      1000.8|\n",
      "| 42.5833|              1|         29.9|         1|           2|       79.0|   0.0|       0.0|     1003.38|\n",
      "|  4.5333|              2|          1.0|         1|           1|        5.5|   0.5|    998.14|     1004.94|\n",
      "| 10.9333|              4|          2.2|         2|           2|       52.0|   0.0|       0.0|      1006.8|\n",
      "|     5.4|              1|          1.0|         1|           3|     1006.0|   0.5|       0.0|      1007.3|\n",
      "|     7.6|              1|          1.3|         1|           2|     1007.0|   0.5|       0.0|      1008.3|\n",
      "|391.5167|              1|       104.46|         1|           2|     1008.5|   0.0|       0.0|      1009.3|\n",
      "| 72.6167|              2|         16.7|         5|           3|       90.0|   0.0|       0.0|      1009.8|\n",
      "| 30.9333|              1|          9.1|         1|           3|       30.0|   0.0|       0.0|     1012.55|\n",
      "|    14.0|              1|          3.9|         1|           1|       14.0|   0.5|    997.43|     1012.73|\n",
      "|   40.35|              1|         11.0|         1|           3|       36.5|   0.0|       0.0|     1013.74|\n",
      "| 11.2833|              1|          5.9|         1|           3|       18.0|   0.0|       0.0|     1014.34|\n",
      "| 37.7667|              1|         10.2|         1|           4|       35.0|   0.0|       0.0|     1015.95|\n",
      "| 31.2667|              3|          2.6|         1|           5|       19.5|   0.0|    999.99|     1020.29|\n",
      "| 26.7833|              1|        150.0|         1|           2|      360.0|570.22|       0.0|     1021.22|\n",
      "+--------+---------------+-------------+----------+------------+-----------+------+----------+------------+\n",
      "only showing top 20 rows\n",
      "\n"
     ]
    }
   ],
   "source": [
    "spark.sql('''select round(duration_mins, 4) as dur, passenger_count, trip_distance, ratecodeID,\n",
    "          payment_type, fare_amount, extra, tip_amount, total_amount\n",
    "          from v_df where total_amount > 1000 order by total_amount asc''').show(20)"
   ]
  },
  {
   "cell_type": "code",
   "execution_count": 8,
   "metadata": {},
   "outputs": [
    {
     "name": "stdout",
     "output_type": "stream",
     "text": [
      "+--------------------+-----------+\n",
      "|       duration_mins|fare_amount|\n",
      "+--------------------+-----------+\n",
      "|  0.7166666666666667|     100.01|\n",
      "|  0.9833333333333333|     100.02|\n",
      "|0.016666666666666666|     100.05|\n",
      "|  0.5166666666666667|     100.05|\n",
      "|                 0.7|     100.12|\n",
      "|  0.7333333333333333|      100.2|\n",
      "|  0.5166666666666667|      100.3|\n",
      "|  0.5666666666666667|      100.3|\n",
      "|  0.6333333333333333|      100.5|\n",
      "|                 0.5|     100.54|\n",
      "|  0.9833333333333333|     100.66|\n",
      "|  0.7333333333333333|      100.8|\n",
      "|                0.25|      101.0|\n",
      "| 0.03333333333333333|      101.0|\n",
      "|  0.2833333333333333|      101.0|\n",
      "|  0.7333333333333333|      101.0|\n",
      "|  0.3333333333333333|      101.0|\n",
      "|  0.2833333333333333|      101.0|\n",
      "|  0.6333333333333333|      101.0|\n",
      "|                0.45|      101.0|\n",
      "+--------------------+-----------+\n",
      "only showing top 20 rows\n",
      "\n"
     ]
    }
   ],
   "source": [
    "# Check whether duration_mins < 1 can be deleted or not- first get the count and then look at the data\n",
    "spark.sql('''select duration_mins, fare_amount\n",
    "          from v_df where duration_mins < 1 and fare_amount > 100 order by fare_amount asc''').show(20)"
   ]
  },
  {
   "cell_type": "code",
   "execution_count": 9,
   "metadata": {},
   "outputs": [
    {
     "name": "stdout",
     "output_type": "stream",
     "text": [
      "+--------+\n",
      "|count(1)|\n",
      "+--------+\n",
      "|    5745|\n",
      "+--------+\n",
      "\n"
     ]
    }
   ],
   "source": [
    "# Check whether duration_mins < 1 can be deleted or not- first get the count and then look at the data\n",
    "spark.sql('''select count(1)\n",
    "          from v_df where duration_mins < 1 and fare_amount > 100''').show(100)"
   ]
  },
  {
   "cell_type": "code",
   "execution_count": 12,
   "metadata": {},
   "outputs": [
    {
     "name": "stdout",
     "output_type": "stream",
     "text": [
      "+-----------+-----------------+--------------------+-----------------+------------------+\n",
      "|taxi_colour|avg_duration_mins|median_duration_mins|min_duration_mins| max_duration_mins|\n",
      "+-----------+-----------------+--------------------+-----------------+------------------+\n",
      "|      green|        21.735881|           12.583333|         0.016667|       3885.633333|\n",
      "|     yellow|        22.269378|           13.683333|         0.016667|1.25373160833333E8|\n",
      "+-----------+-----------------+--------------------+-----------------+------------------+\n",
      "\n"
     ]
    }
   ],
   "source": [
    "spark.sql('''\n",
    "select taxi_colour\n",
    "    ,ROUND(AVG(duration_mins), 6) as avg_duration_mins\n",
    "    ,ROUND(percentile_approx(duration_mins, 0.5), 6) as median_duration_mins\n",
    "    ,ROUND(min(duration_mins), 6) as min_duration_mins\n",
    "    ,ROUND(max(duration_mins), 6) as max_duration_mins\n",
    "    FROM v_df\n",
    "    group by taxi_colour\n",
    "''').show()"
   ]
  },
  {
   "cell_type": "code",
   "execution_count": 13,
   "metadata": {},
   "outputs": [
    {
     "name": "stdout",
     "output_type": "stream",
     "text": [
      "+---------------+-------------+----------+------------+-----------+-----+----------+------------+--------------------+\n",
      "|passenger_count|trip_distance|ratecodeID|payment_type|fare_amount|extra|tip_amount|total_amount|       duration_mins|\n",
      "+---------------+-------------+----------+------------+-----------+-----+----------+------------+--------------------+\n",
      "|              1|          1.8|         1|           2|        9.0|  1.0|       0.0|        10.8|1.2537316083333333E8|\n",
      "|              1|         11.1|         1|           2|       44.0|  1.0|       0.0|        45.8|1.2537309018333334E8|\n",
      "|              1|          1.5|         1|           1|        8.0|  1.0|      1.96|       11.76|       1.253730782E8|\n",
      "|              1|          1.0|         1|           1|        6.0|  1.0|      1.95|        9.75|       1.253730648E8|\n",
      "|              1|          3.6|         1|           2|       16.0|  1.0|       0.0|        17.8|1.2537303843333334E8|\n",
      "|              1|          1.6|         1|           1|        7.0|  1.0|       2.2|        11.0|      1.2537302855E8|\n",
      "|              1|          2.5|         1|           2|        2.5|  0.5|       0.0|         3.8|   746727.7833333333|\n",
      "|              1|          5.5|         1|           1|       21.0|  0.5|       2.0|        24.3|            687573.3|\n",
      "|              1|          1.3|         1|           1|        8.5|  0.5|      1.96|       11.76|   687512.2333333333|\n",
      "|              2|          1.8|         1|           2|       10.0|  1.0|       0.0|        11.8|           687500.45|\n",
      "|              2|          1.5|         1|           1|       14.5|  1.0|       2.0|        18.3|            687485.1|\n",
      "|              3|          1.4|         1|           1|        8.0|  1.0|       1.0|        10.8|            687461.1|\n",
      "|              1|          1.4|         1|           2|       11.0|  1.0|       0.0|        12.8|   687450.9666666667|\n",
      "|              1|          1.2|         1|           2|        9.5|  1.0|       0.0|        11.3|            687433.9|\n",
      "|              1|          1.2|         1|           1|        7.5|  1.0|       1.0|        10.3|   687410.9166666666|\n",
      "|              1|          2.8|         1|           2|       12.5|  0.0|       0.0|        13.3|   548555.6333333333|\n",
      "|              1|          3.9|         1|           2|       18.5|  0.0|       0.0|        19.3|   548530.8833333333|\n",
      "|              1|          1.8|         1|           2|        9.5|  0.0|       0.0|        10.3|           548483.35|\n",
      "|              1|          2.7|         1|           2|       15.5|  0.0|       0.0|        16.3|   548470.9666666667|\n",
      "|              1|          1.8|         1|           1|        8.5|  0.0|       1.8|        11.1|           548429.55|\n",
      "+---------------+-------------+----------+------------+-----------+-----+----------+------------+--------------------+\n",
      "only showing top 20 rows\n",
      "\n"
     ]
    }
   ],
   "source": [
    "spark.sql('''\n",
    "select passenger_count, trip_distance, ratecodeID,\n",
    "          payment_type, fare_amount, extra, tip_amount, total_amount, duration_mins from v_df order by duration_mins desc\n",
    "''').show()"
   ]
  },
  {
   "cell_type": "code",
   "execution_count": 53,
   "metadata": {},
   "outputs": [
    {
     "name": "stdout",
     "output_type": "stream",
     "text": [
      "+---------------+---------+\n",
      "|passenger_count|    trips|\n",
      "+---------------+---------+\n",
      "|              1|223511307|\n",
      "|              2| 42232999|\n",
      "|              3| 12282114|\n",
      "|              4|  5819316|\n",
      "|              5| 15915592|\n",
      "|              6|  9848920|\n",
      "|              7|      604|\n",
      "|              8|      586|\n",
      "|              9|      307|\n",
      "+---------------+---------+\n",
      "\n"
     ]
    }
   ],
   "source": [
    "# Number of trips by passengers\n",
    "spark.sql('''\n",
    "select passenger_count, count(1) as trips from v_df group by passenger_count order by passenger_count asc\n",
    "''').show()"
   ]
  },
  {
   "cell_type": "code",
   "execution_count": 11,
   "metadata": {},
   "outputs": [
    {
     "name": "stdout",
     "output_type": "stream",
     "text": [
      "+-------------+----------+------------+----------+\n",
      "| cat_duration|RatecodeID|total_amount|tip_amount|\n",
      "+-------------+----------+------------+----------+\n",
      "|Above 30 mins|         5|       200.0|     10.16|\n",
      "|Above 30 mins|         5|       200.0|      27.2|\n",
      "|Above 30 mins|         5|       200.0|      19.2|\n",
      "|Above 30 mins|         5|       200.0|      14.7|\n",
      "|Above 30 mins|         5|       200.0|       0.0|\n",
      "|Above 30 mins|         5|       200.0|      38.2|\n",
      "|Above 30 mins|         5|       200.0|      12.8|\n",
      "|Above 30 mins|         5|       200.0|     26.87|\n",
      "|Above 30 mins|         5|       200.0|       0.0|\n",
      "|Above 30 mins|         5|       200.0|       4.7|\n",
      "|Above 30 mins|         5|       200.0|      18.7|\n",
      "|Above 30 mins|         5|       200.0|     24.41|\n",
      "|Above 30 mins|         5|       200.0|     11.91|\n",
      "|Above 30 mins|         5|       200.0|     26.76|\n",
      "|Above 30 mins|         5|       200.0|      41.7|\n",
      "|Above 30 mins|         5|       200.0|     23.87|\n",
      "|Above 30 mins|         5|       200.0|      98.7|\n",
      "|Above 30 mins|         5|       200.0|      14.7|\n",
      "|Above 30 mins|         5|       200.0|      31.7|\n",
      "|Above 30 mins|         5|       200.0|      76.2|\n",
      "|Above 30 mins|         5|       200.0|      53.7|\n",
      "|Above 30 mins|         5|       200.0|      8.41|\n",
      "|Above 30 mins|         5|       200.0|       0.0|\n",
      "|Above 30 mins|         5|       200.0|     27.45|\n",
      "|Above 30 mins|         5|       200.0|      36.7|\n",
      "|Above 30 mins|         5|       200.0|      20.0|\n",
      "|Above 30 mins|         5|       200.0|     24.62|\n",
      "|Above 30 mins|         5|       200.0|       0.0|\n",
      "|Above 30 mins|         5|       200.0|      24.7|\n",
      "|Above 30 mins|         5|       200.0|      23.2|\n",
      "|Above 30 mins|         5|       200.0|     30.45|\n",
      "|Above 30 mins|         5|       200.0|      53.7|\n",
      "|Above 30 mins|         5|       200.0|      27.2|\n",
      "|Above 30 mins|         5|       200.0|      6.95|\n",
      "|Above 30 mins|         5|       200.0|      19.2|\n",
      "|Above 30 mins|         5|       200.0|      5.66|\n",
      "|Above 30 mins|         5|       200.0|     16.12|\n",
      "|Above 30 mins|         5|       200.0|      29.7|\n",
      "|Above 30 mins|         5|       200.0|      12.2|\n",
      "|Above 30 mins|         5|       200.0|     18.62|\n",
      "|Above 30 mins|         5|       200.0|      3.87|\n",
      "|Above 30 mins|         5|       200.0|       7.7|\n",
      "|Above 30 mins|         5|       200.0|     24.16|\n",
      "|Above 30 mins|         5|       200.0|     51.95|\n",
      "|Above 30 mins|         5|       200.0|      14.7|\n",
      "|Above 30 mins|         5|       200.0|      12.7|\n",
      "|Above 30 mins|         5|       200.0|      24.2|\n",
      "|Above 30 mins|         5|       200.0|      19.2|\n",
      "|Above 30 mins|         5|       200.0|      56.7|\n",
      "|Above 30 mins|         5|       200.0|      6.41|\n",
      "|Above 30 mins|         5|       200.0|     17.91|\n",
      "|Above 30 mins|         5|       200.0|       0.0|\n",
      "|Above 30 mins|         5|       200.0|      18.7|\n",
      "|Above 30 mins|         5|       200.0|      21.2|\n",
      "|Above 30 mins|         5|       200.0|       0.0|\n",
      "|Above 30 mins|         5|       200.0|       4.7|\n",
      "|Above 30 mins|         5|       200.0|     14.16|\n",
      "|Above 30 mins|         5|       200.0|      24.2|\n",
      "|Above 30 mins|         5|       200.0|      9.22|\n",
      "|Above 30 mins|         5|       200.0|     21.45|\n",
      "+-------------+----------+------------+----------+\n",
      "only showing top 60 rows\n",
      "\n"
     ]
    }
   ],
   "source": [
    "# checking count of trips by duration and RatecodeID\n",
    "spark.sql('''\n",
    "    select cat_duration, RatecodeID, total_amount, tip_amount\n",
    "    from v_df where RatecodeID=5 and duration_mins > 30 order by total_amount desc\n",
    "''').show(60)"
   ]
  },
  {
   "cell_type": "code",
   "execution_count": 12,
   "metadata": {},
   "outputs": [
    {
     "name": "stdout",
     "output_type": "stream",
     "text": [
      "+-------------+----------+---------------+-------------+\n",
      "| cat_duration|RatecodeID|number_of_trips|avg_km_dollar|\n",
      "+-------------+----------+---------------+-------------+\n",
      "|   10-20 mins|         1|      108120969|     0.272922|\n",
      "|   10-20 mins|         2|          56199|      0.19143|\n",
      "|   10-20 mins|         3|           8073|     0.220959|\n",
      "|   10-20 mins|         4|          22489|     0.381363|\n",
      "|   10-20 mins|         5|         277147|     1.170162|\n",
      "|   10-20 mins|         6|            105|     1.248373|\n",
      "|   20-30 mins|         1|       38146871|     0.311747|\n",
      "|   20-30 mins|         2|         736393|     0.430581|\n",
      "|   20-30 mins|         3|         123123|      0.30607|\n",
      "|   20-30 mins|         4|          34321|     0.390244|\n",
      "|   20-30 mins|         5|         166427|     1.946717|\n",
      "|   20-30 mins|         6|             46|     1.322628|\n",
      "|    5-10 mins|         1|       92024757|     0.225567|\n",
      "|    5-10 mins|         2|          22551|     0.062545|\n",
      "|    5-10 mins|         3|           2334|     0.087136|\n",
      "|    5-10 mins|         4|           2786|     0.235181|\n",
      "|    5-10 mins|         5|         125441|     0.760505|\n",
      "|    5-10 mins|         6|            114|     0.569493|\n",
      "|Above 30 mins|         1|       18628334|     0.335765|\n",
      "|Above 30 mins|         2|        4891923|     0.467302|\n",
      "|Above 30 mins|         3|         351170|     0.307101|\n",
      "|Above 30 mins|         4|          67670|     0.382777|\n",
      "|Above 30 mins|         5|         227214|     5.285679|\n",
      "|Above 30 mins|         6|            100|     1.783512|\n",
      "| Under 5 mins|         1|       45317038|     0.172217|\n",
      "| Under 5 mins|         2|          94042|     0.008053|\n",
      "| Under 5 mins|         3|          13691|       0.0176|\n",
      "| Under 5 mins|         4|           2179|     0.181118|\n",
      "| Under 5 mins|         5|         147694|     0.430059|\n",
      "| Under 5 mins|         6|            544|     0.158951|\n",
      "+-------------+----------+---------------+-------------+\n",
      "\n"
     ]
    }
   ],
   "source": [
    "# checking count of trips by duration and RatecodeID\n",
    "spark.sql('''\n",
    "    select cat_duration, RatecodeID, count(1) as number_of_trips, ROUND(AVG(trip_distance * 1.609 /total_amount), 6) as avg_km_dollar\n",
    "    from v_df\n",
    "    group by cat_duration, RatecodeID order by cat_duration, RatecodeID asc\n",
    "''').show(60)"
   ]
  },
  {
   "cell_type": "markdown",
   "metadata": {},
   "source": [
    "## EDA Part II- Checking the distributions with a sample"
   ]
  },
  {
   "cell_type": "code",
   "execution_count": 17,
   "metadata": {},
   "outputs": [
    {
     "name": "stdout",
     "output_type": "stream",
     "text": [
      "49802\n"
     ]
    }
   ],
   "source": [
    "# Get a sample of around 50k rows\n",
    "number_of_samples= 50000\n",
    "fraction_of_samples = number_of_samples/(df.count())\n",
    "\n",
    "sample_df = df.sample(fraction_of_samples)\n",
    "\n",
    "print(sample_df.count())"
   ]
  },
  {
   "cell_type": "code",
   "execution_count": 19,
   "metadata": {},
   "outputs": [
    {
     "data": {
      "text/plain": [
       "(array([1.458e+03, 6.228e+03, 7.823e+03, 7.189e+03, 6.044e+03, 4.689e+03,\n",
       "        3.679e+03, 2.912e+03, 2.097e+03, 1.587e+03, 1.338e+03, 9.550e+02,\n",
       "        7.830e+02, 5.810e+02, 4.670e+02, 3.620e+02, 2.840e+02, 2.300e+02,\n",
       "        2.260e+02, 1.710e+02, 1.290e+02, 9.800e+01, 8.900e+01, 6.400e+01,\n",
       "        5.600e+01, 5.800e+01, 4.200e+01, 2.700e+01, 2.700e+01, 1.900e+01,\n",
       "        1.600e+01, 1.400e+01, 7.000e+00, 9.000e+00, 8.000e+00, 8.000e+00,\n",
       "        8.000e+00, 2.000e+00, 5.000e+00, 3.000e+00, 4.000e+00, 1.000e+00,\n",
       "        1.000e+00, 0.000e+00, 0.000e+00, 0.000e+00, 1.000e+00, 2.000e+00,\n",
       "        0.000e+00, 1.000e+00]),\n",
       " array([1.66666667e-02, 2.56266667e+00, 5.10866667e+00, 7.65466667e+00,\n",
       "        1.02006667e+01, 1.27466667e+01, 1.52926667e+01, 1.78386667e+01,\n",
       "        2.03846667e+01, 2.29306667e+01, 2.54766667e+01, 2.80226667e+01,\n",
       "        3.05686667e+01, 3.31146667e+01, 3.56606667e+01, 3.82066667e+01,\n",
       "        4.07526667e+01, 4.32986667e+01, 4.58446667e+01, 4.83906667e+01,\n",
       "        5.09366667e+01, 5.34826667e+01, 5.60286667e+01, 5.85746667e+01,\n",
       "        6.11206667e+01, 6.36666667e+01, 6.62126667e+01, 6.87586667e+01,\n",
       "        7.13046667e+01, 7.38506667e+01, 7.63966667e+01, 7.89426667e+01,\n",
       "        8.14886667e+01, 8.40346667e+01, 8.65806667e+01, 8.91266667e+01,\n",
       "        9.16726667e+01, 9.42186667e+01, 9.67646667e+01, 9.93106667e+01,\n",
       "        1.01856667e+02, 1.04402667e+02, 1.06948667e+02, 1.09494667e+02,\n",
       "        1.12040667e+02, 1.14586667e+02, 1.17132667e+02, 1.19678667e+02,\n",
       "        1.22224667e+02, 1.24770667e+02, 1.27316667e+02]),\n",
       " <a list of 50 Patch objects>)"
      ]
     },
     "execution_count": 19,
     "metadata": {},
     "output_type": "execute_result"
    },
    {
     "data": {
      "image/png": "[encoded data removed]",
      "text/plain": [
       "<Figure size 720x576 with 1 Axes>"
      ]
     },
     "metadata": {
      "needs_background": "light"
     },
     "output_type": "display_data"
    }
   ],
   "source": [
    "# plot distribution of duration\n",
    "plt.figure(figsize=(10,8))\n",
    "bins= 50\n",
    "\n",
    "hist_data= sample_df.select('duration_mins').rdd.flatMap(lambda x: x).histogram(bins)\n",
    "\n",
    "bins= hist_data[0]\n",
    "\n",
    "count= hist_data[1]\n",
    "\n",
    "# This is a bit awkward but I believe this is the correct way to do it \n",
    "plt.hist(bins[:-1], bins=bins, weights=count)"
   ]
  },
  {
   "cell_type": "code",
   "execution_count": 22,
   "metadata": {},
   "outputs": [
    {
     "data": {
      "text/plain": [
       "(array([2.0185e+04, 1.4983e+04, 5.6690e+03, 2.8060e+03, 1.5300e+03,\n",
       "        1.0130e+03, 9.3400e+02, 6.8200e+02, 4.0600e+02, 2.1300e+02,\n",
       "        1.8300e+02, 2.8200e+02, 4.4100e+02, 2.1800e+02, 1.1600e+02,\n",
       "        7.7000e+01, 2.2000e+01, 9.0000e+00, 6.0000e+00, 8.0000e+00,\n",
       "        9.0000e+00, 2.0000e+00, 2.0000e+00, 0.0000e+00, 2.0000e+00,\n",
       "        2.0000e+00, 1.0000e+00, 0.0000e+00, 0.0000e+00, 1.0000e+00]),\n",
       " array([9.99999978e-03, 1.43933331e+00, 2.86866663e+00, 4.29799994e+00,\n",
       "        5.72733325e+00, 7.15666656e+00, 8.58599988e+00, 1.00153332e+01,\n",
       "        1.14446665e+01, 1.28739998e+01, 1.43033331e+01, 1.57326664e+01,\n",
       "        1.71619998e+01, 1.85913331e+01, 2.00206664e+01, 2.14499997e+01,\n",
       "        2.28793330e+01, 2.43086663e+01, 2.57379996e+01, 2.71673329e+01,\n",
       "        2.85966663e+01, 3.00259996e+01, 3.14553329e+01, 3.28846662e+01,\n",
       "        3.43139995e+01, 3.57433328e+01, 3.71726661e+01, 3.86019995e+01,\n",
       "        4.00313328e+01, 4.14606661e+01, 4.28899994e+01]),\n",
       " <a list of 30 Patch objects>)"
      ]
     },
     "execution_count": 22,
     "metadata": {},
     "output_type": "execute_result"
    },
    {
     "data": {
      "image/png": "[encoded data removed]",
      "text/plain": [
       "<Figure size 720x576 with 1 Axes>"
      ]
     },
     "metadata": {
      "needs_background": "light"
     },
     "output_type": "display_data"
    }
   ],
   "source": [
    "# plot distribution of distance\n",
    "plt.figure(figsize=(10,8))\n",
    "bins= 30\n",
    "\n",
    "hist_data= sample_df.select('trip_distance').rdd.flatMap(lambda x: x).histogram(bins)\n",
    "\n",
    "bins= hist_data[0]\n",
    "\n",
    "count= hist_data[1]\n",
    "\n",
    "# Plot a histogram now\n",
    "plt.hist(bins[:-1], bins=bins, weights=count)"
   ]
  },
  {
   "cell_type": "markdown",
   "metadata": {},
   "source": [
    "Looking at the above plot, we can say that most of the distance is between 0 and 30 miles."
   ]
  },
  {
   "cell_type": "code",
   "execution_count": 24,
   "metadata": {},
   "outputs": [
    {
     "data": {
      "text/plain": [
       "(array([3.0120e+03, 2.2406e+04, 1.2069e+04, 5.1010e+03, 2.4280e+03,\n",
       "        1.2790e+03, 8.9800e+02, 6.9000e+02, 4.7500e+02, 5.4400e+02,\n",
       "        2.7600e+02, 3.5900e+02, 1.3800e+02, 3.6000e+01, 2.3000e+01,\n",
       "        7.0000e+00, 2.1000e+01, 1.1000e+01, 7.0000e+00, 7.0000e+00,\n",
       "        5.0000e+00, 3.0000e+00, 3.0000e+00, 1.0000e+00, 2.0000e+00,\n",
       "        0.0000e+00, 0.0000e+00, 0.0000e+00, 0.0000e+00, 1.0000e+00]),\n",
       " array([  0.        ,   6.02666677,  12.05333354,  18.08000031,\n",
       "         24.10666707,  30.13333384,  36.16000061,  42.18666738,\n",
       "         48.21333415,  54.24000092,  60.26666768,  66.29333445,\n",
       "         72.32000122,  78.34666799,  84.37333476,  90.40000153,\n",
       "         96.42666829, 102.45333506, 108.48000183, 114.5066686 ,\n",
       "        120.53333537, 126.56000214, 132.5866689 , 138.61333567,\n",
       "        144.64000244, 150.66666921, 156.69333598, 162.72000275,\n",
       "        168.74666951, 174.77333628, 180.80000305]),\n",
       " <a list of 30 Patch objects>)"
      ]
     },
     "execution_count": 24,
     "metadata": {},
     "output_type": "execute_result"
    },
    {
     "data": {
      "image/png": "[encoded data removed]",
      "text/plain": [
       "<Figure size 720x576 with 1 Axes>"
      ]
     },
     "metadata": {
      "needs_background": "light"
     },
     "output_type": "display_data"
    }
   ],
   "source": [
    "# plot distribution of total_amount\n",
    "plt.figure(figsize=(10,8))\n",
    "bins= 30\n",
    "\n",
    "hist_data= sample_df.select('total_amount').rdd.flatMap(lambda x: x).histogram(bins)\n",
    "\n",
    "bins= hist_data[0]\n",
    "\n",
    "count= hist_data[1]\n",
    "\n",
    "# Plot a histogram now\n",
    "plt.hist(bins[:-1], bins=bins, weights=count)"
   ]
  },
  {
   "cell_type": "markdown",
   "metadata": {},
   "source": [
    "## Box plot "
   ]
  },
  {
   "cell_type": "markdown",
   "metadata": {},
   "source": [
    "## Decisions to be made after :"
   ]
  },
  {
   "cell_type": "markdown",
   "metadata": {},
   "source": [
    "1. Find direct distance using Longitudes and Latitude, \n",
    "2. Remove extreme values of trip-distance\n",
    "3. Remove extreme values of trip-time"
   ]
  },
  {
   "cell_type": "markdown",
   "metadata": {},
   "source": [
    "### Check correlations in the sample"
   ]
  },
  {
   "cell_type": "code",
   "execution_count": 25,
   "metadata": {},
   "outputs": [],
   "source": [
    "# correlation between the variables\n",
    "df_features = sample_df.select(\"total_amount\", \"week\",\"duration_mins\",\"passenger_count\",\"trip_distance\", \"speed_mph\") \n",
    "\n",
    "# create RDD table for correlation calculation\n",
    "rdd_table = df_features.rdd.map(lambda row: row[0:])\n",
    "\n",
    "# get the correlation matrix\n",
    "corr_mat=Statistics.corr(rdd_table, method=\"pearson\")"
   ]
  },
  {
   "cell_type": "code",
   "execution_count": 27,
   "metadata": {},
   "outputs": [
    {
     "data": {
      "text/plain": [
       "<matplotlib.axes._subplots.AxesSubplot at 0x7f22cfbfd210>"
      ]
     },
     "execution_count": 27,
     "metadata": {},
     "output_type": "execute_result"
    },
    {
     "data": {
      "image/png": "[encoded data removed]",
      "text/plain": [
       "<Figure size 432x288 with 2 Axes>"
      ]
     },
     "metadata": {
      "needs_background": "light"
     },
     "output_type": "display_data"
    }
   ],
   "source": [
    "import seaborn as sn\n",
    "\n",
    "axis_labels = [\"total_amount\", \"week\",\"duration_mins\",\"passenger_count\",\"trip_distance\", \"speed_mph\"] # labels for the axes\n",
    "\n",
    "# create seabvorn heatmap with required labels\n",
    "sn.heatmap(corr_mat, xticklabels=axis_labels, yticklabels=axis_labels, annot=True)"
   ]
  },
  {
   "cell_type": "code",
   "execution_count": 46,
   "metadata": {},
   "outputs": [
    {
     "data": {
      "text/plain": [
       "<matplotlib.axes._subplots.AxesSubplot at 0x7f22ce4121d0>"
      ]
     },
     "execution_count": 46,
     "metadata": {},
     "output_type": "execute_result"
    },
    {
     "data": {
      "image/png": "[encoded data removed]",
      "text/plain": [
       "<Figure size 432x288 with 1 Axes>"
      ]
     },
     "metadata": {
      "needs_background": "light"
     },
     "output_type": "display_data"
    }
   ],
   "source": [
    "# Check the distribution of total amount with RatecodeID\n",
    "sample_df.createOrReplaceTempView(\"v_sample\")\n",
    "\n",
    "pandas_df = spark.sql(\"select v_sample.RatecodeID, v_sample.total_amount from v_sample\").toPandas()\n",
    "\n",
    "pandas_df.boxplot(by='RatecodeID')"
   ]
  },
  {
   "cell_type": "code",
   "execution_count": 47,
   "metadata": {},
   "outputs": [
    {
     "data": {
      "text/plain": [
       "<matplotlib.axes._subplots.AxesSubplot at 0x7f22ce40a210>"
      ]
     },
     "execution_count": 47,
     "metadata": {},
     "output_type": "execute_result"
    },
    {
     "data": {
      "image/png": "[encoded data removed]",
      "text/plain": [
       "<Figure size 432x288 with 1 Axes>"
      ]
     },
     "metadata": {
      "needs_background": "light"
     },
     "output_type": "display_data"
    }
   ],
   "source": [
    "# Check the distribution of total amount with taxi colour\n",
    "\n",
    "pandas_df = spark.sql(\"select v_sample.taxi_colour, v_sample.total_amount from v_sample\").toPandas()\n",
    "\n",
    "pandas_df.boxplot(by='taxi_colour')"
   ]
  },
  {
   "cell_type": "code",
   "execution_count": 48,
   "metadata": {},
   "outputs": [
    {
     "data": {
      "text/plain": [
       "<matplotlib.axes._subplots.AxesSubplot at 0x7f22ccff0050>"
      ]
     },
     "execution_count": 48,
     "metadata": {},
     "output_type": "execute_result"
    },
    {
     "data": {
      "image/png": "[encoded data removed]",
      "text/plain": [
       "<Figure size 432x288 with 1 Axes>"
      ]
     },
     "metadata": {
      "needs_background": "light"
     },
     "output_type": "display_data"
    }
   ],
   "source": [
    "# Check the distribution of total amount with payment type\n",
    "\n",
    "pandas_df = spark.sql(\"select v_sample.payment_type, v_sample.total_amount from v_sample\").toPandas()\n",
    "\n",
    "pandas_df.boxplot(by='payment_type')"
   ]
  },
  {
   "cell_type": "code",
   "execution_count": 49,
   "metadata": {},
   "outputs": [
    {
     "data": {
      "text/plain": [
       "<matplotlib.axes._subplots.AxesSubplot at 0x7f22cdbc3b10>"
      ]
     },
     "execution_count": 49,
     "metadata": {},
     "output_type": "execute_result"
    },
    {
     "data": {
      "image/png": "[encoded data removed]",
      "text/plain": [
       "<Figure size 432x288 with 1 Axes>"
      ]
     },
     "metadata": {
      "needs_background": "light"
     },
     "output_type": "display_data"
    }
   ],
   "source": [
    "# Check the distribution of total amount with passenger count\n",
    "\n",
    "pandas_df = spark.sql(\"select v_sample.passenger_count, v_sample.total_amount from v_sample\").toPandas()\n",
    "\n",
    "pandas_df.boxplot(by='passenger_count')"
   ]
  },
  {
   "cell_type": "code",
   "execution_count": 50,
   "metadata": {},
   "outputs": [
    {
     "data": {
      "text/plain": [
       "<matplotlib.axes._subplots.AxesSubplot at 0x7f22cd43aa50>"
      ]
     },
     "execution_count": 50,
     "metadata": {},
     "output_type": "execute_result"
    },
    {
     "data": {
      "image/png": "[encoded data removed]",
      "text/plain": [
       "<Figure size 432x288 with 1 Axes>"
      ]
     },
     "metadata": {
      "needs_background": "light"
     },
     "output_type": "display_data"
    }
   ],
   "source": [
    "# Check the distribution of total amount with month\n",
    "\n",
    "pandas_df = spark.sql(\"select v_sample.month, v_sample.total_amount from v_sample\").toPandas()\n",
    "\n",
    "pandas_df.boxplot(by='month')"
   ]
  },
  {
   "cell_type": "code",
   "execution_count": 51,
   "metadata": {},
   "outputs": [
    {
     "data": {
      "text/plain": [
       "<matplotlib.axes._subplots.AxesSubplot at 0x7f22cd2dccd0>"
      ]
     },
     "execution_count": 51,
     "metadata": {},
     "output_type": "execute_result"
    },
    {
     "data": {
      "image/png": "[encoded data removed]",
      "text/plain": [
       "<Figure size 432x288 with 1 Axes>"
      ]
     },
     "metadata": {
      "needs_background": "light"
     },
     "output_type": "display_data"
    }
   ],
   "source": [
    "# Check the distribution of total amount with year\n",
    "\n",
    "pandas_df = spark.sql(\"select v_sample.year, v_sample.total_amount from v_sample\").toPandas()\n",
    "\n",
    "pandas_df.boxplot(by='year')"
   ]
  },
  {
   "cell_type": "code",
   "execution_count": null,
   "metadata": {},
   "outputs": [],
   "source": []
  }
 ],
 "metadata": {
  "kernelspec": {
   "display_name": "Python 3",
   "language": "python",
   "name": "python3"
  },
  "language_info": {
   "codemirror_mode": {
    "name": "ipython",
    "version": 3
   },
   "file_extension": ".py",
   "mimetype": "text/x-python",
   "name": "python",
   "nbconvert_exporter": "python",
   "pygments_lexer": "ipython3",
   "version": "3.7.6"
  }
 },
 "nbformat": 4,
 "nbformat_minor": 4
}
