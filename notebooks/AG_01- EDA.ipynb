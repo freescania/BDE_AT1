{
 "cells": [
  {
   "cell_type": "code",
   "execution_count": 1,
   "metadata": {},
   "outputs": [],
   "source": [
    "# Import required packages\n",
    "import boto3\n",
    "from pyspark.sql import SparkSession\n",
    "from pyspark.sql.types import IntegerType, DoubleType\n",
    "import pyspark.sql.functions as F"
   ]
  },
  {
   "cell_type": "code",
   "execution_count": 2,
   "metadata": {},
   "outputs": [],
   "source": [
    "# Create a local spark session\n",
    "spark = SparkSession.builder \\\n",
    "        .appName('nyc-taxi-eda') \\\n",
    "        .getOrCreate()"
   ]
  },
  {
   "cell_type": "code",
   "execution_count": 3,
   "metadata": {},
   "outputs": [],
   "source": [
    "# Set parameters \n",
    "bucket_name = \"nyc-tlc\" # s3 bucket name with required nyc tlc files"
   ]
  },
  {
   "cell_type": "code",
   "execution_count": 4,
   "metadata": {},
   "outputs": [],
   "source": [
    "# Create function to read S3 bucket\n",
    "def list_bucket_contents(bucket, match=''):\n",
    "    files = []\n",
    "    s3_resource = boto3.resource('s3')\n",
    "    bucket_resource = s3_resource.Bucket(bucket)\n",
    "    for key in bucket_resource.objects.all():\n",
    "        if match in key.key:\n",
    "            files.append(key.key)\n",
    "    return files"
   ]
  },
  {
   "cell_type": "code",
   "execution_count": 5,
   "metadata": {},
   "outputs": [],
   "source": [
    "colours = [\"yellow\",\"green\"]\n",
    "years = [\"2015\",\"2016\"]\n",
    "files = []\n",
    "\n",
    "for year in years:\n",
    "    for colour in colours:\n",
    "        match = colour + \"_tripdata_\" + year\n",
    "        files.extend(list_bucket_contents(bucket=bucket_name, match=match))"
   ]
  },
  {
   "cell_type": "markdown",
   "metadata": {},
   "source": [
    "## Yellow Trip Data"
   ]
  },
  {
   "cell_type": "code",
   "execution_count": 6,
   "metadata": {},
   "outputs": [
    {
     "name": "stdout",
     "output_type": "stream",
     "text": [
      "+--------+--------------------+---------------------+---------------+-------------+-------------------+------------------+----------+------------------+-------------------+------------------+------------+-----------+-----+-------+----------+------------+---------------------+------------+\n",
      "|VendorID|tpep_pickup_datetime|tpep_dropoff_datetime|passenger_count|trip_distance|   pickup_longitude|   pickup_latitude|RateCodeID|store_and_fwd_flag|  dropoff_longitude|  dropoff_latitude|payment_type|fare_amount|extra|mta_tax|tip_amount|tolls_amount|improvement_surcharge|total_amount|\n",
      "+--------+--------------------+---------------------+---------------+-------------+-------------------+------------------+----------+------------------+-------------------+------------------+------------+-----------+-----+-------+----------+------------+---------------------+------------+\n",
      "|       2| 2015-01-15 19:05:39|  2015-01-15 19:23:42|              1|         1.59|   -73.993896484375|40.750110626220703|         1|                 N|-73.974784851074219|40.750617980957031|           1|         12|    1|    0.5|      3.25|           0|                  0.3|       17.05|\n",
      "|       1| 2015-01-10 20:33:38|  2015-01-10 20:53:28|              1|         3.30| -74.00164794921875|  40.7242431640625|         1|                 N|-73.994415283203125|40.759109497070313|           1|       14.5|  0.5|    0.5|         2|           0|                  0.3|        17.8|\n",
      "|       1| 2015-01-10 20:33:38|  2015-01-10 20:43:41|              1|         1.80|-73.963340759277344|40.802787780761719|         1|                 N|-73.951820373535156|40.824413299560547|           2|        9.5|  0.5|    0.5|         0|           0|                  0.3|        10.8|\n",
      "|       1| 2015-01-10 20:33:39|  2015-01-10 20:35:31|              1|          .50|-74.009086608886719|40.713817596435547|         1|                 N|-74.004325866699219|40.719985961914063|           2|        3.5|  0.5|    0.5|         0|           0|                  0.3|         4.8|\n",
      "|       1| 2015-01-10 20:33:39|  2015-01-10 20:52:58|              1|         3.00|-73.971176147460938|40.762428283691406|         1|                 N|-74.004180908203125|40.742652893066406|           2|         15|  0.5|    0.5|         0|           0|                  0.3|        16.3|\n",
      "|       1| 2015-01-10 20:33:39|  2015-01-10 20:53:52|              1|         9.00|-73.874374389648438|  40.7740478515625|         1|                 N|-73.986976623535156|40.758193969726563|           1|         27|  0.5|    0.5|       6.7|        5.33|                  0.3|       40.33|\n",
      "|       1| 2015-01-10 20:33:39|  2015-01-10 20:58:31|              1|         2.20|  -73.9832763671875|40.726009368896484|         1|                 N|-73.992469787597656|  40.7496337890625|           2|         14|  0.5|    0.5|         0|           0|                  0.3|        15.3|\n",
      "|       1| 2015-01-10 20:33:39|  2015-01-10 20:42:20|              3|          .80|-74.002662658691406|40.734142303466797|         1|                 N|-73.995010375976563|40.726325988769531|           1|          7|  0.5|    0.5|      1.66|           0|                  0.3|        9.96|\n",
      "|       1| 2015-01-10 20:33:39|  2015-01-10 21:11:35|              3|        18.20|-73.783042907714844|40.644355773925781|         2|                 N|-73.987594604492187|40.759357452392578|           2|         52|    0|    0.5|         0|        5.33|                  0.3|       58.13|\n",
      "|       1| 2015-01-10 20:33:40|  2015-01-10 20:40:44|              2|          .90|-73.985588073730469|40.767948150634766|         1|                 N|-73.985916137695313|40.759365081787109|           1|        6.5|  0.5|    0.5|      1.55|           0|                  0.3|        9.35|\n",
      "+--------+--------------------+---------------------+---------------+-------------+-------------------+------------------+----------+------------------+-------------------+------------------+------------+-----------+-----+-------+----------+------------+---------------------+------------+\n",
      "only showing top 10 rows\n",
      "\n"
     ]
    }
   ],
   "source": [
    "# Read January 2018 yellow taxi cab data from S3 bucket\n",
    "yellow_df = spark.read.csv(f\"s3a://{bucket_name}/trip data/yellow_tripdata_2015-01.csv\", header=True)\n",
    "\n",
    "yellow_df.show(10)"
   ]
  },
  {
   "cell_type": "code",
   "execution_count": 7,
   "metadata": {},
   "outputs": [],
   "source": [
    "# Skipped as this takes a lot of time\n",
    "# yellow_df.count()"
   ]
  },
  {
   "cell_type": "code",
   "execution_count": 8,
   "metadata": {},
   "outputs": [
    {
     "name": "stdout",
     "output_type": "stream",
     "text": [
      "+--------+--------------------+---------------------+---------------+-------------+-------------------+------------------+----------+------------------+-------------------+------------------+------------+-----------+-----+-------+----------+------------+---------------------+------------+\n",
      "|VendorID|tpep_pickup_datetime|tpep_dropoff_datetime|passenger_count|trip_distance|   pickup_longitude|   pickup_latitude|RateCodeID|store_and_fwd_flag|  dropoff_longitude|  dropoff_latitude|payment_type|fare_amount|extra|mta_tax|tip_amount|tolls_amount|improvement_surcharge|total_amount|\n",
      "+--------+--------------------+---------------------+---------------+-------------+-------------------+------------------+----------+------------------+-------------------+------------------+------------+-----------+-----+-------+----------+------------+---------------------+------------+\n",
      "|       2| 2015-01-15 19:05:39|  2015-01-15 19:23:42|              1|         1.59|   -73.993896484375|40.750110626220703|         1|                 N|-73.974784851074219|40.750617980957031|           1|         12|    1|    0.5|      3.25|           0|                  0.3|       17.05|\n",
      "|       1| 2015-01-10 20:33:38|  2015-01-10 20:53:28|              1|         3.30| -74.00164794921875|  40.7242431640625|         1|                 N|-73.994415283203125|40.759109497070313|           1|       14.5|  0.5|    0.5|         2|           0|                  0.3|        17.8|\n",
      "|       1| 2015-01-10 20:33:38|  2015-01-10 20:43:41|              1|         1.80|-73.963340759277344|40.802787780761719|         1|                 N|-73.951820373535156|40.824413299560547|           2|        9.5|  0.5|    0.5|         0|           0|                  0.3|        10.8|\n",
      "|       1| 2015-01-10 20:33:39|  2015-01-10 20:35:31|              1|          .50|-74.009086608886719|40.713817596435547|         1|                 N|-74.004325866699219|40.719985961914063|           2|        3.5|  0.5|    0.5|         0|           0|                  0.3|         4.8|\n",
      "|       1| 2015-01-10 20:33:39|  2015-01-10 20:52:58|              1|         3.00|-73.971176147460938|40.762428283691406|         1|                 N|-74.004180908203125|40.742652893066406|           2|         15|  0.5|    0.5|         0|           0|                  0.3|        16.3|\n",
      "|       1| 2015-01-10 20:33:39|  2015-01-10 20:53:52|              1|         9.00|-73.874374389648438|  40.7740478515625|         1|                 N|-73.986976623535156|40.758193969726563|           1|         27|  0.5|    0.5|       6.7|        5.33|                  0.3|       40.33|\n",
      "|       1| 2015-01-10 20:33:39|  2015-01-10 20:58:31|              1|         2.20|  -73.9832763671875|40.726009368896484|         1|                 N|-73.992469787597656|  40.7496337890625|           2|         14|  0.5|    0.5|         0|           0|                  0.3|        15.3|\n",
      "|       1| 2015-01-10 20:33:39|  2015-01-10 20:42:20|              3|          .80|-74.002662658691406|40.734142303466797|         1|                 N|-73.995010375976563|40.726325988769531|           1|          7|  0.5|    0.5|      1.66|           0|                  0.3|        9.96|\n",
      "|       1| 2015-01-10 20:33:39|  2015-01-10 21:11:35|              3|        18.20|-73.783042907714844|40.644355773925781|         2|                 N|-73.987594604492187|40.759357452392578|           2|         52|    0|    0.5|         0|        5.33|                  0.3|       58.13|\n",
      "|       1| 2015-01-10 20:33:40|  2015-01-10 20:40:44|              2|          .90|-73.985588073730469|40.767948150634766|         1|                 N|-73.985916137695313|40.759365081787109|           1|        6.5|  0.5|    0.5|      1.55|           0|                  0.3|        9.35|\n",
      "+--------+--------------------+---------------------+---------------+-------------+-------------------+------------------+----------+------------------+-------------------+------------------+------------+-----------+-----+-------+----------+------------+---------------------+------------+\n",
      "only showing top 10 rows\n",
      "\n"
     ]
    }
   ],
   "source": [
    "yellow_df.show(10)"
   ]
  },
  {
   "cell_type": "code",
   "execution_count": 9,
   "metadata": {},
   "outputs": [
    {
     "name": "stdout",
     "output_type": "stream",
     "text": [
      "root\n",
      " |-- VendorID: string (nullable = true)\n",
      " |-- tpep_pickup_datetime: string (nullable = true)\n",
      " |-- tpep_dropoff_datetime: string (nullable = true)\n",
      " |-- passenger_count: string (nullable = true)\n",
      " |-- trip_distance: string (nullable = true)\n",
      " |-- pickup_longitude: string (nullable = true)\n",
      " |-- pickup_latitude: string (nullable = true)\n",
      " |-- RateCodeID: string (nullable = true)\n",
      " |-- store_and_fwd_flag: string (nullable = true)\n",
      " |-- dropoff_longitude: string (nullable = true)\n",
      " |-- dropoff_latitude: string (nullable = true)\n",
      " |-- payment_type: string (nullable = true)\n",
      " |-- fare_amount: string (nullable = true)\n",
      " |-- extra: string (nullable = true)\n",
      " |-- mta_tax: string (nullable = true)\n",
      " |-- tip_amount: string (nullable = true)\n",
      " |-- tolls_amount: string (nullable = true)\n",
      " |-- improvement_surcharge: string (nullable = true)\n",
      " |-- total_amount: string (nullable = true)\n",
      "\n"
     ]
    }
   ],
   "source": [
    "yellow_df.printSchema()"
   ]
  },
  {
   "cell_type": "code",
   "execution_count": 10,
   "metadata": {},
   "outputs": [
    {
     "data": {
      "text/plain": [
       "pyspark.sql.dataframe.DataFrame"
      ]
     },
     "execution_count": 10,
     "metadata": {},
     "output_type": "execute_result"
    }
   ],
   "source": [
    "type(yellow_df)"
   ]
  },
  {
   "cell_type": "code",
   "execution_count": 11,
   "metadata": {},
   "outputs": [],
   "source": [
    "yellow_df.createOrReplaceTempView(\"v_yellow_df\")"
   ]
  },
  {
   "cell_type": "code",
   "execution_count": 12,
   "metadata": {},
   "outputs": [
    {
     "name": "stdout",
     "output_type": "stream",
     "text": [
      "root\n",
      " |-- VendorID: string (nullable = true)\n",
      " |-- tpep_pickup_datetime: timestamp (nullable = true)\n",
      " |-- tpep_dropoff_datetime: timestamp (nullable = true)\n",
      " |-- passenger_count: integer (nullable = true)\n",
      " |-- trip_distance: float (nullable = true)\n",
      " |-- pickup_longitude: float (nullable = true)\n",
      " |-- pickup_latitude: float (nullable = true)\n",
      " |-- RatecodeID: integer (nullable = true)\n",
      " |-- store_and_fwd_flag: string (nullable = true)\n",
      " |-- dropoff_longitude: float (nullable = true)\n",
      " |-- dropoff_latitude: float (nullable = true)\n",
      " |-- payment_type: string (nullable = true)\n",
      " |-- fare_amount: float (nullable = true)\n",
      " |-- extra: float (nullable = true)\n",
      " |-- mta_tax: float (nullable = true)\n",
      " |-- tip_amount: float (nullable = true)\n",
      " |-- tolls_amount: float (nullable = true)\n",
      " |-- improvement_surcharge: float (nullable = true)\n",
      " |-- total_amount: float (nullable = true)\n",
      "\n"
     ]
    }
   ],
   "source": [
    "yellow_df_tbl_new = spark.sql('''SELECT \n",
    "    VendorID, \n",
    "    \n",
    "    to_timestamp(tpep_pickup_datetime, 'yyyy-MM-dd HH:mm:ss') as tpep_pickup_datetime,\n",
    "    \n",
    "    to_timestamp(tpep_dropoff_datetime, 'yyyy-MM-dd HH:mm:ss') as tpep_dropoff_datetime,\n",
    "        \n",
    "    INT(passenger_count) as passenger_count,\n",
    "\n",
    "    FLOAT(trip_distance) as trip_distance,\n",
    "\n",
    "    FLOAT(pickup_longitude) as pickup_longitude,\n",
    "\n",
    "    FLOAT(pickup_latitude) as pickup_latitude,\n",
    "\n",
    "    INT(RatecodeID) as RatecodeID,\n",
    "    \n",
    "    store_and_fwd_flag,\n",
    "\n",
    "    FLOAT(dropoff_longitude) as dropoff_longitude,\n",
    "\n",
    "    FLOAT(dropoff_latitude) as dropoff_latitude,\n",
    "\n",
    "    payment_type as payment_type,\n",
    "    \n",
    "    FLOAT(fare_amount) as fare_amount,\n",
    "\n",
    "    FLOAT(extra) as extra,\n",
    "\n",
    "    FLOAT(mta_tax) as mta_tax,\n",
    "\n",
    "    FLOAT(tip_amount) as tip_amount,\n",
    "\n",
    "    FLOAT(tolls_amount) as tolls_amount,\n",
    "\n",
    "    FLOAT(improvement_surcharge) as improvement_surcharge,\n",
    "\n",
    "    FLOAT(total_amount) as total_amount\n",
    "    \n",
    "    from v_yellow_df\n",
    "''')\n",
    "yellow_df_tbl_new.printSchema()"
   ]
  },
  {
   "cell_type": "code",
   "execution_count": 13,
   "metadata": {},
   "outputs": [
    {
     "name": "stdout",
     "output_type": "stream",
     "text": [
      "+--------+--------------------+---------------------+---------------+-------------+----------------+---------------+----------+------------------+-----------------+----------------+------------+-----------+-----+-------+----------+------------+---------------------+------------+\n",
      "|VendorID|tpep_pickup_datetime|tpep_dropoff_datetime|passenger_count|trip_distance|pickup_longitude|pickup_latitude|RatecodeID|store_and_fwd_flag|dropoff_longitude|dropoff_latitude|payment_type|fare_amount|extra|mta_tax|tip_amount|tolls_amount|improvement_surcharge|total_amount|\n",
      "+--------+--------------------+---------------------+---------------+-------------+----------------+---------------+----------+------------------+-----------------+----------------+------------+-----------+-----+-------+----------+------------+---------------------+------------+\n",
      "|       2| 2015-01-15 19:05:39|  2015-01-15 19:23:42|              1|         1.59|        -73.9939|       40.75011|         1|                 N|       -73.974785|       40.750618|           1|       12.0|  1.0|    0.5|      3.25|         0.0|                  0.3|       17.05|\n",
      "|       1| 2015-01-10 20:33:38|  2015-01-10 20:53:28|              1|          3.3|       -74.00165|      40.724243|         1|                 N|       -73.994415|        40.75911|           1|       14.5|  0.5|    0.5|       2.0|         0.0|                  0.3|        17.8|\n",
      "|       1| 2015-01-10 20:33:38|  2015-01-10 20:43:41|              1|          1.8|       -73.96334|      40.802788|         1|                 N|        -73.95182|       40.824413|           2|        9.5|  0.5|    0.5|       0.0|         0.0|                  0.3|        10.8|\n",
      "|       1| 2015-01-10 20:33:39|  2015-01-10 20:35:31|              1|          0.5|       -74.00909|      40.713818|         1|                 N|       -74.004326|       40.719986|           2|        3.5|  0.5|    0.5|       0.0|         0.0|                  0.3|         4.8|\n",
      "|       1| 2015-01-10 20:33:39|  2015-01-10 20:52:58|              1|          3.0|      -73.971176|       40.76243|         1|                 N|        -74.00418|       40.742653|           2|       15.0|  0.5|    0.5|       0.0|         0.0|                  0.3|        16.3|\n",
      "|       1| 2015-01-10 20:33:39|  2015-01-10 20:53:52|              1|          9.0|      -73.874374|      40.774048|         1|                 N|        -73.98698|       40.758194|           1|       27.0|  0.5|    0.5|       6.7|        5.33|                  0.3|       40.33|\n",
      "|       1| 2015-01-10 20:33:39|  2015-01-10 20:58:31|              1|          2.2|       -73.98328|       40.72601|         1|                 N|        -73.99247|       40.749634|           2|       14.0|  0.5|    0.5|       0.0|         0.0|                  0.3|        15.3|\n",
      "|       1| 2015-01-10 20:33:39|  2015-01-10 20:42:20|              3|          0.8|       -74.00266|      40.734142|         1|                 N|        -73.99501|       40.726326|           1|        7.0|  0.5|    0.5|      1.66|         0.0|                  0.3|        9.96|\n",
      "|       1| 2015-01-10 20:33:39|  2015-01-10 21:11:35|              3|         18.2|       -73.78304|      40.644356|         2|                 N|       -73.987595|       40.759357|           2|       52.0|  0.0|    0.5|       0.0|        5.33|                  0.3|       58.13|\n",
      "|       1| 2015-01-10 20:33:40|  2015-01-10 20:40:44|              2|          0.9|       -73.98559|       40.76795|         1|                 N|       -73.985916|       40.759365|           1|        6.5|  0.5|    0.5|      1.55|         0.0|                  0.3|        9.35|\n",
      "+--------+--------------------+---------------------+---------------+-------------+----------------+---------------+----------+------------------+-----------------+----------------+------------+-----------+-----+-------+----------+------------+---------------------+------------+\n",
      "only showing top 10 rows\n",
      "\n"
     ]
    }
   ],
   "source": [
    "yellow_df_tbl_new.show(10)"
   ]
  },
  {
   "cell_type": "code",
   "execution_count": 14,
   "metadata": {},
   "outputs": [],
   "source": [
    "# Skipped as this takes a lot of time\n",
    "# yellow_df_tbl_new.summary('count', 'min', 'max').show()"
   ]
  },
  {
   "cell_type": "markdown",
   "metadata": {},
   "source": [
    "## Green Taxi Data"
   ]
  },
  {
   "cell_type": "code",
   "execution_count": 15,
   "metadata": {},
   "outputs": [],
   "source": [
    "# Read January 2018 green taxi cab data from S3 bucket\n",
    "green_df = spark.read.csv(f\"s3a://{bucket_name}/trip data/green_tripdata_2016-01.csv\", header=True)"
   ]
  },
  {
   "cell_type": "code",
   "execution_count": 16,
   "metadata": {},
   "outputs": [
    {
     "name": "stdout",
     "output_type": "stream",
     "text": [
      "+--------+--------------------+---------------------+------------------+----------+-------------------+------------------+-------------------+------------------+---------------+-------------+-----------+-----+-------+----------+------------+---------+---------------------+------------+------------+----------+\n",
      "|VendorID|lpep_pickup_datetime|Lpep_dropoff_datetime|Store_and_fwd_flag|RateCodeID|   Pickup_longitude|   Pickup_latitude|  Dropoff_longitude|  Dropoff_latitude|Passenger_count|Trip_distance|Fare_amount|Extra|MTA_tax|Tip_amount|Tolls_amount|Ehail_fee|improvement_surcharge|Total_amount|Payment_type|Trip_type |\n",
      "+--------+--------------------+---------------------+------------------+----------+-------------------+------------------+-------------------+------------------+---------------+-------------+-----------+-----+-------+----------+------------+---------+---------------------+------------+------------+----------+\n",
      "|       2| 2016-01-01 00:29:24|  2016-01-01 00:39:36|                 N|         1|-73.928642272949219|40.680610656738281|-73.924278259277344|40.698043823242188|              1|         1.46|          8|  0.5|    0.5|      1.86|           0|     null|                  0.3|       11.16|           1|         1|\n",
      "|       2| 2016-01-01 00:19:39|  2016-01-01 00:39:18|                 N|         1|-73.952674865722656|40.723175048828125|-73.923919677734375|40.761379241943359|              1|         3.56|       15.5|  0.5|    0.5|         0|           0|     null|                  0.3|        16.8|           2|         1|\n",
      "|       2| 2016-01-01 00:19:33|  2016-01-01 00:39:48|                 N|         1|-73.971611022949219|40.676105499267578|-74.013160705566406|40.646072387695313|              1|         3.79|       16.5|  0.5|    0.5|      4.45|           0|     null|                  0.3|       22.25|           1|         1|\n",
      "|       2| 2016-01-01 00:22:12|  2016-01-01 00:38:32|                 N|         1|   -73.989501953125|40.669578552246094|-74.000648498535156|40.689033508300781|              1|         3.01|       13.5|  0.5|    0.5|         0|           0|     null|                  0.3|        14.8|           2|         1|\n",
      "|       2| 2016-01-01 00:24:01|  2016-01-01 00:39:22|                 N|         1|-73.964729309082031|40.682853698730469|-73.940719604492188|40.663013458251953|              1|         2.55|         12|  0.5|    0.5|         0|           0|     null|                  0.3|        13.3|           2|         1|\n",
      "|       2| 2016-01-01 00:32:59|  2016-01-01 00:39:35|                 N|         1|-73.891143798828125|40.746456146240234|-73.867744445800781|40.742111206054688|              1|         1.37|          7|  0.5|    0.5|         0|           0|     null|                  0.3|         8.3|           2|         1|\n",
      "|       2| 2016-01-01 00:34:42|  2016-01-01 00:39:21|                 N|         1|-73.896675109863281|40.746196746826172|-73.886192321777344|40.745689392089844|              1|          .57|          5|  0.5|    0.5|         0|           0|     null|                  0.3|         6.3|           2|         1|\n",
      "|       2| 2016-01-01 00:31:23|  2016-01-01 00:39:36|                 N|         1|-73.953353881835937|40.803558349609375|-73.949150085449219|40.794120788574219|              1|         1.01|          7|  0.5|    0.5|         0|           0|     null|                  0.3|         8.3|           2|         1|\n",
      "|       2| 2016-01-01 00:24:40|  2016-01-01 00:39:52|                 N|         1|-73.994064331054688|40.702816009521484|-73.971572875976562|40.679725646972656|              1|         2.46|         12|  0.5|    0.5|         2|           0|     null|                  0.3|        15.3|           1|         1|\n",
      "|       2| 2016-01-01 00:28:59|  2016-01-01 00:39:23|                 N|         1|-73.914131164550781|40.756641387939453|-73.917549133300781|40.739658355712891|              1|         1.61|          9|  0.5|    0.5|       1.6|           0|     null|                  0.3|        11.9|           1|         1|\n",
      "+--------+--------------------+---------------------+------------------+----------+-------------------+------------------+-------------------+------------------+---------------+-------------+-----------+-----+-------+----------+------------+---------+---------------------+------------+------------+----------+\n",
      "only showing top 10 rows\n",
      "\n"
     ]
    }
   ],
   "source": [
    "green_df.show(10)"
   ]
  },
  {
   "cell_type": "markdown",
   "metadata": {},
   "source": [
    "## There is location ID only from 2016-07. Before that, it has PU Location Longitude and Latitude."
   ]
  },
  {
   "cell_type": "code",
   "execution_count": 17,
   "metadata": {},
   "outputs": [
    {
     "name": "stdout",
     "output_type": "stream",
     "text": [
      "+-------+--------+--------------------+---------------------+------------------+----------+-------------------+------------------+-------------------+------------------+---------------+-------------+-----------+-------+-------+----------+------------+---------+---------------------+------------+------------+----------+\n",
      "|summary|VendorID|lpep_pickup_datetime|Lpep_dropoff_datetime|Store_and_fwd_flag|RateCodeID|   Pickup_longitude|   Pickup_latitude|  Dropoff_longitude|  Dropoff_latitude|Passenger_count|Trip_distance|Fare_amount|  Extra|MTA_tax|Tip_amount|Tolls_amount|Ehail_fee|improvement_surcharge|Total_amount|Payment_type|Trip_type |\n",
      "+-------+--------+--------------------+---------------------+------------------+----------+-------------------+------------------+-------------------+------------------+---------------+-------------+-----------+-------+-------+----------+------------+---------+---------------------+------------+------------+----------+\n",
      "|  count| 1445285|             1445285|              1445285|           1445285|   1445285|            1445285|           1445285|            1445285|           1445285|        1445285|      1445285|    1445285|1445285|1445285|   1445285|     1445285|        0|              1445285|     1445285|     1445285|   1445283|\n",
      "|    min|       1| 2016-01-01 00:00:00|  2016-01-01 00:00:00|                 N|         1|-115.13814544677734|                 0|-115.13513946533203|                 0|              0|          .00|      -0.01|   -0.5|   -0.5|     -0.05|      -11.08|     null|                 -0.3|       -0.01|           1|         1|\n",
      "|    max|       2| 2016-01-31 23:59:58|  2016-02-01 23:17:17|                 Y|        99|                  0|43.168006896972656|                  0|42.694789886474609|              9|        98.95|       99.8|     83|      3|     99.99|          95|     null|                 1.39|       99.96|           5|         2|\n",
      "+-------+--------+--------------------+---------------------+------------------+----------+-------------------+------------------+-------------------+------------------+---------------+-------------+-----------+-------+-------+----------+------------+---------+---------------------+------------+------------+----------+\n",
      "\n"
     ]
    }
   ],
   "source": [
    "green_df.summary('count', 'min', 'max').show()"
   ]
  },
  {
   "cell_type": "code",
   "execution_count": 18,
   "metadata": {},
   "outputs": [],
   "source": [
    "# Create a view with green dataframe table\n",
    "green_df.createOrReplaceTempView(\"v_green_df\")"
   ]
  },
  {
   "cell_type": "code",
   "execution_count": 19,
   "metadata": {},
   "outputs": [
    {
     "name": "stdout",
     "output_type": "stream",
     "text": [
      "+--------+--------------------+---------------------+------------------+----------+-------------------+------------------+-------------------+------------------+---------------+-------------+-----------+-----+-------+----------+------------+---------+---------------------+------------+------------+----------+\n",
      "|VendorID|lpep_pickup_datetime|Lpep_dropoff_datetime|Store_and_fwd_flag|RateCodeID|   Pickup_longitude|   Pickup_latitude|  Dropoff_longitude|  Dropoff_latitude|Passenger_count|Trip_distance|Fare_amount|Extra|MTA_tax|Tip_amount|Tolls_amount|Ehail_fee|improvement_surcharge|Total_amount|Payment_type|Trip_type |\n",
      "+--------+--------------------+---------------------+------------------+----------+-------------------+------------------+-------------------+------------------+---------------+-------------+-----------+-----+-------+----------+------------+---------+---------------------+------------+------------+----------+\n",
      "|       2| 2016-01-01 00:29:24|  2016-01-01 00:39:36|                 N|         1|-73.928642272949219|40.680610656738281|-73.924278259277344|40.698043823242188|              1|         1.46|          8|  0.5|    0.5|      1.86|           0|     null|                  0.3|       11.16|           1|         1|\n",
      "|       2| 2016-01-01 00:19:39|  2016-01-01 00:39:18|                 N|         1|-73.952674865722656|40.723175048828125|-73.923919677734375|40.761379241943359|              1|         3.56|       15.5|  0.5|    0.5|         0|           0|     null|                  0.3|        16.8|           2|         1|\n",
      "|       2| 2016-01-01 00:19:33|  2016-01-01 00:39:48|                 N|         1|-73.971611022949219|40.676105499267578|-74.013160705566406|40.646072387695313|              1|         3.79|       16.5|  0.5|    0.5|      4.45|           0|     null|                  0.3|       22.25|           1|         1|\n",
      "|       2| 2016-01-01 00:22:12|  2016-01-01 00:38:32|                 N|         1|   -73.989501953125|40.669578552246094|-74.000648498535156|40.689033508300781|              1|         3.01|       13.5|  0.5|    0.5|         0|           0|     null|                  0.3|        14.8|           2|         1|\n",
      "|       2| 2016-01-01 00:24:01|  2016-01-01 00:39:22|                 N|         1|-73.964729309082031|40.682853698730469|-73.940719604492188|40.663013458251953|              1|         2.55|         12|  0.5|    0.5|         0|           0|     null|                  0.3|        13.3|           2|         1|\n",
      "|       2| 2016-01-01 00:32:59|  2016-01-01 00:39:35|                 N|         1|-73.891143798828125|40.746456146240234|-73.867744445800781|40.742111206054688|              1|         1.37|          7|  0.5|    0.5|         0|           0|     null|                  0.3|         8.3|           2|         1|\n",
      "|       2| 2016-01-01 00:34:42|  2016-01-01 00:39:21|                 N|         1|-73.896675109863281|40.746196746826172|-73.886192321777344|40.745689392089844|              1|          .57|          5|  0.5|    0.5|         0|           0|     null|                  0.3|         6.3|           2|         1|\n",
      "|       2| 2016-01-01 00:31:23|  2016-01-01 00:39:36|                 N|         1|-73.953353881835937|40.803558349609375|-73.949150085449219|40.794120788574219|              1|         1.01|          7|  0.5|    0.5|         0|           0|     null|                  0.3|         8.3|           2|         1|\n",
      "|       2| 2016-01-01 00:24:40|  2016-01-01 00:39:52|                 N|         1|-73.994064331054688|40.702816009521484|-73.971572875976562|40.679725646972656|              1|         2.46|         12|  0.5|    0.5|         2|           0|     null|                  0.3|        15.3|           1|         1|\n",
      "|       2| 2016-01-01 00:28:59|  2016-01-01 00:39:23|                 N|         1|-73.914131164550781|40.756641387939453|-73.917549133300781|40.739658355712891|              1|         1.61|          9|  0.5|    0.5|       1.6|           0|     null|                  0.3|        11.9|           1|         1|\n",
      "|       2| 2016-01-01 00:32:25|  2016-01-01 00:39:48|                 N|         1|-73.911178588867188|40.761829376220703|-73.921028137207031|40.763126373291016|              1|          .72|          6|  0.5|    0.5|      1.82|           0|     null|                  0.3|        9.12|           1|         1|\n",
      "|       2| 2016-01-01 00:37:51|  2016-01-01 00:39:31|                 N|         1|-73.958168029785156|40.715328216552734|-73.962753295898438|40.718177795410156|              1|          .32|        3.5|  0.5|    0.5|      0.96|           0|     null|                  0.3|        5.76|           1|         1|\n",
      "|       2| 2016-01-01 00:21:39|  2016-01-01 00:39:37|                 N|         1|-73.946678161621094|40.800785064697266|-73.924903869628906|40.842765808105469|              1|         3.54|       14.5|  0.5|    0.5|         0|           0|     null|                  0.3|        15.8|           2|         1|\n",
      "|       2| 2016-01-01 00:34:04|  2016-01-01 00:39:49|                 N|         1|-73.914291381835938|40.763439178466797| -73.90240478515625|40.775833129882812|              1|         1.10|          6|  0.5|    0.5|         0|           0|     null|                  0.3|         7.3|           2|         1|\n",
      "|       2| 2016-01-01 00:26:08|  2016-01-01 00:39:46|                 N|         1|-73.943374633789063|40.824314117431641|-73.932029724121094|40.850196838378906|              1|         2.28|         11|  0.5|    0.5|         2|           0|     null|                  0.3|        14.3|           1|         1|\n",
      "|       2| 2016-01-01 00:35:40|  2016-01-01 00:39:33|                 N|         1| -73.96697998046875|40.632152557373047|-73.966880798339844|40.640159606933594|              1|          .68|        4.5|  0.5|    0.5|      1.16|           0|     null|                  0.3|        6.96|           1|         1|\n",
      "|       2| 2016-01-01 00:25:05|  2016-01-01 00:38:43|                 N|         1|-73.937843322753906|40.814445495605469|-73.951583862304688|40.811866760253906|              1|         1.36|         10|  0.5|    0.5|         0|           0|     null|                  0.3|        11.3|           2|         1|\n",
      "|       2| 2016-01-01 00:17:40|  2016-01-01 00:39:49|                 N|         1|-73.990364074707031|40.690513610839844|-73.947746276855469|40.693325042724609|              1|         3.07|       15.5|  0.5|    0.5|         3|           0|     null|                  0.3|        19.8|           1|         1|\n",
      "|       2| 2016-01-01 00:31:16|  2016-01-01 00:39:23|                 N|         1|-73.883827209472656|    40.74755859375|-73.855522155761719|40.751564025878906|              1|         1.52|        7.5|  0.5|    0.5|         0|           0|     null|                  0.3|         8.8|           2|         1|\n",
      "|       2| 2016-01-01 00:25:58|  2016-01-01 00:39:17|                 N|         1|-73.980354309082031|40.684413909912109|-73.976943969726563|40.659637451171875|              1|         2.55|       11.5|  0.5|    0.5|         0|           0|     null|                  0.3|        12.8|           2|         1|\n",
      "+--------+--------------------+---------------------+------------------+----------+-------------------+------------------+-------------------+------------------+---------------+-------------+-----------+-----+-------+----------+------------+---------+---------------------+------------+------------+----------+\n",
      "only showing top 20 rows\n",
      "\n"
     ]
    }
   ],
   "source": [
    "spark.sql('select * from v_green_df').show()"
   ]
  },
  {
   "cell_type": "code",
   "execution_count": 21,
   "metadata": {},
   "outputs": [
    {
     "name": "stdout",
     "output_type": "stream",
     "text": [
      "root\n",
      " |-- VendorID: string (nullable = true)\n",
      " |-- tpep_pickup_datetime: timestamp (nullable = true)\n",
      " |-- tpep_dropoff_datetime: timestamp (nullable = true)\n",
      " |-- passenger_count: integer (nullable = true)\n",
      " |-- trip_distance: float (nullable = true)\n",
      " |-- pickup_longitude: float (nullable = true)\n",
      " |-- pickup_latitude: float (nullable = true)\n",
      " |-- RatecodeID: integer (nullable = true)\n",
      " |-- store_and_fwd_flag: string (nullable = true)\n",
      " |-- dropoff_longitude: float (nullable = true)\n",
      " |-- dropoff_latitude: float (nullable = true)\n",
      " |-- payment_type: string (nullable = true)\n",
      " |-- fare_amount: float (nullable = true)\n",
      " |-- extra: float (nullable = true)\n",
      " |-- mta_tax: float (nullable = true)\n",
      " |-- tip_amount: float (nullable = true)\n",
      " |-- tolls_amount: float (nullable = true)\n",
      " |-- improvement_surcharge: float (nullable = true)\n",
      " |-- total_amount: float (nullable = true)\n",
      " |-- trip_type: string (nullable = true)\n",
      "\n"
     ]
    }
   ],
   "source": [
    "# do type conversions of green dataframe table\n",
    "green_df_new = spark.sql('''SELECT \n",
    "    VendorID,\n",
    "    \n",
    "    to_timestamp(lpep_pickup_datetime, 'yyyy-MM-dd HH:mm:ss') as tpep_pickup_datetime,\n",
    "    \n",
    "    to_timestamp(lpep_dropoff_datetime, 'yyyy-MM-dd HH:mm:ss') as tpep_dropoff_datetime,\n",
    "    \n",
    "    INT(passenger_count) as passenger_count,\n",
    "\n",
    "    FLOAT(trip_distance) as trip_distance,\n",
    "\n",
    "    FLOAT(pickup_longitude) as pickup_longitude,\n",
    "\n",
    "    FLOAT(pickup_latitude) as pickup_latitude,\n",
    "\n",
    "    INT(RatecodeID) as RatecodeID,\n",
    "    \n",
    "    store_and_fwd_flag,\n",
    "\n",
    "    FLOAT(dropoff_longitude) as dropoff_longitude,\n",
    "\n",
    "    FLOAT(dropoff_latitude) as dropoff_latitude,\n",
    "\n",
    "    payment_type as payment_type,\n",
    "    \n",
    "    FLOAT(fare_amount) as fare_amount,\n",
    "\n",
    "    FLOAT(extra) as extra,\n",
    "\n",
    "    FLOAT(mta_tax) as mta_tax,\n",
    "\n",
    "    FLOAT(tip_amount) as tip_amount,\n",
    "\n",
    "    FLOAT(tolls_amount) as tolls_amount,\n",
    "\n",
    "    FLOAT(improvement_surcharge) as improvement_surcharge,\n",
    "\n",
    "    FLOAT(total_amount) as total_amount,\n",
    "    \n",
    "    `Trip_type ` as trip_type\n",
    "    \n",
    "    from v_green_df\n",
    "''')\n",
    "green_df_new.printSchema()"
   ]
  },
  {
   "cell_type": "markdown",
   "metadata": {},
   "source": [
    "## EDA Starts- For both Green and Yellow Trip data\n",
    "### Questions to ask\n",
    "* How many total records?\n",
    "* How many records are there with passenger_count = 0?\n",
    "* Trip distance = 0.00\n",
    "* negative total_amount\n",
    "* payment type = 6 (voided)\n",
    "* Trip types- Hail and Dispatch\n",
    "* Negotiated Fare- RateCodeID\n",
    "* Total time in negative"
   ]
  },
  {
   "cell_type": "markdown",
   "metadata": {},
   "source": [
    "### Green Trip Data"
   ]
  },
  {
   "cell_type": "code",
   "execution_count": 22,
   "metadata": {},
   "outputs": [],
   "source": [
    "green_df_new.createOrReplaceTempView(\"v_green_df_new\")"
   ]
  },
  {
   "cell_type": "code",
   "execution_count": 23,
   "metadata": {},
   "outputs": [
    {
     "name": "stdout",
     "output_type": "stream",
     "text": [
      "+--------+\n",
      "|count(1)|\n",
      "+--------+\n",
      "| 1445285|\n",
      "+--------+\n",
      "\n"
     ]
    }
   ],
   "source": [
    "# How many total records?\n",
    "# How many records are there with passenger_count = 0?\n",
    "spark.sql('''\n",
    "    select count(*) from v_green_df_new\n",
    "''').show()"
   ]
  },
  {
   "cell_type": "code",
   "execution_count": 24,
   "metadata": {},
   "outputs": [
    {
     "name": "stdout",
     "output_type": "stream",
     "text": [
      "+--------+\n",
      "|count(1)|\n",
      "+--------+\n",
      "|     411|\n",
      "+--------+\n",
      "\n"
     ]
    }
   ],
   "source": [
    "# How many records are there with passenger_count = 0?\n",
    "spark.sql('''\n",
    "    select count(*) from v_green_df_new where passenger_count <1\n",
    "''').show()"
   ]
  },
  {
   "cell_type": "code",
   "execution_count": 25,
   "metadata": {},
   "outputs": [
    {
     "name": "stdout",
     "output_type": "stream",
     "text": [
      "+--------+\n",
      "|count(1)|\n",
      "+--------+\n",
      "|       0|\n",
      "+--------+\n",
      "\n"
     ]
    }
   ],
   "source": [
    "# Trip distance < 0.00\n",
    "spark.sql('''\n",
    "    select count(*) from v_green_df_new where trip_distance < 0\n",
    "''').show()"
   ]
  },
  {
   "cell_type": "code",
   "execution_count": 26,
   "metadata": {},
   "outputs": [
    {
     "name": "stdout",
     "output_type": "stream",
     "text": [
      "+--------+\n",
      "|count(1)|\n",
      "+--------+\n",
      "|    6836|\n",
      "+--------+\n",
      "\n"
     ]
    }
   ],
   "source": [
    "# negative total_amount\n",
    "spark.sql('''\n",
    "    select count(*) from v_green_df_new where total_amount <1\n",
    "''').show()"
   ]
  },
  {
   "cell_type": "code",
   "execution_count": 27,
   "metadata": {},
   "outputs": [
    {
     "name": "stdout",
     "output_type": "stream",
     "text": [
      "+------------+--------+\n",
      "|payment_type|count(1)|\n",
      "+------------+--------+\n",
      "|           3|    6084|\n",
      "|           5|     101|\n",
      "|           1|  713168|\n",
      "|           4|    4464|\n",
      "|           2|  721468|\n",
      "+------------+--------+\n",
      "\n"
     ]
    }
   ],
   "source": [
    "# group by payment type\n",
    "spark.sql('''\n",
    "    select payment_type, count(*) from v_green_df_new group by payment_type\n",
    "''').show()"
   ]
  },
  {
   "cell_type": "code",
   "execution_count": 28,
   "metadata": {},
   "outputs": [
    {
     "name": "stdout",
     "output_type": "stream",
     "text": [
      "+---------+--------+\n",
      "|trip_type|count(1)|\n",
      "+---------+--------+\n",
      "|     null|       2|\n",
      "|        1| 1412368|\n",
      "|        2|   32915|\n",
      "+---------+--------+\n",
      "\n"
     ]
    }
   ],
   "source": [
    "# group by trip type\n",
    "spark.sql('''\n",
    "    select trip_type, count(*) from v_green_df_new group by trip_type\n",
    "''').show()"
   ]
  },
  {
   "cell_type": "code",
   "execution_count": 29,
   "metadata": {},
   "outputs": [
    {
     "name": "stdout",
     "output_type": "stream",
     "text": [
      "+----------+--------+\n",
      "|RatecodeID|count(1)|\n",
      "+----------+--------+\n",
      "|         1| 1406863|\n",
      "|         6|      21|\n",
      "|         3|    1002|\n",
      "|         5|   33034|\n",
      "|         4|     743|\n",
      "|         2|    3620|\n",
      "|        99|       2|\n",
      "+----------+--------+\n",
      "\n"
     ]
    }
   ],
   "source": [
    "# group by RatecodeID\n",
    "spark.sql('''\n",
    "    select RatecodeID, count(*) from v_green_df_new group by RatecodeID\n",
    "''').show()"
   ]
  },
  {
   "cell_type": "code",
   "execution_count": 30,
   "metadata": {},
   "outputs": [
    {
     "name": "stdout",
     "output_type": "stream",
     "text": [
      "+--------+\n",
      "|count(1)|\n",
      "+--------+\n",
      "|       0|\n",
      "+--------+\n",
      "\n"
     ]
    }
   ],
   "source": [
    "# Find the count of records which have Dropoff time greater than Pickup time \n",
    "spark.sql('''\n",
    "    select count(*) from v_green_df_new where tpep_dropoff_datetime < tpep_pickup_datetime\n",
    "''').show()"
   ]
  },
  {
   "cell_type": "code",
   "execution_count": null,
   "metadata": {},
   "outputs": [],
   "source": []
  },
  {
   "cell_type": "code",
   "execution_count": null,
   "metadata": {},
   "outputs": [],
   "source": []
  }
 ],
 "metadata": {
  "kernelspec": {
   "display_name": "Python 3",
   "language": "python",
   "name": "python3"
  },
  "language_info": {
   "codemirror_mode": {
    "name": "ipython",
    "version": 3
   },
   "file_extension": ".py",
   "mimetype": "text/x-python",
   "name": "python",
   "nbconvert_exporter": "python",
   "pygments_lexer": "ipython3",
   "version": "3.7.6"
  }
 },
 "nbformat": 4,
 "nbformat_minor": 4
}
