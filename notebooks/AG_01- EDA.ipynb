{
 "cells": [
  {
   "cell_type": "code",
   "execution_count": 2,
   "metadata": {},
   "outputs": [],
   "source": [
    "# Import required packages\n",
    "import boto3\n",
    "from pyspark.sql import SparkSession\n",
    "from pyspark.sql.types import IntegerType, DoubleType\n",
    "import pyspark.sql.functions as F"
   ]
  },
  {
   "cell_type": "code",
   "execution_count": 3,
   "metadata": {},
   "outputs": [],
   "source": [
    "# Create a local spark session\n",
    "spark = SparkSession.builder \\\n",
    "        .appName('nyc-taxi-eda') \\\n",
    "        .getOrCreate()"
   ]
  },
  {
   "cell_type": "code",
   "execution_count": 4,
   "metadata": {},
   "outputs": [],
   "source": [
    "# Set parameters \n",
    "bucket_name = \"nyc-tlc\" # s3 bucket name with required nyc tlc files"
   ]
  },
  {
   "cell_type": "code",
   "execution_count": 5,
   "metadata": {},
   "outputs": [],
   "source": [
    "# Create function to read S3 bucket\n",
    "def list_bucket_contents(bucket, match=''):\n",
    "    files = []\n",
    "    s3_resource = boto3.resource('s3')\n",
    "    bucket_resource = s3_resource.Bucket(bucket)\n",
    "    for key in bucket_resource.objects.all():\n",
    "        if match in key.key:\n",
    "            files.append(key.key)\n",
    "    return files"
   ]
  },
  {
   "cell_type": "code",
   "execution_count": 6,
   "metadata": {},
   "outputs": [],
   "source": [
    "colours = [\"yellow\",\"green\"]\n",
    "years = [\"2015\",\"2016\"]\n",
    "files = []\n",
    "\n",
    "for year in years:\n",
    "    for colour in colours:\n",
    "        match = colour + \"_tripdata_\" + year\n",
    "        files.extend(list_bucket_contents(bucket=bucket_name, match=match))"
   ]
  },
  {
   "cell_type": "code",
   "execution_count": 7,
   "metadata": {},
   "outputs": [],
   "source": [
    "# Read January 2018 yellow taxi cab data from S3 bucket\n",
    "yellow_df = spark.read.csv(f\"s3a://{bucket_name}/trip data/yellow_tripdata_2016-01.csv\", header=True)"
   ]
  },
  {
   "cell_type": "code",
   "execution_count": 8,
   "metadata": {},
   "outputs": [
    {
     "name": "stdout",
     "output_type": "stream",
     "text": [
      "+--------+--------------------+---------------------+---------------+-------------+-------------------+------------------+----------+------------------+-------------------+------------------+------------+-----------+-----+-------+----------+------------+---------------------+------------+\n",
      "|VendorID|tpep_pickup_datetime|tpep_dropoff_datetime|passenger_count|trip_distance|   pickup_longitude|   pickup_latitude|RatecodeID|store_and_fwd_flag|  dropoff_longitude|  dropoff_latitude|payment_type|fare_amount|extra|mta_tax|tip_amount|tolls_amount|improvement_surcharge|total_amount|\n",
      "+--------+--------------------+---------------------+---------------+-------------+-------------------+------------------+----------+------------------+-------------------+------------------+------------+-----------+-----+-------+----------+------------+---------------------+------------+\n",
      "|       2| 2016-01-01 00:00:00|  2016-01-01 00:00:00|              2|         1.10|-73.990371704101563|40.734695434570313|         1|                 N|-73.981842041015625|40.732406616210937|           2|        7.5|  0.5|    0.5|         0|           0|                  0.3|         8.8|\n",
      "|       2| 2016-01-01 00:00:00|  2016-01-01 00:00:00|              5|         4.90|-73.980781555175781|40.729911804199219|         1|                 N|-73.944473266601563|40.716678619384766|           1|         18|  0.5|    0.5|         0|           0|                  0.3|        19.3|\n",
      "|       2| 2016-01-01 00:00:00|  2016-01-01 00:00:00|              1|        10.54|-73.984550476074219|  40.6795654296875|         1|                 N|-73.950271606445313|40.788925170898438|           1|         33|  0.5|    0.5|         0|           0|                  0.3|        34.3|\n",
      "|       2| 2016-01-01 00:00:00|  2016-01-01 00:00:00|              1|         4.75| -73.99346923828125|40.718990325927734|         1|                 N|-73.962242126464844|40.657333374023437|           2|       16.5|    0|    0.5|         0|           0|                  0.3|        17.3|\n",
      "|       2| 2016-01-01 00:00:00|  2016-01-01 00:00:00|              3|         1.76|-73.960624694824219|40.781330108642578|         1|                 N|-73.977264404296875|40.758514404296875|           2|          8|    0|    0.5|         0|           0|                  0.3|         8.8|\n",
      "|       2| 2016-01-01 00:00:00|  2016-01-01 00:18:30|              2|         5.52|-73.980117797851563|40.743049621582031|         1|                 N|-73.913490295410156|40.763141632080078|           2|         19|  0.5|    0.5|         0|           0|                  0.3|        20.3|\n",
      "|       2| 2016-01-01 00:00:00|  2016-01-01 00:26:45|              2|         7.45|-73.994056701660156|40.719989776611328|         1|                 N|-73.966361999511719|40.789871215820313|           2|         26|  0.5|    0.5|         0|           0|                  0.3|        27.3|\n",
      "|       1| 2016-01-01 00:00:01|  2016-01-01 00:11:55|              1|         1.20|-73.979423522949219|40.744613647460938|         1|                 N|-73.992034912109375|40.753944396972656|           2|          9|  0.5|    0.5|         0|           0|                  0.3|        10.3|\n",
      "|       1| 2016-01-01 00:00:02|  2016-01-01 00:11:14|              1|         6.00|-73.947151184082031|40.791046142578125|         1|                 N|-73.920768737792969|40.865577697753906|           2|         18|  0.5|    0.5|         0|           0|                  0.3|        19.3|\n",
      "|       2| 2016-01-01 00:00:02|  2016-01-01 00:11:08|              1|         3.21|-73.998344421386719|40.723896026611328|         1|                 N|   -73.995849609375|40.688400268554688|           2|       11.5|  0.5|    0.5|         0|           0|                  0.3|        12.8|\n",
      "+--------+--------------------+---------------------+---------------+-------------+-------------------+------------------+----------+------------------+-------------------+------------------+------------+-----------+-----+-------+----------+------------+---------------------+------------+\n",
      "only showing top 10 rows\n",
      "\n"
     ]
    }
   ],
   "source": [
    "yellow_df.show(10)"
   ]
  },
  {
   "cell_type": "code",
   "execution_count": 9,
   "metadata": {},
   "outputs": [
    {
     "name": "stdout",
     "output_type": "stream",
     "text": [
      "root\n",
      " |-- VendorID: string (nullable = true)\n",
      " |-- tpep_pickup_datetime: string (nullable = true)\n",
      " |-- tpep_dropoff_datetime: string (nullable = true)\n",
      " |-- passenger_count: string (nullable = true)\n",
      " |-- trip_distance: string (nullable = true)\n",
      " |-- pickup_longitude: string (nullable = true)\n",
      " |-- pickup_latitude: string (nullable = true)\n",
      " |-- RatecodeID: string (nullable = true)\n",
      " |-- store_and_fwd_flag: string (nullable = true)\n",
      " |-- dropoff_longitude: string (nullable = true)\n",
      " |-- dropoff_latitude: string (nullable = true)\n",
      " |-- payment_type: string (nullable = true)\n",
      " |-- fare_amount: string (nullable = true)\n",
      " |-- extra: string (nullable = true)\n",
      " |-- mta_tax: string (nullable = true)\n",
      " |-- tip_amount: string (nullable = true)\n",
      " |-- tolls_amount: string (nullable = true)\n",
      " |-- improvement_surcharge: string (nullable = true)\n",
      " |-- total_amount: string (nullable = true)\n",
      "\n"
     ]
    }
   ],
   "source": [
    "yellow_df.printSchema()"
   ]
  },
  {
   "cell_type": "code",
   "execution_count": null,
   "metadata": {},
   "outputs": [],
   "source": []
  },
  {
   "cell_type": "code",
   "execution_count": 10,
   "metadata": {},
   "outputs": [
    {
     "data": {
      "text/plain": [
       "pyspark.sql.dataframe.DataFrame"
      ]
     },
     "execution_count": 10,
     "metadata": {},
     "output_type": "execute_result"
    }
   ],
   "source": [
    "type(yellow_df)"
   ]
  },
  {
   "cell_type": "code",
   "execution_count": 11,
   "metadata": {},
   "outputs": [],
   "source": [
    "yellow_df.createOrReplaceTempView(\"yellow_df_tbl\")"
   ]
  },
  {
   "cell_type": "code",
   "execution_count": 20,
   "metadata": {},
   "outputs": [
    {
     "name": "stdout",
     "output_type": "stream",
     "text": [
      "root\n",
      " |-- VendorID: string (nullable = true)\n",
      " |-- date_format(CAST(tpep_pickup_datetime AS TIMESTAMP), YYYY-MM-DD hh:mm:ss): string (nullable = true)\n",
      " |-- date_format(CAST(tpep_dropoff_datetime AS TIMESTAMP), YYYY-MM-DD hh:mm:ss): string (nullable = true)\n",
      " |-- passenger_count: integer (nullable = true)\n",
      " |-- trip_distance: float (nullable = true)\n",
      " |-- pickup_longitude: float (nullable = true)\n",
      " |-- pickup_latitude: float (nullable = true)\n",
      " |-- RatecodeID: integer (nullable = true)\n",
      " |-- store_and_fwd_flag: string (nullable = true)\n",
      " |-- dropoff_longitude: float (nullable = true)\n",
      " |-- dropoff_latitude: float (nullable = true)\n",
      " |-- payment_type: string (nullable = true)\n",
      " |-- fare_amount: float (nullable = true)\n",
      " |-- extra: float (nullable = true)\n",
      " |-- mta_tax: float (nullable = true)\n",
      " |-- tip_amount: float (nullable = true)\n",
      " |-- tolls_amount: float (nullable = true)\n",
      " |-- improvement_surcharge: float (nullable = true)\n",
      " |-- total_amount: float (nullable = true)\n",
      "\n"
     ]
    }
   ],
   "source": [
    "yellow_df_tbl_new = spark.sql('''SELECT \n",
    "    VendorID,\n",
    "    date_format(tpep_pickup_datetime, 'YYYY-MM-DD hh:mm:ss'),\n",
    "    date_format(tpep_dropoff_datetime, 'YYYY-MM-DD hh:mm:ss'),\n",
    "    INT(passenger_count),\n",
    "\n",
    "    FLOAT(trip_distance),\n",
    "\n",
    "    FLOAT(pickup_longitude),\n",
    "\n",
    "    FLOAT(pickup_latitude),\n",
    "\n",
    "    INT(RatecodeID),\n",
    "    \n",
    "    store_and_fwd_flag,\n",
    "\n",
    "    FLOAT(dropoff_longitude),\n",
    "\n",
    "    FLOAT(dropoff_latitude),\n",
    "\n",
    "    payment_type,\n",
    "    \n",
    "    FLOAT(fare_amount),\n",
    "\n",
    "    FLOAT(extra),\n",
    "\n",
    "    FLOAT(mta_tax),\n",
    "\n",
    "    FLOAT(tip_amount),\n",
    "\n",
    "    FLOAT(tolls_amount),\n",
    "\n",
    "    FLOAT(improvement_surcharge),\n",
    "\n",
    "    FLOAT(total_amount)\n",
    "    \n",
    "    from yellow_df_tbl\n",
    "''')\n",
    "yellow_df_tbl_new.printSchema()"
   ]
  },
  {
   "cell_type": "code",
   "execution_count": 21,
   "metadata": {},
   "outputs": [
    {
     "name": "stdout",
     "output_type": "stream",
     "text": [
      "+--------+-------------------------------------------------------------------------+--------------------------------------------------------------------------+---------------+-------------+----------------+---------------+----------+------------------+-----------------+----------------+------------+-----------+-----+-------+----------+------------+---------------------+------------+\n",
      "|VendorID|date_format(CAST(tpep_pickup_datetime AS TIMESTAMP), YYYY-MM-DD hh:mm:ss)|date_format(CAST(tpep_dropoff_datetime AS TIMESTAMP), YYYY-MM-DD hh:mm:ss)|passenger_count|trip_distance|pickup_longitude|pickup_latitude|RatecodeID|store_and_fwd_flag|dropoff_longitude|dropoff_latitude|payment_type|fare_amount|extra|mta_tax|tip_amount|tolls_amount|improvement_surcharge|total_amount|\n",
      "+--------+-------------------------------------------------------------------------+--------------------------------------------------------------------------+---------------+-------------+----------------+---------------+----------+------------------+-----------------+----------------+------------+-----------+-----+-------+----------+------------+---------------------+------------+\n",
      "|       2|                                                      2016-01-01 12:00:00|                                                       2016-01-01 12:00:00|              2|          1.1|       -73.99037|      40.734695|         1|                 N|        -73.98184|       40.732407|           2|        7.5|  0.5|    0.5|       0.0|         0.0|                  0.3|         8.8|\n",
      "|       2|                                                      2016-01-01 12:00:00|                                                       2016-01-01 12:00:00|              5|          4.9|       -73.98078|       40.72991|         1|                 N|        -73.94447|        40.71668|           1|       18.0|  0.5|    0.5|       0.0|         0.0|                  0.3|        19.3|\n",
      "|       2|                                                      2016-01-01 12:00:00|                                                       2016-01-01 12:00:00|              1|        10.54|       -73.98455|      40.679565|         1|                 N|        -73.95027|       40.788925|           1|       33.0|  0.5|    0.5|       0.0|         0.0|                  0.3|        34.3|\n",
      "|       2|                                                      2016-01-01 12:00:00|                                                       2016-01-01 12:00:00|              1|         4.75|       -73.99347|       40.71899|         1|                 N|        -73.96224|       40.657333|           2|       16.5|  0.0|    0.5|       0.0|         0.0|                  0.3|        17.3|\n",
      "|       2|                                                      2016-01-01 12:00:00|                                                       2016-01-01 12:00:00|              3|         1.76|      -73.960625|       40.78133|         1|                 N|       -73.977264|       40.758514|           2|        8.0|  0.0|    0.5|       0.0|         0.0|                  0.3|         8.8|\n",
      "|       2|                                                      2016-01-01 12:00:00|                                                       2016-01-01 12:18:30|              2|         5.52|       -73.98012|       40.74305|         1|                 N|        -73.91349|        40.76314|           2|       19.0|  0.5|    0.5|       0.0|         0.0|                  0.3|        20.3|\n",
      "|       2|                                                      2016-01-01 12:00:00|                                                       2016-01-01 12:26:45|              2|         7.45|       -73.99406|       40.71999|         1|                 N|        -73.96636|        40.78987|           2|       26.0|  0.5|    0.5|       0.0|         0.0|                  0.3|        27.3|\n",
      "|       1|                                                      2016-01-01 12:00:01|                                                       2016-01-01 12:11:55|              1|          1.2|       -73.97942|      40.744614|         1|                 N|       -73.992035|       40.753944|           2|        9.0|  0.5|    0.5|       0.0|         0.0|                  0.3|        10.3|\n",
      "|       1|                                                      2016-01-01 12:00:02|                                                       2016-01-01 12:11:14|              1|          6.0|       -73.94715|      40.791046|         1|                 N|        -73.92077|       40.865578|           2|       18.0|  0.5|    0.5|       0.0|         0.0|                  0.3|        19.3|\n",
      "|       2|                                                      2016-01-01 12:00:02|                                                       2016-01-01 12:11:08|              1|         3.21|      -73.998344|      40.723896|         1|                 N|        -73.99585|         40.6884|           2|       11.5|  0.5|    0.5|       0.0|         0.0|                  0.3|        12.8|\n",
      "+--------+-------------------------------------------------------------------------+--------------------------------------------------------------------------+---------------+-------------+----------------+---------------+----------+------------------+-----------------+----------------+------------+-----------+-----+-------+----------+------------+---------------------+------------+\n",
      "only showing top 10 rows\n",
      "\n"
     ]
    }
   ],
   "source": [
    "yellow_df_tbl_new.show(10)"
   ]
  },
  {
   "cell_type": "code",
   "execution_count": 23,
   "metadata": {},
   "outputs": [
    {
     "name": "stdout",
     "output_type": "stream",
     "text": [
      "+-------+--------+-------------------------------------------------------------------------+--------------------------------------------------------------------------+---------------+-------------+----------------+---------------+----------+------------------+-----------------+----------------+------------+-----------+--------+--------+----------+------------+---------------------+------------+\n",
      "|summary|VendorID|date_format(CAST(tpep_pickup_datetime AS TIMESTAMP), YYYY-MM-DD hh:mm:ss)|date_format(CAST(tpep_dropoff_datetime AS TIMESTAMP), YYYY-MM-DD hh:mm:ss)|passenger_count|trip_distance|pickup_longitude|pickup_latitude|RatecodeID|store_and_fwd_flag|dropoff_longitude|dropoff_latitude|payment_type|fare_amount|   extra| mta_tax|tip_amount|tolls_amount|improvement_surcharge|total_amount|\n",
      "+-------+--------+-------------------------------------------------------------------------+--------------------------------------------------------------------------+---------------+-------------+----------------+---------------+----------+------------------+-----------------+----------------+------------+-----------+--------+--------+----------+------------+---------------------+------------+\n",
      "|  count|10906858|                                                                 10906858|                                                                  10906858|       10906858|     10906858|        10906858|       10906858|  10906858|          10906858|         10906858|        10906858|    10906858|   10906858|10906858|10906858|  10906858|    10906858|             10906858|    10906858|\n",
      "|    min|       1|                                                      2016-01-01 01:00:00|                                                       2016-01-01 01:00:00|              0|          0.0|      -121.93429|            0.0|         1|                 N|       -121.93349|             0.0|           1|     -957.6|  -42.61|    -0.5|    -220.8|       -17.4|                 -0.3|      -958.4|\n",
      "|    max|       2|                                                      2016-01-31 12:59:59|                                                       2016-03-88 12:54:26|              9|    8000010.0|             0.0|      60.908756|        99|                 Y|              0.0|       60.908756|           5|  111270.85|  648.87|    89.7|    998.14|      980.15|                  0.3|   111271.65|\n",
      "+-------+--------+-------------------------------------------------------------------------+--------------------------------------------------------------------------+---------------+-------------+----------------+---------------+----------+------------------+-----------------+----------------+------------+-----------+--------+--------+----------+------------+---------------------+------------+\n",
      "\n"
     ]
    }
   ],
   "source": [
    "yellow_df_tbl_new.summary('count', 'min', 'max').show()"
   ]
  },
  {
   "cell_type": "code",
   "execution_count": null,
   "metadata": {},
   "outputs": [],
   "source": []
  }
 ],
 "metadata": {
  "kernelspec": {
   "display_name": "Python 3",
   "language": "python",
   "name": "python3"
  },
  "language_info": {
   "codemirror_mode": {
    "name": "ipython",
    "version": 3
   },
   "file_extension": ".py",
   "mimetype": "text/x-python",
   "name": "python",
   "nbconvert_exporter": "python",
   "pygments_lexer": "ipython3",
   "version": "3.7.6"
  }
 },
 "nbformat": 4,
 "nbformat_minor": 4
}
