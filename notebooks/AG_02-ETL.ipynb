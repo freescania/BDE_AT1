{
 "cells": [
  {
   "cell_type": "markdown",
   "metadata": {},
   "source": [
    "# ETL of the data"
   ]
  },
  {
   "cell_type": "markdown",
   "metadata": {},
   "source": [
    "### The following records were found to be faulty and can be removed:\n",
    "* Records with Passenger count < 1\n",
    "* Records with trip distance is negative and distance is greater than 50 miles (as the greatest distance between its boundaries is 35 miles via https://www.walksofnewyork.com/blog/nyc-by-the-numbers)\n",
    "* Records with total_amount <1 and total_amount > 200 ($2.50 initial charge, Plus 50 cents per 1/5 mile when traveling above 12mph or per 60 seconds in slow traffic or when the vehicle is stopped, Plus 50 cents MTA State Surcharge for all trips that end in certain places- via https://www1.nyc.gov/site/tlc/passengers/taxi-fare.page)\n",
    "* Records with payment type = 6 (voided)\n",
    "* Records where Total time is negative and Total time is greater than 180 minutes (3 hours)\n",
    "* Records with RatecodeID 99- undefined\n",
    "* Speed under 2 miles per hour (3 to 4 mph is the average walking speed) and over 70 miles per hour (as 55 mph is the speed limit, via https://wazeopedia.waze.com/wiki/USA/New_York/Speed_limits)\n"
   ]
  },
  {
   "cell_type": "markdown",
   "metadata": {},
   "source": [
    "### Columns that can be removed\n",
    "* VendorID\n",
    "* pickup_longitude\n",
    "* pickup_latitude\n",
    "* dropoff_longitude\n",
    "* dropoff_latitude\n",
    "* store_and_fwd_flag"
   ]
  },
  {
   "cell_type": "markdown",
   "metadata": {},
   "source": [
    "### New columns\n",
    "* Taxi colour- Green or yellow\n",
    "* Trip type- 1- Street hail, 2- Dispatch. For yellow, all the trips are Street hail\n",
    "* Trip duration in seconds\n",
    "* Trip Duration bins\n",
    "* Year\n",
    "* Month\n",
    "* Day\n",
    "* Week Number"
   ]
  },
  {
   "cell_type": "markdown",
   "metadata": {},
   "source": [
    "## Start code"
   ]
  },
  {
   "cell_type": "code",
   "execution_count": 1,
   "metadata": {},
   "outputs": [],
   "source": [
    "# Import required packages\n",
    "import boto3\n",
    "import datetime as dt\n",
    "import multiprocessing as mp\n",
    "from pyspark.sql import SparkSession\n",
    "from pyspark.sql.types import BooleanType, DoubleType, IntegerType, StringType, StructType, StructField, TimestampType\n",
    "import pyspark.sql.functions as F"
   ]
  },
  {
   "cell_type": "code",
   "execution_count": 2,
   "metadata": {},
   "outputs": [],
   "source": [
    "# Set parameters \n",
    "bucket_name = \"nyc-tlc\" # s3 bucket name \n",
    "years = [\"2015\", \"2016\"]\n",
    "tlc_colours = [\"green\", \"yellow\"]\n",
    "months = ['01','02','03','04','05','06','07','08','09','10','11','12']"
   ]
  },
  {
   "cell_type": "code",
   "execution_count": 3,
   "metadata": {},
   "outputs": [],
   "source": [
    "# Create a local spark session\n",
    "spark = SparkSession.builder \\\n",
    "        .appName('nyc-taxi-etl') \\\n",
    "        .getOrCreate()"
   ]
  },
  {
   "cell_type": "markdown",
   "metadata": {},
   "source": [
    "## Extract data"
   ]
  },
  {
   "cell_type": "code",
   "execution_count": 4,
   "metadata": {},
   "outputs": [],
   "source": [
    "# Function to extract data from S3 bucket\n",
    "def extract_data_from_bucket(bucket, year, colour, month):\n",
    "    df = spark.read.csv(f\"s3a://{bucket}/trip data/{colour}_tripdata_{year}-{month}.csv\", header=True)\n",
    "    return df"
   ]
  },
  {
   "cell_type": "markdown",
   "metadata": {},
   "source": [
    "## Functions to Transform the extracted data"
   ]
  },
  {
   "cell_type": "markdown",
   "metadata": {},
   "source": [
    "### filter data\n",
    "* Records with Passenger count < 1\n",
    "* Records with trip distance < 0\n",
    "* Records with total_amount <1\n",
    "* Records with payment type = 6 (voided)\n",
    "* Records where Total time is negative\n",
    "* Records with RatecodeID 99- undefined\n",
    "* Green Trip Records with Trip type null"
   ]
  },
  {
   "cell_type": "code",
   "execution_count": 5,
   "metadata": {},
   "outputs": [],
   "source": [
    "# transform all green data\n",
    "def transform_data(df, year, month, taxi_colour):  \n",
    "    \n",
    "    #if taxi colour is yellow, convert the column's name to similar to green's column name\n",
    "    if taxi_colour=='yellow':\n",
    "        df = df.withColumnRenamed(\"tpep_pickup_datetime\", \"lpep_pickup_datetime\").\\\n",
    "                withColumnRenamed(\"tpep_dropoff_datetime\", \"lpep_dropoff_datetime\")\n",
    "    \n",
    "    if 'trip_type ' in df.columns:\n",
    "        df = df.withColumnRenamed(\"trip_type \", \"trip_type\")\n",
    "        \n",
    "    if 'Trip_type ' in df.columns:\n",
    "        df = df.withColumnRenamed(\"Trip_type \", \"trip_type\")\n",
    "    \n",
    "    df.createOrReplaceTempView(\"v_df\")\n",
    "\n",
    "    #df.show()\n",
    "    \n",
    "    # Query to convert datatypes and remoe new columns\n",
    "    sql_query = '''SELECT\n",
    "    \n",
    "        \"''' + taxi_colour +'''\" as taxi_colour,\n",
    "\n",
    "        \"''' + year +'''\" as year,\n",
    "\n",
    "        \"''' + month +'''\" as month,\n",
    "        \n",
    "        date_format(lpep_pickup_datetime,'dd') as day,\n",
    "\n",
    "        date_format(lpep_pickup_datetime,'W') as week,\n",
    "        \n",
    "        date_format(lpep_pickup_datetime, \"H\") AS pickup_hour,\n",
    "    \n",
    "    to_timestamp(lpep_pickup_datetime, 'yyyy-MM-dd HH:mm:ss') as pickup_datetime,\n",
    "    \n",
    "    to_timestamp(lpep_dropoff_datetime, 'yyyy-MM-dd HH:mm:ss') as dropoff_datetime,\n",
    "    \n",
    "    (unix_timestamp(lpep_dropoff_datetime)-unix_timestamp(lpep_pickup_datetime))/(60) as duration_mins,\n",
    "\n",
    "    case when (unix_timestamp(lpep_dropoff_datetime)-unix_timestamp(lpep_pickup_datetime))/(60) < 5 then \"Under 5 mins\"\n",
    "         when (unix_timestamp(lpep_dropoff_datetime)-unix_timestamp(lpep_pickup_datetime))/(60) between 5 and 10 then \"5-10 mins\"\n",
    "         when (unix_timestamp(lpep_dropoff_datetime)-unix_timestamp(lpep_pickup_datetime))/(60) between 10 and 20 then \"10-20 mins\"\n",
    "         when (unix_timestamp(lpep_dropoff_datetime)-unix_timestamp(lpep_pickup_datetime))/(60) between 20 and 30 then \"20-30 mins\"\n",
    "         else \"Above 30 mins\" end as cat_duration,\n",
    "        \n",
    "    INT(passenger_count) as passenger_count,\n",
    "\n",
    "    FLOAT(trip_distance) as trip_distance,\n",
    "\n",
    "    INT(RatecodeID) as RatecodeID,\n",
    "    \n",
    "    payment_type as payment_type,\n",
    "    \n",
    "    FLOAT(fare_amount) as fare_amount,\n",
    "\n",
    "    FLOAT(extra) as extra,\n",
    "\n",
    "    FLOAT(mta_tax) as mta_tax,\n",
    "\n",
    "    FLOAT(tip_amount) as tip_amount,\n",
    "\n",
    "    FLOAT(tolls_amount) as tolls_amount,\n",
    "\n",
    "    FLOAT(improvement_surcharge) as improvement_surcharge,\n",
    "\n",
    "    FLOAT(total_amount) as total_amount,\n",
    "    \n",
    "    ROUND(float(trip_distance)/((unix_timestamp(lpep_dropoff_datetime)-unix_timestamp(lpep_pickup_datetime))/3600), 6) as speed_mph,\n",
    "    '''\n",
    "    \n",
    "    if taxi_colour == 'green':\n",
    "        sql_query = sql_query + '`trip_type` as trip_type'\n",
    "        \n",
    "    elif taxi_colour == 'yellow':\n",
    "        sql_query = sql_query + '1 as trip_type'\n",
    "    \n",
    "    sql_query = sql_query + ''' from v_df\n",
    "    where\n",
    "        INT(passenger_count) > 0\n",
    "        and float(trip_distance) between 0 and 50\n",
    "        and float(total_amount) between 0 and 200\n",
    "        and payment_type != 6\n",
    "        and float((unix_timestamp(lpep_dropoff_datetime)-unix_timestamp(lpep_pickup_datetime))/(60)) between 0 and 180\n",
    "        and RatecodeID != 99\n",
    "        and float(trip_distance)/((unix_timestamp(lpep_dropoff_datetime)-unix_timestamp(lpep_pickup_datetime))/3600) between 2 and 70 \n",
    "    '''\n",
    "    #print(sql_query)\n",
    "    \n",
    "    df_new = spark.sql(sql_query)\n",
    "        \n",
    "    return df_new"
   ]
  },
  {
   "cell_type": "code",
   "execution_count": 6,
   "metadata": {},
   "outputs": [],
   "source": [
    "# Function to bring all transforms together\n",
    "def data_processing_transform(df, year, month, colour):\n",
    "    df = transform_data(df, year, month, colour)\n",
    "        \n",
    "    return df"
   ]
  },
  {
   "cell_type": "markdown",
   "metadata": {},
   "source": [
    "## Write data\n",
    "Write data to parquest files for analysis and loading into ML model at later date."
   ]
  },
  {
   "cell_type": "code",
   "execution_count": 7,
   "metadata": {},
   "outputs": [],
   "source": [
    "# Function to write data to parquet files\n",
    "def write_data_to_parquet(df, mode):\n",
    "    #df = df.repartition(F.col(\"year\"), F.col(\"month\"))\n",
    "    df.write.partitionBy(\"year\",\"month\").parquet(\"./output\", mode=mode)"
   ]
  },
  {
   "cell_type": "markdown",
   "metadata": {},
   "source": [
    "## Process Data\n",
    "For each year, month and taxi colour process csv and load into parquet files. Data is partitioned by year and month to speed up processing. Process is expected to run in full each time. Could make incremental if required."
   ]
  },
  {
   "cell_type": "code",
   "execution_count": 9,
   "metadata": {},
   "outputs": [
    {
     "name": "stdout",
     "output_type": "stream",
     "text": [
      "Data file for month: 01, year: 2015 and taxi colour: green successfully loaded in 138 seconds\n",
      "Data file for month: 02, year: 2015 and taxi colour: green successfully loaded in 113 seconds\n",
      "Data file for month: 03, year: 2015 and taxi colour: green successfully loaded in 114 seconds\n",
      "Data file for month: 04, year: 2015 and taxi colour: green successfully loaded in 117 seconds\n",
      "Data file for month: 05, year: 2015 and taxi colour: green successfully loaded in 128 seconds\n",
      "Data file for month: 06, year: 2015 and taxi colour: green successfully loaded in 108 seconds\n",
      "Data file for month: 07, year: 2015 and taxi colour: green successfully loaded in 112 seconds\n",
      "Data file for month: 08, year: 2015 and taxi colour: green successfully loaded in 106 seconds\n",
      "Data file for month: 09, year: 2015 and taxi colour: green successfully loaded in 103 seconds\n",
      "Data file for month: 10, year: 2015 and taxi colour: green successfully loaded in 114 seconds\n",
      "Data file for month: 11, year: 2015 and taxi colour: green successfully loaded in 110 seconds\n",
      "Data file for month: 12, year: 2015 and taxi colour: green successfully loaded in 108 seconds\n",
      "Data file for month: 01, year: 2015 and taxi colour: yellow successfully loaded in 781 seconds\n",
      "Data file for month: 02, year: 2015 and taxi colour: yellow successfully loaded in 1126 seconds\n",
      "Data file for month: 03, year: 2015 and taxi colour: yellow successfully loaded in 874 seconds\n",
      "Data file for month: 04, year: 2015 and taxi colour: yellow successfully loaded in 831 seconds\n",
      "Data file for month: 05, year: 2015 and taxi colour: yellow successfully loaded in 830 seconds\n",
      "Data file for month: 06, year: 2015 and taxi colour: yellow successfully loaded in 817 seconds\n",
      "Data file for month: 07, year: 2015 and taxi colour: yellow successfully loaded in 721 seconds\n",
      "Data file for month: 08, year: 2015 and taxi colour: yellow successfully loaded in 2254 seconds\n",
      "Data file for month: 09, year: 2015 and taxi colour: yellow successfully loaded in 1348 seconds\n",
      "Data file for month: 10, year: 2015 and taxi colour: yellow successfully loaded in 1524 seconds\n",
      "Data file for month: 11, year: 2015 and taxi colour: yellow successfully loaded in 1241 seconds\n",
      "Data file for month: 12, year: 2015 and taxi colour: yellow successfully loaded in 952 seconds\n",
      "Data file for month: 01, year: 2016 and taxi colour: green successfully loaded in 143 seconds\n",
      "Data file for month: 02, year: 2016 and taxi colour: green successfully loaded in 107 seconds\n",
      "Data file for month: 03, year: 2016 and taxi colour: green successfully loaded in 132 seconds\n",
      "Data file for month: 04, year: 2016 and taxi colour: green successfully loaded in 111 seconds\n",
      "Data file for month: 05, year: 2016 and taxi colour: green successfully loaded in 138 seconds\n",
      "Data file for month: 06, year: 2016 and taxi colour: green successfully loaded in 120 seconds\n",
      "Data file for month: 07, year: 2016 and taxi colour: green successfully loaded in 70 seconds\n",
      "Data file for month: 08, year: 2016 and taxi colour: green successfully loaded in 62 seconds\n",
      "Data file for month: 09, year: 2016 and taxi colour: green successfully loaded in 58 seconds\n",
      "Data file for month: 10, year: 2016 and taxi colour: green successfully loaded in 63 seconds\n",
      "Data file for month: 11, year: 2016 and taxi colour: green successfully loaded in 70 seconds\n",
      "Data file for month: 12, year: 2016 and taxi colour: green successfully loaded in 93 seconds\n",
      "Data file for month: 01, year: 2016 and taxi colour: yellow successfully loaded in 940 seconds\n",
      "Data file for month: 02, year: 2016 and taxi colour: yellow successfully loaded in 1143 seconds\n",
      "Data file for month: 03, year: 2016 and taxi colour: yellow successfully loaded in 1136 seconds\n",
      "Data file for month: 04, year: 2016 and taxi colour: yellow successfully loaded in 1053 seconds\n",
      "Data file for month: 05, year: 2016 and taxi colour: yellow successfully loaded in 1012 seconds\n",
      "Data file for month: 06, year: 2016 and taxi colour: yellow successfully loaded in 709 seconds\n",
      "Data file for month: 07, year: 2016 and taxi colour: yellow successfully loaded in 435 seconds\n",
      "Data file for month: 08, year: 2016 and taxi colour: yellow successfully loaded in 426 seconds\n",
      "Data file for month: 09, year: 2016 and taxi colour: yellow successfully loaded in 436 seconds\n",
      "Data file for month: 10, year: 2016 and taxi colour: yellow successfully loaded in 464 seconds\n",
      "Data file for month: 11, year: 2016 and taxi colour: yellow successfully loaded in 477 seconds\n",
      "Data file for month: 12, year: 2016 and taxi colour: yellow successfully loaded in 454 seconds\n"
     ]
    }
   ],
   "source": [
    "loop_num = 1\n",
    "\n",
    "# For each applicable year, month and taxi colour process files and load into parquet \n",
    "for year in years:\n",
    "    for tlc_colour in tlc_colours:\n",
    "        for month in months:\n",
    "            start = dt.datetime.now()\n",
    "            df_extract = extract_data_from_bucket(bucket_name, year, tlc_colour, month)\n",
    "            \n",
    "            df_transform = data_processing_transform(df_extract,\n",
    "                                                     year,\n",
    "                                                     month,\n",
    "                                                     tlc_colour)\n",
    "\n",
    "            #df_transform.show()\n",
    "                        \n",
    "            # Now write data to parquet\n",
    "            if loop_num == 1:\n",
    "                mode = \"overwrite\"\n",
    "            else:\n",
    "                mode = \"append\"\n",
    "            \n",
    "            write_data_to_parquet(df_transform, mode)\n",
    "            \n",
    "            loop_num += 1\n",
    "            end = dt.datetime.now()\n",
    "            process_time = abs((end - start).seconds)\n",
    "            string = \"Data file for month: {}, year: {} and taxi colour: {} successfully loaded in {} seconds\".format(month, year, tlc_colour, process_time)\n",
    "            print(string)\n",
    "            \n",
    "\n",
    "        \n",
    "    "
   ]
  },
  {
   "cell_type": "code",
   "execution_count": null,
   "metadata": {},
   "outputs": [],
   "source": []
  }
 ],
 "metadata": {
  "kernelspec": {
   "display_name": "Python 3",
   "language": "python",
   "name": "python3"
  },
  "language_info": {
   "codemirror_mode": {
    "name": "ipython",
    "version": 3
   },
   "file_extension": ".py",
   "mimetype": "text/x-python",
   "name": "python",
   "nbconvert_exporter": "python",
   "pygments_lexer": "ipython3",
   "version": "3.7.6"
  }
 },
 "nbformat": 4,
 "nbformat_minor": 4
}
